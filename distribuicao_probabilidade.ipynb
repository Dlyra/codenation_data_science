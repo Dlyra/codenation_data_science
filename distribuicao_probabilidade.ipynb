{
 "cells": [
  {
   "cell_type": "markdown",
   "metadata": {},
   "source": [
    "![](data:image/png;base64,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)"
   ]
  },
  {
   "cell_type": "markdown",
   "metadata": {},
   "source": [
    "# Desafio 3 - Distribuições de Probabilidade\n",
    "_____\n",
    "\n",
    "### Base de Dados\n",
    "\n",
    "Para a primeira parte do desafio será criado dados artificiais.\n",
    "\n",
    "Na segunda parte a análise será do _data set_ **Pulsar Star** disponibilizado pelo Dr. Robert Lyon da Universidade de Manchester. \n",
    "\n",
    "Disponível em: https://archive.ics.uci.edu/ml/datasets/HTRU2.\n",
    "\n",
    "**Descrição dos dados:**\n",
    "\n",
    "Esse _data set_ consiste de 8 variáveis a respeito de 17898 observações de estrelas.\n",
    "\n",
    "Essas estrelas foram consideradas \"candidatas\" a serem estrelas do tipo pulsar, que têm forte \n",
    "importância para os astrofísicos. \n",
    "\n",
    "Uma nona coluna do _data set_ especifica se a estrela é\n",
    "realmente um pulsar (caso positivo, 1) ou não (caso negativo, 0).\n",
    "\n",
    "\n",
    "\n",
    "### Objetivo\n",
    "\n",
    "O objetivo deste desafio é explorar as principais funções sobre distribuições de probabilidade como PDF, CDF e quantis e as relações entre duas das principais distribuições: a normal e a binomial.\n",
    "\n",
    "Este desafio está divido em duas partes:\n",
    "    \n",
    "1. A primeira parte contará com 3 questões sobre um *data set* artificial com dados de uma amostra normal e\n",
    "    uma binomial.\n",
    "    \n",
    "2. A segunda parte será sobre a análise da distribuição de uma variável do _data set_ [Pulsar Star](https://archive.ics.uci.edu/ml/datasets/HTRU2), contendo 2 questões.\n",
    "\n",
    "> Obs.: Por favor, não modifique o nome das funções de resposta.\n",
    "\n",
    "\n",
    "### Requisitos\n",
    "\n",
    "Neste desafios vamos explorar:\n",
    "\n",
    "- Probabilidade\n",
    "- Estatística\n",
    "- NumPy\n",
    "- SciPy\n",
    "- StatsModels\n",
    "____"
   ]
  },
  {
   "cell_type": "markdown",
   "metadata": {},
   "source": [
    "## _Setup_ geral"
   ]
  },
  {
   "cell_type": "code",
   "execution_count": 63,
   "metadata": {},
   "outputs": [],
   "source": [
    "# importa as bibliotecas\n",
    "import pandas as pd\n",
    "import matplotlib.pyplot as plt\n",
    "import numpy as np\n",
    "import scipy.stats as sct\n",
    "import seaborn as sns\n",
    "from statsmodels.distributions.empirical_distribution import ECDF"
   ]
  },
  {
   "cell_type": "code",
   "execution_count": 3,
   "metadata": {},
   "outputs": [],
   "source": [
    "# configurações para o matplotlib.\n",
    "%matplotlib inline\n",
    "\n",
    "from IPython.core.pylabtools import figsize\n",
    "\n",
    "\n",
    "figsize(12, 8)\n",
    "\n",
    "sns.set()"
   ]
  },
  {
   "cell_type": "markdown",
   "metadata": {},
   "source": [
    "________\n",
    "## Parte 1\n",
    "__________"
   ]
  },
  {
   "cell_type": "markdown",
   "metadata": {},
   "source": [
    "### _Setup_ da parte 1"
   ]
  },
  {
   "cell_type": "code",
   "execution_count": 4,
   "metadata": {},
   "outputs": [],
   "source": [
    "# gerar o data set artificial com dados de uma amostra normal e uma binomial\n",
    "\n",
    "# normal: loc é a média, scale é o desvio padrão (variância ao quadrado). X ~ N(20, 16) - média e variância\n",
    "# binomial: n = número de vezes e p = probabilidade. X ~ Bin(100, 0.2) \n",
    "\n",
    "np.random.seed(42)\n",
    "dataframe = pd.DataFrame({\"normal\": sct.norm.rvs(loc=20, scale=4, size=10000),  \n",
    "                     \"binomial\": sct.binom.rvs(n=100, p=0.2, size=10000)})"
   ]
  },
  {
   "cell_type": "markdown",
   "metadata": {},
   "source": [
    "## Inicie sua análise a partir da parte 1 a partir daqui"
   ]
  },
  {
   "cell_type": "code",
   "execution_count": 6,
   "metadata": {},
   "outputs": [
    {
     "data": {
      "text/html": [
       "<div>\n",
       "<style scoped>\n",
       "    .dataframe tbody tr th:only-of-type {\n",
       "        vertical-align: middle;\n",
       "    }\n",
       "\n",
       "    .dataframe tbody tr th {\n",
       "        vertical-align: top;\n",
       "    }\n",
       "\n",
       "    .dataframe thead th {\n",
       "        text-align: right;\n",
       "    }\n",
       "</style>\n",
       "<table border=\"1\" class=\"dataframe\">\n",
       "  <thead>\n",
       "    <tr style=\"text-align: right;\">\n",
       "      <th></th>\n",
       "      <th>normal</th>\n",
       "      <th>binomial</th>\n",
       "    </tr>\n",
       "  </thead>\n",
       "  <tbody>\n",
       "    <tr>\n",
       "      <th>0</th>\n",
       "      <td>21.986857</td>\n",
       "      <td>18</td>\n",
       "    </tr>\n",
       "    <tr>\n",
       "      <th>1</th>\n",
       "      <td>19.446943</td>\n",
       "      <td>15</td>\n",
       "    </tr>\n",
       "    <tr>\n",
       "      <th>2</th>\n",
       "      <td>22.590754</td>\n",
       "      <td>14</td>\n",
       "    </tr>\n",
       "    <tr>\n",
       "      <th>3</th>\n",
       "      <td>26.092119</td>\n",
       "      <td>15</td>\n",
       "    </tr>\n",
       "    <tr>\n",
       "      <th>4</th>\n",
       "      <td>19.063387</td>\n",
       "      <td>21</td>\n",
       "    </tr>\n",
       "  </tbody>\n",
       "</table>\n",
       "</div>"
      ],
      "text/plain": [
       "      normal  binomial\n",
       "0  21.986857        18\n",
       "1  19.446943        15\n",
       "2  22.590754        14\n",
       "3  26.092119        15\n",
       "4  19.063387        21"
      ]
     },
     "execution_count": 6,
     "metadata": {},
     "output_type": "execute_result"
    }
   ],
   "source": [
    "# visualiza o dataframe \n",
    "dataframe.head()"
   ]
  },
  {
   "cell_type": "markdown",
   "metadata": {},
   "source": [
    "#### Medidas de Tendência Central"
   ]
  },
  {
   "cell_type": "markdown",
   "metadata": {},
   "source": [
    "- Amplitude"
   ]
  },
  {
   "cell_type": "code",
   "execution_count": 77,
   "metadata": {},
   "outputs": [
    {
     "name": "stdout",
     "output_type": "stream",
     "text": [
      "min: 4.310398993526631\n",
      "max: 35.70495082574531\n",
      "amplitude: 31.394551832218674\n"
     ]
    }
   ],
   "source": [
    "# amplitude da normal\n",
    "print(f\"min: {dataframe['normal'].min()}\")\n",
    "print(f\"max: {dataframe['normal'].max()}\")\n",
    "print(f\"amplitude: {dataframe['normal'].max() - dataframe['normal'].min() }\")"
   ]
  },
  {
   "cell_type": "code",
   "execution_count": 76,
   "metadata": {},
   "outputs": [
    {
     "name": "stdout",
     "output_type": "stream",
     "text": [
      "min: 6\n",
      "max: 36\n",
      "amplitude: 30\n"
     ]
    }
   ],
   "source": [
    "# amplitude da binomial\n",
    "print(f\"min: {dataframe['binomial'].min()}\")\n",
    "print(f\"max: {dataframe['binomial'].max()}\")\n",
    "print(f\"amplitude: {dataframe['binomial'].max() - dataframe['binomial'].min() }\")"
   ]
  },
  {
   "cell_type": "markdown",
   "metadata": {},
   "source": [
    "- Média"
   ]
  },
  {
   "cell_type": "code",
   "execution_count": 80,
   "metadata": {},
   "outputs": [
    {
     "name": "stdout",
     "output_type": "stream",
     "text": [
      "Média Normal: 19.991456066526293\n",
      "Média Binomial: 20.097\n"
     ]
    }
   ],
   "source": [
    "print(f\"Média Normal: {dataframe['normal'].mean()}\")\n",
    "print(f\"Média Binomial: {dataframe['binomial'].mean()}\")"
   ]
  },
  {
   "cell_type": "markdown",
   "metadata": {},
   "source": [
    "- Mediana"
   ]
  },
  {
   "cell_type": "code",
   "execution_count": 83,
   "metadata": {},
   "outputs": [
    {
     "name": "stdout",
     "output_type": "stream",
     "text": [
      "Mediana Normal: 19.98962009682849\n",
      "Mediana Binomial: 20.0\n"
     ]
    }
   ],
   "source": [
    "print(f\"Mediana Normal: {dataframe['normal'].median()}\")\n",
    "print(f\"Mediana Binomial: {dataframe['binomial'].median()}\")"
   ]
  },
  {
   "cell_type": "markdown",
   "metadata": {},
   "source": [
    "#### Medidas de Posição"
   ]
  },
  {
   "cell_type": "markdown",
   "metadata": {},
   "source": [
    "- Quartis"
   ]
  },
  {
   "cell_type": "code",
   "execution_count": 32,
   "metadata": {},
   "outputs": [
    {
     "data": {
      "text/plain": [
       "0.25    17.31\n",
       "0.50    19.99\n",
       "0.75    22.68\n",
       "Name: normal, dtype: float64"
      ]
     },
     "execution_count": 32,
     "metadata": {},
     "output_type": "execute_result"
    }
   ],
   "source": [
    "# gera os quartis (Q1, Q2, Q3) para a normal\n",
    "q_norm = dataframe['normal'].quantile((0.25, 0.5, 0.75)).round(2)\n",
    "q_norm"
   ]
  },
  {
   "cell_type": "code",
   "execution_count": 61,
   "metadata": {},
   "outputs": [
    {
     "data": {
      "text/plain": [
       "0.25    17.0\n",
       "0.50    20.0\n",
       "0.75    23.0\n",
       "Name: binomial, dtype: float64"
      ]
     },
     "execution_count": 61,
     "metadata": {},
     "output_type": "execute_result"
    }
   ],
   "source": [
    "# gera os quartis (Q1, Q2, Q3) para a binomial\n",
    "q_binom = dataframe['binomial'].quantile((0.25, 0.5, 0.75))\n",
    "q_binom"
   ]
  },
  {
   "cell_type": "markdown",
   "metadata": {},
   "source": [
    "#### Média Amostral e Variância Amostral"
   ]
  },
  {
   "cell_type": "code",
   "execution_count": 89,
   "metadata": {},
   "outputs": [
    {
     "data": {
      "text/plain": [
       "(19.991456066526293, 16.110987985368958)"
      ]
     },
     "execution_count": 89,
     "metadata": {},
     "output_type": "execute_result"
    }
   ],
   "source": [
    "# média amostral e variância amostral da normal\n",
    "(dataframe['normal'].mean(), dataframe['normal'].var())"
   ]
  },
  {
   "cell_type": "code",
   "execution_count": 90,
   "metadata": {},
   "outputs": [
    {
     "data": {
      "text/plain": [
       "(20.097, 16.331224122412277)"
      ]
     },
     "execution_count": 90,
     "metadata": {},
     "output_type": "execute_result"
    }
   ],
   "source": [
    "# média amostral e variância amostral da binomial\n",
    "(dataframe['binomial'].mean(), dataframe['binomial'].var())"
   ]
  },
  {
   "cell_type": "markdown",
   "metadata": {},
   "source": [
    "Apesar de ter criado a amostra a partir de uma distribuição com média exatamente 20 e variância 16 (populacional), a amostra gerada possui média amostral e variância amostral ligeiramente diferente."
   ]
  },
  {
   "cell_type": "markdown",
   "metadata": {},
   "source": [
    "#### Gráfico de Distribuição"
   ]
  },
  {
   "cell_type": "markdown",
   "metadata": {},
   "source": [
    "Distribuição Normal"
   ]
  },
  {
   "cell_type": "code",
   "execution_count": 257,
   "metadata": {},
   "outputs": [
    {
     "data": {
      "image/png": "[encoded data removed]",
      "text/plain": [
       "<Figure size 864x576 with 1 Axes>"
      ]
     },
     "metadata": {},
     "output_type": "display_data"
    }
   ],
   "source": [
    "sns.distplot(dataframe['normal'])"
   ]
  },
  {
   "cell_type": "markdown",
   "metadata": {},
   "source": [
    "Distribuição Binomial"
   ]
  },
  {
   "cell_type": "code",
   "execution_count": 258,
   "metadata": {},
   "outputs": [
    {
     "data": {
      "text/plain": [
       "<matplotlib.axes._subplots.AxesSubplot at 0x1a1c4126d0>"
      ]
     },
     "execution_count": 258,
     "metadata": {},
     "output_type": "execute_result"
    },
    {
     "data": {
      "image/png": "[encoded data removed]",
      "text/plain": [
       "<Figure size 864x576 with 1 Axes>"
      ]
     },
     "metadata": {},
     "output_type": "display_data"
    }
   ],
   "source": [
    "sns.distplot(dataframe['binomial'])"
   ]
  },
  {
   "cell_type": "markdown",
   "metadata": {},
   "source": [
    "______\n",
    "## Questão 1\n",
    "\n",
    "Qual a diferença entre os quartis (Q1, Q2 e Q3) das variáveis `normal` e `binomial` de `dataframe`? Responda como uma tupla de três elementos arredondados para três casas decimais.\n",
    "\n",
    "Em outra palavras, sejam `q1_norm`, `q2_norm` e `q3_norm` os quantis da variável `normal` e `q1_binom`, `q2_binom` e `q3_binom` os quantis da variável `binom`, qual a diferença `(q1_norm - q1 binom, q2_norm - q2_binom, q3_norm - q3_binom)`?"
   ]
  },
  {
   "cell_type": "code",
   "execution_count": 163,
   "metadata": {},
   "outputs": [],
   "source": [
    "def q1():\n",
    "    # cálculo dos quantis\n",
    "    q_norm = dataframe['normal'].quantile((0.25, 0.5, 0.75))\n",
    "    q_binom = dataframe['binomial'].quantile((0.25, 0.5, 0.75))\n",
    "    return tuple((q_norm - q_binom).round(3))  # o desafio espera uma tupla como resposta"
   ]
  },
  {
   "cell_type": "code",
   "execution_count": 180,
   "metadata": {},
   "outputs": [
    {
     "data": {
      "text/plain": [
       "(0.31, -0.01, -0.316)"
      ]
     },
     "execution_count": 180,
     "metadata": {},
     "output_type": "execute_result"
    }
   ],
   "source": [
    "q1()"
   ]
  },
  {
   "cell_type": "markdown",
   "metadata": {},
   "source": [
    "**Você esperava valores dessa magnitude?**\n",
    "\n",
    "Sim, pois a média, a variância, desvio-padrão são iguais nas duas distribuições. \n",
    " \n",
    " **Normal: X ~ N(20, 16)**\n",
    " \n",
    " - Média = 20\n",
    " \n",
    " - Variância = 16\n",
    " \n",
    " - Desvio padrão = √16 = 4\n",
    "\n",
    "\n",
    "\n",
    "  **Binomial: X ~ Bin(100, 0.2)**\n",
    " \n",
    " - Média = 100*0.2 = 20\n",
    " \n",
    " $\\text{E}[X] = np$\n",
    " \n",
    " - Variância = 100*0.2(1-0.2) = 16\n",
    "\n",
    "$\\text{Var}[X] = np(1 - p) = npq$\n",
    "\n",
    "\n",
    "- Desvio padrão = √16 = 4\n",
    "\n",
    "**Você é capaz de explicar como distribuições aparentemente tão diferentes (discreta e contínua, por exemplo) conseguem dar esses valores?**\n",
    "\n",
    "Neste caso o valor de \"n\" da distribuição binominal é grande o suficiente, fazendo com que a inclinação da distribuição não seja muito grande. Com isso, ocorre uma aproximação da binomial que é dada pela distribuição normal $\\text {N} (np, \\, np (1-p))$.\n",
    "\n",
    "Note que a média ($\\mu = np$) e a variância ($\\sigma^{2} = np(1 - p)$) da distribuição normal são exatamente iguais à média e variância da distribuição binomial, respectivamente.\n",
    "\n",
    "Dessa forma, temos que a função binomial aproximada da normal é X ~ N(20,16), que é igual a distribuição normal gerada X ~ N(20, 16).\n",
    "\n",
    "Existem várias regras para decidir se \"n\" é grande o suficiente, uma delas é que:\n",
    "\n",
    "- Seja 𝑛≥20 e de preferência que  𝑝  não esteja nem muito próximo de 0 nem de 1. \n",
    "\n",
    "Nesse exemplo, temos que ambas condições são verdadeiras n = 100 e p = 0.2.\n"
   ]
  },
  {
   "cell_type": "markdown",
   "metadata": {},
   "source": [
    "## Questão 2\n",
    "\n",
    "Considere o intervalo $[\\bar{x} - s, \\bar{x} + s]$, onde $\\bar{x}$ é a média amostral e $s$ é o desvio padrão. Qual a probabilidade nesse intervalo, calculada pela função de distribuição acumulada empírica (CDF empírica) da variável `normal`? Responda como uma único escalar arredondado para três casas decimais."
   ]
  },
  {
   "cell_type": "code",
   "execution_count": 190,
   "metadata": {},
   "outputs": [],
   "source": [
    "def q2():\n",
    "    # distribuição acumulada empírica\n",
    "    ecdf = ECDF(dataframe['normal']) \n",
    "    \n",
    "    # média e desvio_padrão amostral\n",
    "    std1_positive = ecdf(dataframe['normal'].mean() + dataframe['normal'].std()) \n",
    "    std1_negative = ecdf(dataframe['normal'].mean() - dataframe['normal'].std())\n",
    "    \n",
    "    return float(round((std1_positive - std1_negative),3))  # o desafio espera um float como resposta"
   ]
  },
  {
   "cell_type": "code",
   "execution_count": 191,
   "metadata": {},
   "outputs": [
    {
     "data": {
      "text/plain": [
       "0.684"
      ]
     },
     "execution_count": 191,
     "metadata": {},
     "output_type": "execute_result"
    }
   ],
   "source": [
    "q2()"
   ]
  },
  {
   "cell_type": "markdown",
   "metadata": {},
   "source": [
    "**Esse valor se aproxima do esperado teórico?**\n",
    "\n",
    "Sim se aproxima, pois numa distribuição normal as probabilidades conhecidas, são:\n",
    "  * A probabilidade de $X$ assumir valores entre $\\mu - \\sigma$ e $\\mu + \\sigma$ é de 68.27%.\n",
    "  * A probabilidade de $X$ assumir valores entre $\\mu - 2\\sigma$ e $\\mu + 2\\sigma$ é de 95.45%.\n",
    "  * A probabilidade de $X$ assumir valores entre $\\mu - 3\\sigma$ e $\\mu + 3\\sigma$ é de 99.73%.\n",
    "  \n",
    "\n",
    "**Experimente também para os intervalos $[\\bar{x} - 2s, \\bar{x} + 2s]$ e $[\\bar{x} - 3s, \\bar{x} + 3s]$.**"
   ]
  },
  {
   "cell_type": "markdown",
   "metadata": {},
   "source": [
    "Para a probabilidade de X assumir: $[\\bar{x} - 2s, \\bar{x} + 2s]$"
   ]
  },
  {
   "cell_type": "code",
   "execution_count": 192,
   "metadata": {},
   "outputs": [
    {
     "data": {
      "text/plain": [
       "0.954"
      ]
     },
     "execution_count": 192,
     "metadata": {},
     "output_type": "execute_result"
    }
   ],
   "source": [
    "# distribuição acumulada empírica\n",
    "ecdf = ECDF(dataframe['normal']) \n",
    "\n",
    "# média e desvio_padrão amostral\n",
    "std2_positive = ecdf(dataframe['normal'].mean() + 2*(dataframe['normal'].std())) \n",
    "std2_negative = ecdf(dataframe['normal'].mean() - 2*(dataframe['normal'].std()))\n",
    "\n",
    "\n",
    "# calculo da probabilidade \n",
    "prob_2_std = float(round((std2_positive - std2_negative),3))\n",
    "prob_2_std"
   ]
  },
  {
   "cell_type": "markdown",
   "metadata": {},
   "source": [
    "Para a probabilidade de X assumir :$[\\bar{x} - 3s, \\bar{x} + 3s]$."
   ]
  },
  {
   "cell_type": "code",
   "execution_count": 193,
   "metadata": {},
   "outputs": [
    {
     "data": {
      "text/plain": [
       "0.997"
      ]
     },
     "execution_count": 193,
     "metadata": {},
     "output_type": "execute_result"
    }
   ],
   "source": [
    "# distribuição acumulada empírica\n",
    "ecdf = ECDF(dataframe['normal']) \n",
    "\n",
    "# média e desvio_padrão amostral\n",
    "std3_positive = ecdf(dataframe['normal'].mean() + 3*(dataframe['normal'].std())) \n",
    "std3_negative = ecdf(dataframe['normal'].mean() - 3*(dataframe['normal'].std()))\n",
    "\n",
    "# calculo da probabilidade \n",
    "prob_3_std = float(round((std3_positive - std3_negative),3))\n",
    "prob_3_std"
   ]
  },
  {
   "cell_type": "markdown",
   "metadata": {},
   "source": [
    "## Questão 3\n",
    "\n",
    "Qual é a diferença entre as médias e as variâncias das variáveis `binomial` e `normal`? Responda como uma tupla de dois elementos arredondados para três casas decimais.\n",
    "\n",
    "Em outras palavras, sejam `m_binom` e `v_binom` a média e a variância da variável `binomial`, e `m_norm` e `v_norm` a média e a variância da variável `normal`. Quais as diferenças `(m_binom - m_norm, v_binom - v_norm)`?"
   ]
  },
  {
   "cell_type": "code",
   "execution_count": 272,
   "metadata": {},
   "outputs": [],
   "source": [
    "def q3():\n",
    "    mv_norm = np.array([dataframe['normal'].mean(), dataframe['normal'].var()])\n",
    "    mv_binom = np.array([dataframe['binomial'].mean(), dataframe['binomial'].var()])\n",
    "    return tuple((mv_binom - mv_norm).round(3))"
   ]
  },
  {
   "cell_type": "code",
   "execution_count": 273,
   "metadata": {},
   "outputs": [
    {
     "data": {
      "text/plain": [
       "(0.106, 0.22)"
      ]
     },
     "execution_count": 273,
     "metadata": {},
     "output_type": "execute_result"
    }
   ],
   "source": [
    "q3()"
   ]
  },
  {
   "cell_type": "markdown",
   "metadata": {},
   "source": [
    "**Você esperava valores dessa magnitude?**\n",
    "\n",
    "Sim, pois a maior parte das funções disponíveis para a distribuição normal também estão disponível para a distribuição binomial. Logo, com a aproximação da binomial pela normal as médias e as variâncias seriam próximas. \n",
    "\n",
    "**Qual o efeito de aumentar ou diminuir $n$ (atualmente 100) na distribuição da variável `binomial`?**"
   ]
  },
  {
   "cell_type": "markdown",
   "metadata": {},
   "source": [
    "- Aumentar $n$ para 200."
   ]
  },
  {
   "cell_type": "code",
   "execution_count": 214,
   "metadata": {},
   "outputs": [],
   "source": [
    "# novo dataframe alterando o n=200\n",
    "np.random.seed(42)\n",
    "dataframe_binom = pd.DataFrame({\"normal\": sct.norm.rvs(loc=20, scale=4, size=10000),  \n",
    "                     \"binomial\": sct.binom.rvs(n=200, p=0.2, size=10000)})"
   ]
  },
  {
   "cell_type": "code",
   "execution_count": 215,
   "metadata": {},
   "outputs": [
    {
     "data": {
      "text/html": [
       "<div>\n",
       "<style scoped>\n",
       "    .dataframe tbody tr th:only-of-type {\n",
       "        vertical-align: middle;\n",
       "    }\n",
       "\n",
       "    .dataframe tbody tr th {\n",
       "        vertical-align: top;\n",
       "    }\n",
       "\n",
       "    .dataframe thead th {\n",
       "        text-align: right;\n",
       "    }\n",
       "</style>\n",
       "<table border=\"1\" class=\"dataframe\">\n",
       "  <thead>\n",
       "    <tr style=\"text-align: right;\">\n",
       "      <th></th>\n",
       "      <th>normal</th>\n",
       "      <th>binomial</th>\n",
       "    </tr>\n",
       "  </thead>\n",
       "  <tbody>\n",
       "    <tr>\n",
       "      <th>0</th>\n",
       "      <td>21.986857</td>\n",
       "      <td>46</td>\n",
       "    </tr>\n",
       "    <tr>\n",
       "      <th>1</th>\n",
       "      <td>19.446943</td>\n",
       "      <td>41</td>\n",
       "    </tr>\n",
       "    <tr>\n",
       "      <th>2</th>\n",
       "      <td>22.590754</td>\n",
       "      <td>39</td>\n",
       "    </tr>\n",
       "    <tr>\n",
       "      <th>3</th>\n",
       "      <td>26.092119</td>\n",
       "      <td>41</td>\n",
       "    </tr>\n",
       "    <tr>\n",
       "      <th>4</th>\n",
       "      <td>19.063387</td>\n",
       "      <td>40</td>\n",
       "    </tr>\n",
       "  </tbody>\n",
       "</table>\n",
       "</div>"
      ],
      "text/plain": [
       "      normal  binomial\n",
       "0  21.986857        46\n",
       "1  19.446943        41\n",
       "2  22.590754        39\n",
       "3  26.092119        41\n",
       "4  19.063387        40"
      ]
     },
     "execution_count": 215,
     "metadata": {},
     "output_type": "execute_result"
    }
   ],
   "source": [
    "dataframe_binom.head()"
   ]
  },
  {
   "cell_type": "code",
   "execution_count": 220,
   "metadata": {},
   "outputs": [
    {
     "name": "stdout",
     "output_type": "stream",
     "text": [
      "Normal [19.991 16.111]\n",
      "Binomial [39.969 31.628]\n",
      "Diferença (-19.977, -15.517)\n"
     ]
    }
   ],
   "source": [
    "mv_norm2 = np.array([dataframe_binom['normal'].mean(), dataframe_binom['normal'].var()])\n",
    "mv_binom2 = np.array([dataframe_binom['binomial'].mean(), dataframe_binom['binomial'].var()])\n",
    "result = tuple((mv_norm2 - mv_binom2).round(3))\n",
    "print(f'Normal {mv_norm2}')\n",
    "print(f'Binomial {mv_binom2}')\n",
    "print(f'Diferença {result}')"
   ]
  },
  {
   "cell_type": "markdown",
   "metadata": {},
   "source": [
    "Aumentando $n$ para 200, com isso a média e a variância também irão aumentar. Com n maior, logo teremos uma maior quantidade de resultados 1 (sucesso) em nossa distribuição binomial, achatando um pouco a curva. \n",
    "\n",
    "Variância: $\\text{Var}[X] = np(1 - p) = npq$\n",
    "\n",
    "Média: $\\text{E}[X] = np$"
   ]
  },
  {
   "cell_type": "code",
   "execution_count": 255,
   "metadata": {},
   "outputs": [
    {
     "data": {
      "image/png": "[encoded data removed]",
      "text/plain": [
       "<Figure size 864x576 with 1 Axes>"
      ]
     },
     "metadata": {},
     "output_type": "display_data"
    }
   ],
   "source": [
    "sns.distplot(dataframe['binomial'])\n",
    "sns.distplot(dataframe_binom['binomial'])"
   ]
  },
  {
   "cell_type": "markdown",
   "metadata": {},
   "source": [
    "- Reduzir $n$ para 50."
   ]
  },
  {
   "cell_type": "code",
   "execution_count": 259,
   "metadata": {},
   "outputs": [],
   "source": [
    "# novo dataframe alterando o n=50\n",
    "np.random.seed(42)\n",
    "dataframe_binom2 = pd.DataFrame({\"normal\": sct.norm.rvs(loc=20, scale=4, size=10000),  \n",
    "                     \"binomial\": sct.binom.rvs(n=50, p=0.2, size=10000)})"
   ]
  },
  {
   "cell_type": "code",
   "execution_count": 260,
   "metadata": {},
   "outputs": [
    {
     "name": "stdout",
     "output_type": "stream",
     "text": [
      "Normal [19.991 16.111]\n",
      "Binomial [10.07   8.141]\n",
      "Diferença (9.922, 7.97)\n"
     ]
    }
   ],
   "source": [
    "mv_norm3 = np.array([dataframe_binom2['normal'].mean(), dataframe_binom2['normal'].var()])\n",
    "mv_binom3 = np.array([dataframe_binom2['binomial'].mean(), dataframe_binom2['binomial'].var()])\n",
    "result = tuple((mv_norm3 - mv_binom3).round(3))\n",
    "print(f'Normal {mv_norm3}')\n",
    "print(f'Binomial {mv_binom3}')\n",
    "print(f'Diferença {result}')"
   ]
  },
  {
   "cell_type": "code",
   "execution_count": 262,
   "metadata": {},
   "outputs": [
    {
     "data": {
      "image/png": "[encoded data removed]",
      "text/plain": [
       "<Figure size 864x576 with 1 Axes>"
      ]
     },
     "metadata": {},
     "output_type": "display_data"
    }
   ],
   "source": [
    "sns.distplot(dataframe['binomial'])\n",
    "sns.distplot(dataframe_binom2['binomial'])\n",
    "sns.distplot(dataframe_binom['binomial'])"
   ]
  },
  {
   "cell_type": "markdown",
   "metadata": {},
   "source": [
    "Aumentando $n$ para 50, com isso a média e a variância também irão reduzir. Com n menor, logo teremos uma menor quantidade de resultados 1 (sucesso) em nossa distribuição binomial, deixando curva com pico mais alto . "
   ]
  },
  {
   "cell_type": "markdown",
   "metadata": {},
   "source": [
    "_________\n",
    "## Parte 2\n",
    "________"
   ]
  },
  {
   "cell_type": "markdown",
   "metadata": {},
   "source": [
    "### _Setup_ da parte 2"
   ]
  },
  {
   "cell_type": "code",
   "execution_count": 264,
   "metadata": {},
   "outputs": [],
   "source": [
    "# carrega o dataframe \n",
    "stars = pd.read_csv(\"pulsar_stars.csv\")\n",
    "\n",
    "# renomeia as colunas para o desafio\n",
    "stars.rename({old_name: new_name\n",
    "              for (old_name, new_name)\n",
    "              in zip(stars.columns,\n",
    "                     [\"mean_profile\", \"sd_profile\", \"kurt_profile\", \"skew_profile\", \"mean_curve\", \"sd_curve\", \"kurt_curve\", \"skew_curve\", \"target\"])\n",
    "             },\n",
    "             axis=1, inplace=True)\n",
    "\n",
    "# cria a coluna target\n",
    "stars.loc[:, \"target\"] = stars.target.astype(bool)"
   ]
  },
  {
   "cell_type": "markdown",
   "metadata": {},
   "source": [
    "## Inicie sua análise da parte 2 a partir daqui"
   ]
  },
  {
   "cell_type": "code",
   "execution_count": 265,
   "metadata": {},
   "outputs": [
    {
     "data": {
      "text/html": [
       "<div>\n",
       "<style scoped>\n",
       "    .dataframe tbody tr th:only-of-type {\n",
       "        vertical-align: middle;\n",
       "    }\n",
       "\n",
       "    .dataframe tbody tr th {\n",
       "        vertical-align: top;\n",
       "    }\n",
       "\n",
       "    .dataframe thead th {\n",
       "        text-align: right;\n",
       "    }\n",
       "</style>\n",
       "<table border=\"1\" class=\"dataframe\">\n",
       "  <thead>\n",
       "    <tr style=\"text-align: right;\">\n",
       "      <th></th>\n",
       "      <th>mean_profile</th>\n",
       "      <th>sd_profile</th>\n",
       "      <th>kurt_profile</th>\n",
       "      <th>skew_profile</th>\n",
       "      <th>mean_curve</th>\n",
       "      <th>sd_curve</th>\n",
       "      <th>kurt_curve</th>\n",
       "      <th>skew_curve</th>\n",
       "      <th>target</th>\n",
       "    </tr>\n",
       "  </thead>\n",
       "  <tbody>\n",
       "    <tr>\n",
       "      <th>0</th>\n",
       "      <td>140.562500</td>\n",
       "      <td>55.683782</td>\n",
       "      <td>-0.234571</td>\n",
       "      <td>-0.699648</td>\n",
       "      <td>3.199833</td>\n",
       "      <td>19.110426</td>\n",
       "      <td>7.975532</td>\n",
       "      <td>74.242225</td>\n",
       "      <td>False</td>\n",
       "    </tr>\n",
       "    <tr>\n",
       "      <th>1</th>\n",
       "      <td>102.507812</td>\n",
       "      <td>58.882430</td>\n",
       "      <td>0.465318</td>\n",
       "      <td>-0.515088</td>\n",
       "      <td>1.677258</td>\n",
       "      <td>14.860146</td>\n",
       "      <td>10.576487</td>\n",
       "      <td>127.393580</td>\n",
       "      <td>False</td>\n",
       "    </tr>\n",
       "    <tr>\n",
       "      <th>2</th>\n",
       "      <td>103.015625</td>\n",
       "      <td>39.341649</td>\n",
       "      <td>0.323328</td>\n",
       "      <td>1.051164</td>\n",
       "      <td>3.121237</td>\n",
       "      <td>21.744669</td>\n",
       "      <td>7.735822</td>\n",
       "      <td>63.171909</td>\n",
       "      <td>False</td>\n",
       "    </tr>\n",
       "    <tr>\n",
       "      <th>3</th>\n",
       "      <td>136.750000</td>\n",
       "      <td>57.178449</td>\n",
       "      <td>-0.068415</td>\n",
       "      <td>-0.636238</td>\n",
       "      <td>3.642977</td>\n",
       "      <td>20.959280</td>\n",
       "      <td>6.896499</td>\n",
       "      <td>53.593661</td>\n",
       "      <td>False</td>\n",
       "    </tr>\n",
       "    <tr>\n",
       "      <th>4</th>\n",
       "      <td>88.726562</td>\n",
       "      <td>40.672225</td>\n",
       "      <td>0.600866</td>\n",
       "      <td>1.123492</td>\n",
       "      <td>1.178930</td>\n",
       "      <td>11.468720</td>\n",
       "      <td>14.269573</td>\n",
       "      <td>252.567306</td>\n",
       "      <td>False</td>\n",
       "    </tr>\n",
       "  </tbody>\n",
       "</table>\n",
       "</div>"
      ],
      "text/plain": [
       "   mean_profile  sd_profile  kurt_profile  skew_profile  mean_curve  \\\n",
       "0    140.562500   55.683782     -0.234571     -0.699648    3.199833   \n",
       "1    102.507812   58.882430      0.465318     -0.515088    1.677258   \n",
       "2    103.015625   39.341649      0.323328      1.051164    3.121237   \n",
       "3    136.750000   57.178449     -0.068415     -0.636238    3.642977   \n",
       "4     88.726562   40.672225      0.600866      1.123492    1.178930   \n",
       "\n",
       "    sd_curve  kurt_curve  skew_curve  target  \n",
       "0  19.110426    7.975532   74.242225   False  \n",
       "1  14.860146   10.576487  127.393580   False  \n",
       "2  21.744669    7.735822   63.171909   False  \n",
       "3  20.959280    6.896499   53.593661   False  \n",
       "4  11.468720   14.269573  252.567306   False  "
      ]
     },
     "execution_count": 265,
     "metadata": {},
     "output_type": "execute_result"
    }
   ],
   "source": [
    "# visualiza os dados\n",
    "stars.head()"
   ]
  },
  {
   "cell_type": "code",
   "execution_count": 276,
   "metadata": {},
   "outputs": [
    {
     "data": {
      "text/html": [
       "<div>\n",
       "<style scoped>\n",
       "    .dataframe tbody tr th:only-of-type {\n",
       "        vertical-align: middle;\n",
       "    }\n",
       "\n",
       "    .dataframe tbody tr th {\n",
       "        vertical-align: top;\n",
       "    }\n",
       "\n",
       "    .dataframe thead th {\n",
       "        text-align: right;\n",
       "    }\n",
       "</style>\n",
       "<table border=\"1\" class=\"dataframe\">\n",
       "  <thead>\n",
       "    <tr style=\"text-align: right;\">\n",
       "      <th></th>\n",
       "      <th>mean_profile</th>\n",
       "      <th>sd_profile</th>\n",
       "      <th>kurt_profile</th>\n",
       "      <th>skew_profile</th>\n",
       "      <th>mean_curve</th>\n",
       "      <th>sd_curve</th>\n",
       "      <th>kurt_curve</th>\n",
       "      <th>skew_curve</th>\n",
       "    </tr>\n",
       "  </thead>\n",
       "  <tbody>\n",
       "    <tr>\n",
       "      <th>count</th>\n",
       "      <td>17898.000000</td>\n",
       "      <td>17898.000000</td>\n",
       "      <td>17898.000000</td>\n",
       "      <td>17898.000000</td>\n",
       "      <td>17898.000000</td>\n",
       "      <td>17898.000000</td>\n",
       "      <td>17898.000000</td>\n",
       "      <td>17898.000000</td>\n",
       "    </tr>\n",
       "    <tr>\n",
       "      <th>mean</th>\n",
       "      <td>111.079968</td>\n",
       "      <td>46.549532</td>\n",
       "      <td>0.477857</td>\n",
       "      <td>1.770279</td>\n",
       "      <td>12.614400</td>\n",
       "      <td>26.326515</td>\n",
       "      <td>8.303556</td>\n",
       "      <td>104.857709</td>\n",
       "    </tr>\n",
       "    <tr>\n",
       "      <th>std</th>\n",
       "      <td>25.652935</td>\n",
       "      <td>6.843189</td>\n",
       "      <td>1.064040</td>\n",
       "      <td>6.167913</td>\n",
       "      <td>29.472897</td>\n",
       "      <td>19.470572</td>\n",
       "      <td>4.506092</td>\n",
       "      <td>106.514540</td>\n",
       "    </tr>\n",
       "    <tr>\n",
       "      <th>min</th>\n",
       "      <td>5.812500</td>\n",
       "      <td>24.772042</td>\n",
       "      <td>-1.876011</td>\n",
       "      <td>-1.791886</td>\n",
       "      <td>0.213211</td>\n",
       "      <td>7.370432</td>\n",
       "      <td>-3.139270</td>\n",
       "      <td>-1.976976</td>\n",
       "    </tr>\n",
       "    <tr>\n",
       "      <th>25%</th>\n",
       "      <td>100.929688</td>\n",
       "      <td>42.376018</td>\n",
       "      <td>0.027098</td>\n",
       "      <td>-0.188572</td>\n",
       "      <td>1.923077</td>\n",
       "      <td>14.437332</td>\n",
       "      <td>5.781506</td>\n",
       "      <td>34.960504</td>\n",
       "    </tr>\n",
       "    <tr>\n",
       "      <th>50%</th>\n",
       "      <td>115.078125</td>\n",
       "      <td>46.947479</td>\n",
       "      <td>0.223240</td>\n",
       "      <td>0.198710</td>\n",
       "      <td>2.801839</td>\n",
       "      <td>18.461316</td>\n",
       "      <td>8.433515</td>\n",
       "      <td>83.064556</td>\n",
       "    </tr>\n",
       "    <tr>\n",
       "      <th>75%</th>\n",
       "      <td>127.085938</td>\n",
       "      <td>51.023202</td>\n",
       "      <td>0.473325</td>\n",
       "      <td>0.927783</td>\n",
       "      <td>5.464256</td>\n",
       "      <td>28.428104</td>\n",
       "      <td>10.702959</td>\n",
       "      <td>139.309331</td>\n",
       "    </tr>\n",
       "    <tr>\n",
       "      <th>max</th>\n",
       "      <td>192.617188</td>\n",
       "      <td>98.778911</td>\n",
       "      <td>8.069522</td>\n",
       "      <td>68.101622</td>\n",
       "      <td>223.392140</td>\n",
       "      <td>110.642211</td>\n",
       "      <td>34.539844</td>\n",
       "      <td>1191.000837</td>\n",
       "    </tr>\n",
       "  </tbody>\n",
       "</table>\n",
       "</div>"
      ],
      "text/plain": [
       "       mean_profile    sd_profile  kurt_profile  skew_profile    mean_curve  \\\n",
       "count  17898.000000  17898.000000  17898.000000  17898.000000  17898.000000   \n",
       "mean     111.079968     46.549532      0.477857      1.770279     12.614400   \n",
       "std       25.652935      6.843189      1.064040      6.167913     29.472897   \n",
       "min        5.812500     24.772042     -1.876011     -1.791886      0.213211   \n",
       "25%      100.929688     42.376018      0.027098     -0.188572      1.923077   \n",
       "50%      115.078125     46.947479      0.223240      0.198710      2.801839   \n",
       "75%      127.085938     51.023202      0.473325      0.927783      5.464256   \n",
       "max      192.617188     98.778911      8.069522     68.101622    223.392140   \n",
       "\n",
       "           sd_curve    kurt_curve    skew_curve  \n",
       "count  17898.000000  17898.000000  17898.000000  \n",
       "mean      26.326515      8.303556    104.857709  \n",
       "std       19.470572      4.506092    106.514540  \n",
       "min        7.370432     -3.139270     -1.976976  \n",
       "25%       14.437332      5.781506     34.960504  \n",
       "50%       18.461316      8.433515     83.064556  \n",
       "75%       28.428104     10.702959    139.309331  \n",
       "max      110.642211     34.539844   1191.000837  "
      ]
     },
     "execution_count": 276,
     "metadata": {},
     "output_type": "execute_result"
    }
   ],
   "source": [
    "stars.describe()"
   ]
  },
  {
   "cell_type": "code",
   "execution_count": 299,
   "metadata": {},
   "outputs": [
    {
     "name": "stdout",
     "output_type": "stream",
     "text": [
      "Não Pulsar 17898\n",
      "Pulsar 17898\n"
     ]
    }
   ],
   "source": [
    "# verifica a quantidade de estrela que é pulsar e as que não são pulsar\n",
    "print('Não Pulsar', len(stars.target == 0))\n",
    "print('Pulsar', len(stars.target == 1))"
   ]
  },
  {
   "cell_type": "code",
   "execution_count": 300,
   "metadata": {},
   "outputs": [
    {
     "data": {
      "text/plain": [
       "0        140.562500\n",
       "1        102.507812\n",
       "2        103.015625\n",
       "3        136.750000\n",
       "4         88.726562\n",
       "            ...    \n",
       "17893    136.429688\n",
       "17894    122.554688\n",
       "17895    119.335938\n",
       "17896    114.507812\n",
       "17897     57.062500\n",
       "Name: mean_profile, Length: 16259, dtype: float64"
      ]
     },
     "execution_count": 300,
     "metadata": {},
     "output_type": "execute_result"
    }
   ],
   "source": [
    "nostars = stars.query(\"target == 0\")['mean_profile']\n",
    "nostars"
   ]
  },
  {
   "cell_type": "code",
   "execution_count": 301,
   "metadata": {},
   "outputs": [
    {
     "data": {
      "text/plain": [
       "count    16259.000000\n",
       "mean       116.562726\n",
       "std         17.475932\n",
       "min         17.210938\n",
       "25%        105.253906\n",
       "50%        117.257812\n",
       "75%        128.285156\n",
       "max        192.617188\n",
       "Name: mean_profile, dtype: float64"
      ]
     },
     "execution_count": 301,
     "metadata": {},
     "output_type": "execute_result"
    }
   ],
   "source": [
    "nostars.describe()"
   ]
  },
  {
   "cell_type": "markdown",
   "metadata": {},
   "source": [
    "## Questão 4\n",
    "\n",
    "Considerando a variável `mean_profile` de `stars`:\n",
    "\n",
    "1. Filtre apenas os valores de `mean_profile` onde `target == 0` (ou seja, onde a estrela não é um pulsar).\n",
    "2. Padronize a variável `mean_profile` filtrada anteriormente para ter média 0 e variância 1.\n",
    "\n",
    "Chamaremos a variável resultante de `false_pulsar_mean_profile_standardized`.\n",
    "\n",
    "Encontre os quantis teóricos para uma distribuição normal de média 0 e variância 1 para 0.80, 0.90 e 0.95 através da função `norm.ppf()` disponível em `scipy.stats`.\n",
    "\n",
    "Quais as probabilidade associadas a esses quantis utilizando a CDF empírica da variável `false_pulsar_mean_profile_standardized`? Responda como uma tupla de três elementos arredondados para três casas decimais."
   ]
  },
  {
   "cell_type": "code",
   "execution_count": 266,
   "metadata": {},
   "outputs": [],
   "source": [
    "def q4():\n",
    "    false_pulsar_mean_profile_standardized = sct.zscore(stars.query(\"target == 0\")['mean_profile'])\n",
    "    quartis = sct.norm.ppf([0.8, 0.90, 0.95])\n",
    "    ecdf = ECDF(false_pulsar_mean_profile_standardized)\n",
    "    return tuple((ecdf([quartis][0]).round(3)))"
   ]
  },
  {
   "cell_type": "code",
   "execution_count": 267,
   "metadata": {},
   "outputs": [
    {
     "data": {
      "text/plain": [
       "(0.806, 0.911, 0.959)"
      ]
     },
     "execution_count": 267,
     "metadata": {},
     "output_type": "execute_result"
    }
   ],
   "source": [
    "q4()"
   ]
  },
  {
   "cell_type": "markdown",
   "metadata": {},
   "source": [
    "**Os valores encontrados fazem sentido?**\n",
    "\n",
    "Sim, pois foi padronizado os valores de mean_profile para ter média 0 e variância 1, que é o mesmo que uma distribuição normal padrão (0,1).\n",
    "\n",
    "A distribuição de Z é Normal(0;1), logo verificando a tabela z da Distribuição Normal Padrão Acumulada, temos que: \n",
    "\n",
    "- Para o quartil de 80% o valor mais próximo é 0,7995. \n",
    "\n",
    "   O início da linha é 0,8 e o topo da coluna é 0,04. \n",
    "\n",
    "   Isso corresponde a z = 0,84.\n",
    "\n",
    "- Para o quartil de 90% o valor mais próximo é 0,8997. \n",
    "\n",
    "  O início da linha é 1,2 e o topo da coluna é 0,08. \n",
    "  \n",
    "  Isso corresponde a z = 1,28.\n",
    "\n",
    "- Para o quartil de 95% o valor mais próximo é 0,9495. \n",
    "\n",
    "  O início da linha é 1,6 e o topo da coluna é 0,04. \n",
    "  \n",
    "  Isso corresponde a z = 1,64.\n",
    "\n",
    "**O que isso pode dizer sobre a distribuição da variável `false_pulsar_mean_profile_standardized`?**\n",
    "\n",
    "O escore padrão, ou escore z (zscore), representa o número de desvios padrão que separa uma variável aleatória x da média.\n",
    "\n",
    "Isso quer dizer que ao padronizarmos a variável mean_profile usando o escores z, transformamos qualquer distribuição normal existente em nosso dados em uma distribuição normal padrão.\n",
    "\n",
    "- A área acumulada está próxima de 0 para escores z próximos de –3,49.\n",
    "- A área acumulada para z = 0 é 0,5000\n",
    "- A área acumulada está próxima de 1 para escores z próximos de 3,49.\n"
   ]
  },
  {
   "cell_type": "code",
   "execution_count": 319,
   "metadata": {},
   "outputs": [
    {
     "name": "stdout",
     "output_type": "stream",
     "text": [
      "Quartis:  [0.842 1.282 1.645]\n"
     ]
    },
    {
     "data": {
      "text/plain": [
       "<matplotlib.axes._subplots.AxesSubplot at 0x1a1cd50250>"
      ]
     },
     "execution_count": 319,
     "metadata": {},
     "output_type": "execute_result"
    },
    {
     "data": {
      "image/png": "[encoded data removed]",
      "text/plain": [
       "<Figure size 864x576 with 1 Axes>"
      ]
     },
     "metadata": {},
     "output_type": "display_data"
    }
   ],
   "source": [
    "quartis = sct.norm.ppf([0.8, 0.90, 0.95])\n",
    "print('Quartis: ', quartis)\n",
    "sns.distplot(quartis)"
   ]
  },
  {
   "cell_type": "code",
   "execution_count": 304,
   "metadata": {},
   "outputs": [
    {
     "data": {
      "text/plain": [
       "<matplotlib.axes._subplots.AxesSubplot at 0x1a1be9f390>"
      ]
     },
     "execution_count": 304,
     "metadata": {},
     "output_type": "execute_result"
    },
    {
     "data": {
      "image/png": "[encoded data removed]",
      "text/plain": [
       "<Figure size 864x576 with 1 Axes>"
      ]
     },
     "metadata": {},
     "output_type": "display_data"
    }
   ],
   "source": [
    "false_pulsar_mean_profile_standardized = sct.zscore(stars.query(\"target == 0\")['mean_profile'])\n",
    "sns.distplot(false_pulsar_mean_profile_standardized)"
   ]
  },
  {
   "cell_type": "markdown",
   "metadata": {},
   "source": [
    "## Questão 5\n",
    "\n",
    "Qual a diferença entre os quantis Q1, Q2 e Q3 de `false_pulsar_mean_profile_standardized` e os mesmos quantis teóricos de uma distribuição normal de média 0 e variância 1? Responda como uma tupla de três elementos arredondados para três casas decimais."
   ]
  },
  {
   "cell_type": "code",
   "execution_count": 270,
   "metadata": {},
   "outputs": [],
   "source": [
    "def q5():\n",
    "    false_pulsar_mean_profile_standardized = sct.zscore(stars.query(\"target == 0\")['mean_profile'])\n",
    "    quartis = np.quantile(false_pulsar_mean_profile_standardized, [0.25, 0.50, 0.75])\n",
    "    probabilidade_quartis = sct.norm.ppf([0.25, 0.50, 0.75])                                                              \n",
    "    return tuple(np.round( (quartis - probabilidade_quartis), 3))"
   ]
  },
  {
   "cell_type": "code",
   "execution_count": 271,
   "metadata": {},
   "outputs": [
    {
     "data": {
      "text/plain": [
       "(0.027, 0.04, -0.004)"
      ]
     },
     "execution_count": 271,
     "metadata": {},
     "output_type": "execute_result"
    }
   ],
   "source": [
    "q5()"
   ]
  },
  {
   "cell_type": "code",
   "execution_count": 320,
   "metadata": {},
   "outputs": [
    {
     "data": {
      "text/plain": [
       "array([-0.674,  0.   ,  0.674])"
      ]
     },
     "execution_count": 320,
     "metadata": {},
     "output_type": "execute_result"
    }
   ],
   "source": [
    "probabilidade_quartis = sct.norm.ppf([0.25, 0.50, 0.75])\n",
    "probabilidade_quartis"
   ]
  },
  {
   "cell_type": "code",
   "execution_count": 321,
   "metadata": {},
   "outputs": [
    {
     "data": {
      "text/plain": [
       "array([-0.647,  0.04 ,  0.671])"
      ]
     },
     "execution_count": 321,
     "metadata": {},
     "output_type": "execute_result"
    }
   ],
   "source": [
    "quartis = np.quantile(false_pulsar_mean_profile_standardized, [0.25, 0.50, 0.75])\n",
    "quartis"
   ]
  },
  {
   "cell_type": "markdown",
   "metadata": {},
   "source": [
    "**Os valores encontrados fazem sentido?**\n",
    "\n",
    "Sim, como vimos anteriormente ao usarmos o escores z, transformamos qualquer distribuição normal numa distribuição normal padrão. Logo, os quartis da variável false_pulsar_mean_profile_standardized terá valores próximos dos quartis de uma distribuição normal padrão.\n",
    "\n",
    "**O que isso pode dizer sobre a distribuição da variável `false_pulsar_mean_profile_standardized`?**\n",
    "A distribuição de Z é Normal(0;1), logo a distribuição da variável possui uma distribuição normal padrão com média 0 e variância 1. \n",
    "\n",
    ">Curiosidade: alguns testes de hipóteses sobre normalidade dos dados utilizam essa mesma abordagem."
   ]
  },
  {
   "cell_type": "markdown",
   "metadata": {},
   "source": [
    "_________\n",
    "## Conclusão\n",
    "________"
   ]
  },
  {
   "cell_type": "markdown",
   "metadata": {},
   "source": [
    "Exploramos as principais funções sobre distribuições de probabilidade como PDF, CDF e quantis e as relações entre duas das principais distribuições: a normal e a binomial.\n",
    "\n",
    "Verificamos a aproximação da distribuição binomial pela normal, e com isso conseguimos obter as probabilidades que já são conhecidas pela normal.\n",
    "\n",
    "Verificamos que podemos transformar qualquer distribuição normal numa distribuição normal padrão, logo os quartis da variável analisada será próximos dos quartis de uma distribuição normal padrão.\n",
    "\n",
    "Muito aprendizado sobre os tipos de distribuição, alguns conceitos precisam ser estudados mais a fundo num segundo momento para consolidação do conhecimento."
   ]
  }
 ],
 "metadata": {
  "kernelspec": {
   "display_name": "Python 3",
   "language": "python",
   "name": "python3"
  },
  "language_info": {
   "codemirror_mode": {
    "name": "ipython",
    "version": 3
   },
   "file_extension": ".py",
   "mimetype": "text/x-python",
   "name": "python",
   "nbconvert_exporter": "python",
   "pygments_lexer": "ipython3",
   "version": "3.7.7"
  }
 },
 "nbformat": 4,
 "nbformat_minor": 4
}
