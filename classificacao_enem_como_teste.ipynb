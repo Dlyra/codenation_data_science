{
 "cells": [
  {
   "cell_type": "markdown",
   "metadata": {},
   "source": [
    "![title](logo.png)"
   ]
  },
  {
   "cell_type": "markdown",
   "metadata": {},
   "source": [
    "_____\n",
    "\n",
    "# Desafio 8 - Descubra quem fez o ENEM 2016 apenas para treino\n",
    "_____"
   ]
  },
  {
   "cell_type": "markdown",
   "metadata": {},
   "source": [
    "### Base de Dados\n",
    "\n",
    "O contexto do desafio gira em torno dos resultados do ENEM 2016 (disponíveis no arquivo enem_train.csv). Este arquivo, e apenas ele, deve ser utilizado para todos os desafios. \n",
    "\n",
    "Qualquer dúvida a respeito das colunas, consulte o [Dicionário dos Microdados do Enem 2016](https://s3-us-west-1.amazonaws.com/acceleration-assets-highway/data-science/dicionario-de-dados.zip).\n",
    "\n",
    "Muitas universidades brasileiras utilizam o ENEM para selecionar seus futuros alunos e alunas. Isto é feito com uma média ponderada das notas das provas de matemática, ciências da natureza, linguagens e códigos, ciências humanas e redação. Determine os 20 melhores colocados, por ordem, para os pesos abaixo:\n",
    "\n",
    "- matemática: 3\n",
    "- ciências da natureza: 2\n",
    "- linguagens e códigos: 1.5\n",
    "- ciências humanas: 1\n",
    "- redação: 3\n",
    "\n",
    "O micro dados do INEP está disponível em: http://inep.gov.br/microdados\n",
    "\n",
    "\n",
    "### Objetivo\n",
    "\n",
    "Criar um modelo para descobrir quais estudantes estão fazendo a prova apenas para treino. \n",
    "\n",
    "Alguns estudantes decidem realizar prova do ENEM de forma precoce, como um teste (coluna **IN_TREINEIRO**). \n",
    "\n",
    "Neste desafio, você deve criar um modelo de classificação binária para inferir a mesma. \n",
    "\n",
    "Os resultados possíveis da sua resposta devem ser “0” ou “1”.\n",
    "\n",
    "Salve sua resposta em um arquivo chamado answer.csv com duas colunas: **NU_INSCRICAO e IN_TREINEIRO**."
   ]
  },
  {
   "cell_type": "markdown",
   "metadata": {},
   "source": [
    "_______\n",
    "### Importando as bibliotecas"
   ]
  },
  {
   "cell_type": "code",
   "execution_count": 507,
   "metadata": {},
   "outputs": [],
   "source": [
    "import pandas as pd\n",
    "import numpy as np\n",
    "from IPython.display import Image\n",
    "import joblib\n",
    "\n",
    "# visualização gráfica\n",
    "import seaborn as sns \n",
    "import matplotlib.pyplot as plt\n",
    "\n",
    "# modelo\n",
    "import sklearn\n",
    "from imblearn.over_sampling import SMOTE\n",
    "from sklearn.ensemble import RandomForestClassifier\n",
    "from sklearn.ensemble import GradientBoostingRegressor\n",
    "from sklearn.preprocessing import StandardScaler, MinMaxScaler\n",
    "from sklearn.feature_selection import RFE\n",
    "from sklearn.decomposition import PCA\n",
    "from sklearn.preprocessing import LabelEncoder,OneHotEncoder\n",
    "import sklearn.metrics as metrics\n",
    "\n",
    "import warnings\n",
    "warnings.filterwarnings('ignore')"
   ]
  },
  {
   "cell_type": "markdown",
   "metadata": {},
   "source": [
    "## Análise Exploratória\n",
    "_______"
   ]
  },
  {
   "cell_type": "markdown",
   "metadata": {},
   "source": [
    "Não fiz uma análise exploratória, pois o dataset é o mesmo do desafio da semana 7 de prever a nota de matemática. \n",
    "\n",
    "A parte exploratória você encontrará no arquivo _**prever_nota_enem.ipynb**_ que consta neste repositório."
   ]
  },
  {
   "cell_type": "markdown",
   "metadata": {},
   "source": [
    "## Pré-Processamento\n",
    "\n",
    "____"
   ]
  },
  {
   "cell_type": "markdown",
   "metadata": {},
   "source": [
    "### Ajustes\n",
    "\n",
    "Como vimos, o tamanho das features dos dataset de treino e teste possuem tamanhos diferentes o que irá limitar um pouco nossa escolhas.\n",
    "\n",
    "Para facilitar vou definir que ambos possuam a mesma quantidade de features."
   ]
  },
  {
   "cell_type": "code",
   "execution_count": 482,
   "metadata": {},
   "outputs": [],
   "source": [
    "# importa os arquivos test e train\n",
    "test = pd.read_csv('./enem_test.csv', sep=\",\",encoding=\"utf-8\")\n",
    "train = pd.read_csv('./enem_train.csv',sep=\",\",encoding=\"utf-8\")\n",
    "\n",
    "# cria o dataset de respostas que será enviado ao desafio\n",
    "df_resposta = pd.DataFrame()\n",
    "\n",
    "# insere a coluna de inscrição\n",
    "df_resposta['NU_INSCRICAO'] = test['NU_INSCRICAO'] "
   ]
  },
  {
   "cell_type": "code",
   "execution_count": 483,
   "metadata": {},
   "outputs": [
    {
     "name": "stdout",
     "output_type": "stream",
     "text": [
      "(13730, 167)\n",
      "(4570, 43)\n"
     ]
    }
   ],
   "source": [
    "# verifica os tamanhos dos dataset\n",
    "print(train.shape)\n",
    "print(test.shape)"
   ]
  },
  {
   "cell_type": "code",
   "execution_count": 484,
   "metadata": {},
   "outputs": [],
   "source": [
    "# faz uma cópia do dataframe importado\n",
    "df_train = train.copy()\n",
    "df_test = test.copy()"
   ]
  },
  {
   "cell_type": "code",
   "execution_count": 485,
   "metadata": {},
   "outputs": [
    {
     "data": {
      "text/plain": [
       "['NU_INSCRICAO',\n",
       " 'CO_UF_RESIDENCIA',\n",
       " 'SG_UF_RESIDENCIA',\n",
       " 'NU_IDADE',\n",
       " 'TP_SEXO',\n",
       " 'TP_COR_RACA',\n",
       " 'TP_NACIONALIDADE',\n",
       " 'TP_ST_CONCLUSAO',\n",
       " 'TP_ANO_CONCLUIU',\n",
       " 'TP_ESCOLA',\n",
       " 'TP_ENSINO',\n",
       " 'TP_DEPENDENCIA_ADM_ESC',\n",
       " 'IN_BAIXA_VISAO',\n",
       " 'IN_CEGUEIRA',\n",
       " 'IN_SURDEZ',\n",
       " 'IN_DISLEXIA',\n",
       " 'IN_DISCALCULIA',\n",
       " 'IN_SABATISTA',\n",
       " 'IN_GESTANTE',\n",
       " 'IN_IDOSO',\n",
       " 'TP_PRESENCA_CN',\n",
       " 'TP_PRESENCA_CH',\n",
       " 'TP_PRESENCA_LC',\n",
       " 'TP_PRESENCA_MT',\n",
       " 'NU_NOTA_CN',\n",
       " 'NU_NOTA_CH',\n",
       " 'NU_NOTA_LC',\n",
       " 'TP_LINGUA',\n",
       " 'TP_STATUS_REDACAO',\n",
       " 'NU_NOTA_COMP1',\n",
       " 'NU_NOTA_COMP2',\n",
       " 'NU_NOTA_COMP3',\n",
       " 'NU_NOTA_COMP4',\n",
       " 'NU_NOTA_COMP5',\n",
       " 'NU_NOTA_REDACAO',\n",
       " 'Q001',\n",
       " 'Q002',\n",
       " 'Q006',\n",
       " 'Q024',\n",
       " 'Q025',\n",
       " 'Q026',\n",
       " 'Q027',\n",
       " 'Q047']"
      ]
     },
     "execution_count": 485,
     "metadata": {},
     "output_type": "execute_result"
    }
   ],
   "source": [
    "# verifica as colunas que constam em teste.\n",
    "columns_ajust = list(test.columns)\n",
    "columns_ajust"
   ]
  },
  {
   "cell_type": "code",
   "execution_count": 486,
   "metadata": {},
   "outputs": [
    {
     "data": {
      "text/plain": [
       "['NU_INSCRICAO',\n",
       " 'CO_UF_RESIDENCIA',\n",
       " 'SG_UF_RESIDENCIA',\n",
       " 'NU_IDADE',\n",
       " 'TP_SEXO',\n",
       " 'TP_COR_RACA',\n",
       " 'TP_NACIONALIDADE',\n",
       " 'TP_ST_CONCLUSAO',\n",
       " 'TP_ANO_CONCLUIU',\n",
       " 'TP_ESCOLA',\n",
       " 'TP_ENSINO',\n",
       " 'TP_DEPENDENCIA_ADM_ESC',\n",
       " 'IN_BAIXA_VISAO',\n",
       " 'IN_CEGUEIRA',\n",
       " 'IN_SURDEZ',\n",
       " 'IN_DISLEXIA',\n",
       " 'IN_DISCALCULIA',\n",
       " 'IN_SABATISTA',\n",
       " 'IN_GESTANTE',\n",
       " 'IN_IDOSO',\n",
       " 'TP_PRESENCA_CN',\n",
       " 'TP_PRESENCA_CH',\n",
       " 'TP_PRESENCA_LC',\n",
       " 'TP_PRESENCA_MT',\n",
       " 'NU_NOTA_CN',\n",
       " 'NU_NOTA_CH',\n",
       " 'NU_NOTA_LC',\n",
       " 'TP_LINGUA',\n",
       " 'TP_STATUS_REDACAO',\n",
       " 'NU_NOTA_COMP1',\n",
       " 'NU_NOTA_COMP2',\n",
       " 'NU_NOTA_COMP3',\n",
       " 'NU_NOTA_COMP4',\n",
       " 'NU_NOTA_COMP5',\n",
       " 'NU_NOTA_REDACAO',\n",
       " 'Q001',\n",
       " 'Q002',\n",
       " 'Q006',\n",
       " 'Q024',\n",
       " 'Q025',\n",
       " 'Q026',\n",
       " 'Q027',\n",
       " 'Q047',\n",
       " 'IN_TREINEIRO']"
      ]
     },
     "execution_count": 486,
     "metadata": {},
     "output_type": "execute_result"
    }
   ],
   "source": [
    "# vamos adicionar a variável target nas features existentes \n",
    "columns_ajust.append('IN_TREINEIRO')\n",
    "columns_ajust"
   ]
  },
  {
   "cell_type": "code",
   "execution_count": 487,
   "metadata": {},
   "outputs": [
    {
     "data": {
      "text/html": [
       "<div>\n",
       "<style scoped>\n",
       "    .dataframe tbody tr th:only-of-type {\n",
       "        vertical-align: middle;\n",
       "    }\n",
       "\n",
       "    .dataframe tbody tr th {\n",
       "        vertical-align: top;\n",
       "    }\n",
       "\n",
       "    .dataframe thead th {\n",
       "        text-align: right;\n",
       "    }\n",
       "</style>\n",
       "<table border=\"1\" class=\"dataframe\">\n",
       "  <thead>\n",
       "    <tr style=\"text-align: right;\">\n",
       "      <th></th>\n",
       "      <th>NU_INSCRICAO</th>\n",
       "      <th>CO_UF_RESIDENCIA</th>\n",
       "      <th>SG_UF_RESIDENCIA</th>\n",
       "      <th>NU_IDADE</th>\n",
       "      <th>TP_SEXO</th>\n",
       "      <th>TP_COR_RACA</th>\n",
       "      <th>TP_NACIONALIDADE</th>\n",
       "      <th>TP_ST_CONCLUSAO</th>\n",
       "      <th>TP_ANO_CONCLUIU</th>\n",
       "      <th>TP_ESCOLA</th>\n",
       "      <th>...</th>\n",
       "      <th>NU_NOTA_REDACAO</th>\n",
       "      <th>Q001</th>\n",
       "      <th>Q002</th>\n",
       "      <th>Q006</th>\n",
       "      <th>Q024</th>\n",
       "      <th>Q025</th>\n",
       "      <th>Q026</th>\n",
       "      <th>Q027</th>\n",
       "      <th>Q047</th>\n",
       "      <th>IN_TREINEIRO</th>\n",
       "    </tr>\n",
       "  </thead>\n",
       "  <tbody>\n",
       "    <tr>\n",
       "      <th>0</th>\n",
       "      <td>ed50e8aaa58e7a806c337585efee9ca41f1eb1ad</td>\n",
       "      <td>43</td>\n",
       "      <td>RS</td>\n",
       "      <td>24</td>\n",
       "      <td>M</td>\n",
       "      <td>1</td>\n",
       "      <td>1</td>\n",
       "      <td>1</td>\n",
       "      <td>4</td>\n",
       "      <td>1</td>\n",
       "      <td>...</td>\n",
       "      <td>520.0</td>\n",
       "      <td>D</td>\n",
       "      <td>D</td>\n",
       "      <td>C</td>\n",
       "      <td>A</td>\n",
       "      <td>A</td>\n",
       "      <td>C</td>\n",
       "      <td>H</td>\n",
       "      <td>A</td>\n",
       "      <td>0</td>\n",
       "    </tr>\n",
       "    <tr>\n",
       "      <th>1</th>\n",
       "      <td>2c3acac4b33ec2b195d77e7c04a2d75727fad723</td>\n",
       "      <td>23</td>\n",
       "      <td>CE</td>\n",
       "      <td>17</td>\n",
       "      <td>F</td>\n",
       "      <td>3</td>\n",
       "      <td>1</td>\n",
       "      <td>2</td>\n",
       "      <td>0</td>\n",
       "      <td>2</td>\n",
       "      <td>...</td>\n",
       "      <td>580.0</td>\n",
       "      <td>A</td>\n",
       "      <td>A</td>\n",
       "      <td>B</td>\n",
       "      <td>A</td>\n",
       "      <td>A</td>\n",
       "      <td>A</td>\n",
       "      <td>NaN</td>\n",
       "      <td>A</td>\n",
       "      <td>0</td>\n",
       "    </tr>\n",
       "  </tbody>\n",
       "</table>\n",
       "<p>2 rows × 44 columns</p>\n",
       "</div>"
      ],
      "text/plain": [
       "                               NU_INSCRICAO  CO_UF_RESIDENCIA  \\\n",
       "0  ed50e8aaa58e7a806c337585efee9ca41f1eb1ad                43   \n",
       "1  2c3acac4b33ec2b195d77e7c04a2d75727fad723                23   \n",
       "\n",
       "  SG_UF_RESIDENCIA  NU_IDADE TP_SEXO  TP_COR_RACA  TP_NACIONALIDADE  \\\n",
       "0               RS        24       M            1                 1   \n",
       "1               CE        17       F            3                 1   \n",
       "\n",
       "   TP_ST_CONCLUSAO  TP_ANO_CONCLUIU  TP_ESCOLA  ...  NU_NOTA_REDACAO  Q001  \\\n",
       "0                1                4          1  ...            520.0     D   \n",
       "1                2                0          2  ...            580.0     A   \n",
       "\n",
       "   Q002  Q006  Q024  Q025  Q026  Q027  Q047  IN_TREINEIRO  \n",
       "0     D     C     A     A     C     H     A             0  \n",
       "1     A     B     A     A     A   NaN     A             0  \n",
       "\n",
       "[2 rows x 44 columns]"
      ]
     },
     "execution_count": 487,
     "metadata": {},
     "output_type": "execute_result"
    }
   ],
   "source": [
    "# ajustar as colunas no dataset de treino ao de teste\n",
    "df_train = df_train[columns_ajust]\n",
    "df_train.head(2)"
   ]
  },
  {
   "cell_type": "code",
   "execution_count": 488,
   "metadata": {},
   "outputs": [
    {
     "data": {
      "text/plain": [
       "array([0, 1])"
      ]
     },
     "execution_count": 488,
     "metadata": {},
     "output_type": "execute_result"
    }
   ],
   "source": [
    "# a variável alvo já possui a saída binária\n",
    "df_train['IN_TREINEIRO'].unique()"
   ]
  },
  {
   "cell_type": "code",
   "execution_count": 489,
   "metadata": {},
   "outputs": [
    {
     "name": "stdout",
     "output_type": "stream",
     "text": [
      "(4570, 43)\n",
      "(13730, 44)\n"
     ]
    }
   ],
   "source": [
    "# valida os tamanhos dos dados\n",
    "print(df_test.shape)\n",
    "print(df_train.shape) # tem 01 a mais que é a nossa target 'IN_TREINEIRO'"
   ]
  },
  {
   "cell_type": "markdown",
   "metadata": {},
   "source": [
    "### Verificar os Campos Nulos"
   ]
  },
  {
   "cell_type": "markdown",
   "metadata": {},
   "source": [
    "Temos os mesmos campos nulos do desafio anterior de prever nota\n",
    "\n",
    "- **Q027** representa um dado do questionário socioeconômico - \"Com que idade você começou a exercer uma atividade remunerada?\".\n",
    "- **TP_ENSINO** - \"Tipo de Instituição que concluiu ou concluirá o Ensino Médio\"\n",
    "- **TP_DEPENDENCIA_ADM_ESC** -\"Dependência administrativa (Escola)\"\n",
    "- **NU_NOTA_$** - Correspondem aos campos das notas das provas: CN- Ciência da Natureza, CH- Ciência Humanas, LC- Linguagens e Códigos e MT- Matemática e Redação."
   ]
  },
  {
   "cell_type": "code",
   "execution_count": 490,
   "metadata": {},
   "outputs": [
    {
     "data": {
      "text/plain": [
       "NU_INSCRICAO                 0\n",
       "CO_UF_RESIDENCIA             0\n",
       "SG_UF_RESIDENCIA             0\n",
       "NU_IDADE                     0\n",
       "TP_SEXO                      0\n",
       "TP_COR_RACA                  0\n",
       "TP_NACIONALIDADE             0\n",
       "TP_ST_CONCLUSAO              0\n",
       "TP_ANO_CONCLUIU              0\n",
       "TP_ESCOLA                    0\n",
       "TP_ENSINO                 3144\n",
       "TP_DEPENDENCIA_ADM_ESC    3144\n",
       "IN_BAIXA_VISAO               0\n",
       "IN_CEGUEIRA                  0\n",
       "IN_SURDEZ                    0\n",
       "IN_DISLEXIA                  0\n",
       "IN_DISCALCULIA               0\n",
       "IN_SABATISTA                 0\n",
       "IN_GESTANTE                  0\n",
       "IN_IDOSO                     0\n",
       "TP_PRESENCA_CN               0\n",
       "TP_PRESENCA_CH               0\n",
       "TP_PRESENCA_LC               0\n",
       "TP_PRESENCA_MT               0\n",
       "NU_NOTA_CN                1112\n",
       "NU_NOTA_CH                1112\n",
       "NU_NOTA_LC                1170\n",
       "TP_LINGUA                    0\n",
       "TP_STATUS_REDACAO         1170\n",
       "NU_NOTA_COMP1             1170\n",
       "NU_NOTA_COMP2             1170\n",
       "NU_NOTA_COMP3             1170\n",
       "NU_NOTA_COMP4             1170\n",
       "NU_NOTA_COMP5             1170\n",
       "NU_NOTA_REDACAO           1170\n",
       "Q001                         0\n",
       "Q002                         0\n",
       "Q006                         0\n",
       "Q024                         0\n",
       "Q025                         0\n",
       "Q026                         0\n",
       "Q027                      2437\n",
       "Q047                         0\n",
       "dtype: int64"
      ]
     },
     "execution_count": 490,
     "metadata": {},
     "output_type": "execute_result"
    }
   ],
   "source": [
    "df_test.isnull().sum()"
   ]
  },
  {
   "cell_type": "code",
   "execution_count": 27,
   "metadata": {},
   "outputs": [
    {
     "data": {
      "text/plain": [
       "NU_INSCRICAO                 0\n",
       "CO_UF_RESIDENCIA             0\n",
       "SG_UF_RESIDENCIA             0\n",
       "NU_IDADE                     0\n",
       "TP_SEXO                      0\n",
       "TP_COR_RACA                  0\n",
       "TP_NACIONALIDADE             0\n",
       "TP_ST_CONCLUSAO              0\n",
       "TP_ANO_CONCLUIU              0\n",
       "TP_ESCOLA                    0\n",
       "TP_ENSINO                 9448\n",
       "TP_DEPENDENCIA_ADM_ESC    9448\n",
       "IN_BAIXA_VISAO               0\n",
       "IN_CEGUEIRA                  0\n",
       "IN_SURDEZ                    0\n",
       "IN_DISLEXIA                  0\n",
       "IN_DISCALCULIA               0\n",
       "IN_SABATISTA                 0\n",
       "IN_GESTANTE                  0\n",
       "IN_IDOSO                     0\n",
       "TP_PRESENCA_CN               0\n",
       "TP_PRESENCA_CH               0\n",
       "TP_PRESENCA_LC               0\n",
       "TP_PRESENCA_MT               0\n",
       "NU_NOTA_CN                3389\n",
       "NU_NOTA_CH                3389\n",
       "NU_NOTA_LC                3597\n",
       "TP_LINGUA                    0\n",
       "TP_STATUS_REDACAO         3597\n",
       "NU_NOTA_COMP1             3597\n",
       "NU_NOTA_COMP2             3597\n",
       "NU_NOTA_COMP3             3597\n",
       "NU_NOTA_COMP4             3597\n",
       "NU_NOTA_COMP5             3597\n",
       "NU_NOTA_REDACAO           3597\n",
       "Q001                         0\n",
       "Q002                         0\n",
       "Q006                         0\n",
       "Q024                         0\n",
       "Q025                         0\n",
       "Q026                         0\n",
       "Q027                      7373\n",
       "Q047                         0\n",
       "IN_TREINEIRO                 0\n",
       "dtype: int64"
      ]
     },
     "execution_count": 27,
     "metadata": {},
     "output_type": "execute_result"
    }
   ],
   "source": [
    "df_train.isnull().sum()"
   ]
  },
  {
   "cell_type": "markdown",
   "metadata": {},
   "source": [
    "### Tratamento dos Campos Nulos\n",
    "\n",
    "Algumas das possibilidades para tratar campos nulos são:\n",
    "\n",
    "    - Exclui esses dados do dataset;\n",
    "    - Preencher os campos com a média dos valores do campo e\n",
    "    - Preencher os campos nulos com zeros.\n",
    "    \n",
    " Como o dataset possui poucos registros excluir os campos faltantes pode ser prejudicial para o modelo.\n",
    "\n",
    " Preencher com a média dos valores no campo das notas não me parece correto. \n",
    " Pois, estaria afirmando que o canditado fez a prova nos dois dias e que não houve falta. \n",
    "\n",
    " Por fim, restou **preencher os campos nulos com zeros** e dessa forma o modelo não será treinado com valores faltantes. \n",
    "___"
   ]
  },
  {
   "cell_type": "code",
   "execution_count": 491,
   "metadata": {},
   "outputs": [
    {
     "data": {
      "text/plain": [
       "NU_INSCRICAO              0\n",
       "CO_UF_RESIDENCIA          0\n",
       "SG_UF_RESIDENCIA          0\n",
       "NU_IDADE                  0\n",
       "TP_SEXO                   0\n",
       "TP_COR_RACA               0\n",
       "TP_NACIONALIDADE          0\n",
       "TP_ST_CONCLUSAO           0\n",
       "TP_ANO_CONCLUIU           0\n",
       "TP_ESCOLA                 0\n",
       "TP_ENSINO                 0\n",
       "TP_DEPENDENCIA_ADM_ESC    0\n",
       "IN_BAIXA_VISAO            0\n",
       "IN_CEGUEIRA               0\n",
       "IN_SURDEZ                 0\n",
       "IN_DISLEXIA               0\n",
       "IN_DISCALCULIA            0\n",
       "IN_SABATISTA              0\n",
       "IN_GESTANTE               0\n",
       "IN_IDOSO                  0\n",
       "TP_PRESENCA_CN            0\n",
       "TP_PRESENCA_CH            0\n",
       "TP_PRESENCA_LC            0\n",
       "TP_PRESENCA_MT            0\n",
       "NU_NOTA_CN                0\n",
       "NU_NOTA_CH                0\n",
       "NU_NOTA_LC                0\n",
       "TP_LINGUA                 0\n",
       "TP_STATUS_REDACAO         0\n",
       "NU_NOTA_COMP1             0\n",
       "NU_NOTA_COMP2             0\n",
       "NU_NOTA_COMP3             0\n",
       "NU_NOTA_COMP4             0\n",
       "NU_NOTA_COMP5             0\n",
       "NU_NOTA_REDACAO           0\n",
       "Q001                      0\n",
       "Q002                      0\n",
       "Q006                      0\n",
       "Q024                      0\n",
       "Q025                      0\n",
       "Q026                      0\n",
       "Q027                      0\n",
       "Q047                      0\n",
       "IN_TREINEIRO              0\n",
       "dtype: int64"
      ]
     },
     "execution_count": 491,
     "metadata": {},
     "output_type": "execute_result"
    }
   ],
   "source": [
    "# substitui os campos nulos das features de TREINO por zero\n",
    "df_train = df_train.fillna(0)\n",
    "df_train.isnull().sum()"
   ]
  },
  {
   "cell_type": "code",
   "execution_count": 492,
   "metadata": {},
   "outputs": [
    {
     "data": {
      "text/plain": [
       "NU_INSCRICAO              0\n",
       "CO_UF_RESIDENCIA          0\n",
       "SG_UF_RESIDENCIA          0\n",
       "NU_IDADE                  0\n",
       "TP_SEXO                   0\n",
       "TP_COR_RACA               0\n",
       "TP_NACIONALIDADE          0\n",
       "TP_ST_CONCLUSAO           0\n",
       "TP_ANO_CONCLUIU           0\n",
       "TP_ESCOLA                 0\n",
       "TP_ENSINO                 0\n",
       "TP_DEPENDENCIA_ADM_ESC    0\n",
       "IN_BAIXA_VISAO            0\n",
       "IN_CEGUEIRA               0\n",
       "IN_SURDEZ                 0\n",
       "IN_DISLEXIA               0\n",
       "IN_DISCALCULIA            0\n",
       "IN_SABATISTA              0\n",
       "IN_GESTANTE               0\n",
       "IN_IDOSO                  0\n",
       "TP_PRESENCA_CN            0\n",
       "TP_PRESENCA_CH            0\n",
       "TP_PRESENCA_LC            0\n",
       "TP_PRESENCA_MT            0\n",
       "NU_NOTA_CN                0\n",
       "NU_NOTA_CH                0\n",
       "NU_NOTA_LC                0\n",
       "TP_LINGUA                 0\n",
       "TP_STATUS_REDACAO         0\n",
       "NU_NOTA_COMP1             0\n",
       "NU_NOTA_COMP2             0\n",
       "NU_NOTA_COMP3             0\n",
       "NU_NOTA_COMP4             0\n",
       "NU_NOTA_COMP5             0\n",
       "NU_NOTA_REDACAO           0\n",
       "Q001                      0\n",
       "Q002                      0\n",
       "Q006                      0\n",
       "Q024                      0\n",
       "Q025                      0\n",
       "Q026                      0\n",
       "Q027                      0\n",
       "Q047                      0\n",
       "dtype: int64"
      ]
     },
     "execution_count": 492,
     "metadata": {},
     "output_type": "execute_result"
    }
   ],
   "source": [
    "# substitui os campos nulos das features de TESTE por zero\n",
    "df_test= df_test.fillna(0)\n",
    "df_test.isnull().sum()"
   ]
  },
  {
   "cell_type": "markdown",
   "metadata": {},
   "source": [
    "## Seleção das Features\n",
    "_____"
   ]
  },
  {
   "cell_type": "markdown",
   "metadata": {},
   "source": [
    "Apesar de algumas colunas possuírem valores númericos, não quer dizer que é um valor com ordem de grandeza.\n",
    "\n",
    "São variáveis categóricas com a opções que ao invés de ser ums string são números.\n",
    "\n",
    "As colunas: \n",
    "- CO_UF_RESIDENCIA\n",
    "- TP_COR_RACA\n",
    "- TP_NACIONALIDADE\n",
    "- TP_ST_CONCLUSAO\n",
    "- TP_ANO_CONCLUIU\n",
    "- TP_ESCOLA\n",
    "- TP_ENSINO\n",
    "- TP_DEPENDENCIA_ADM_ESC \n",
    "- TP_PRESENCA_CN\n",
    "- TP_PRESENCA_CH\n",
    "- TP_PRESENCA_LC\n",
    "- TP_STATUS_REDACAO"
   ]
  },
  {
   "cell_type": "code",
   "execution_count": 493,
   "metadata": {},
   "outputs": [],
   "source": [
    "# separa os dados de treino e test\n",
    "X_features = df_train.drop('IN_TREINEIRO', axis='columns')\n",
    "y_features = df_train['IN_TREINEIRO']  # variável target"
   ]
  },
  {
   "cell_type": "code",
   "execution_count": 494,
   "metadata": {},
   "outputs": [
    {
     "data": {
      "text/plain": [
       "['NU_INSCRICAO',\n",
       " 'SG_UF_RESIDENCIA',\n",
       " 'TP_SEXO',\n",
       " 'Q001',\n",
       " 'Q002',\n",
       " 'Q006',\n",
       " 'Q024',\n",
       " 'Q025',\n",
       " 'Q026',\n",
       " 'Q027',\n",
       " 'Q047',\n",
       " 'CO_UF_RESIDENCIA',\n",
       " 'TP_COR_RACA',\n",
       " 'TP_NACIONALIDADE',\n",
       " 'TP_ST_CONCLUSAO',\n",
       " 'TP_ANO_CONCLUIU',\n",
       " 'TP_ESCOLA',\n",
       " 'TP_ENSINO',\n",
       " 'TP_DEPENDENCIA_ADM_ESC',\n",
       " 'TP_PRESENCA_CN',\n",
       " 'TP_PRESENCA_CH',\n",
       " 'TP_PRESENCA_LC',\n",
       " 'TP_STATUS_REDACAO']"
      ]
     },
     "execution_count": 494,
     "metadata": {},
     "output_type": "execute_result"
    }
   ],
   "source": [
    "# separa apenas as variáveis categóricas\n",
    "columns_transform = X_features.select_dtypes(exclude='number').columns.tolist()\n",
    "columns_transform.extend(['CO_UF_RESIDENCIA',\n",
    "                          'TP_COR_RACA',\n",
    "                          'TP_NACIONALIDADE',\n",
    "                          'TP_ST_CONCLUSAO',\n",
    "                          'TP_ANO_CONCLUIU',\n",
    "                          'TP_ESCOLA',\n",
    "                          'TP_ENSINO',\n",
    "                          'TP_DEPENDENCIA_ADM_ESC',\n",
    "                          'TP_PRESENCA_CN',\n",
    "                          'TP_PRESENCA_CH',\n",
    "                          'TP_PRESENCA_LC',\n",
    "                          'TP_STATUS_REDACAO'])\n",
    "columns_transform"
   ]
  },
  {
   "cell_type": "code",
   "execution_count": 495,
   "metadata": {},
   "outputs": [],
   "source": [
    "# converte essas colunas em string para posterior transformação\n",
    "X_features['Q027']= X_features['Q027'].astype(str)\n",
    "X_features['Q027']= X_features['Q027'].astype(str)"
   ]
  },
  {
   "cell_type": "code",
   "execution_count": 496,
   "metadata": {},
   "outputs": [],
   "source": [
    "# transforma as variáveis categórias em númericas\n",
    "OHE = OneHotEncoder(sparse=False)\n",
    "for coluna in X_features.columns:\n",
    "    if coluna in columns_transform:\n",
    "        try:\n",
    "            X_features[coluna] = OHE.fit_transform(X_features[[coluna]])\n",
    "\n",
    "        except:\n",
    "            print(f\"Nao foi possivel realizar a operacao para a coluna {coluna}\")"
   ]
  },
  {
   "cell_type": "code",
   "execution_count": 497,
   "metadata": {},
   "outputs": [],
   "source": [
    "# normaliza os dados\n",
    "sc = StandardScaler()  \n",
    "X_features = sc.fit_transform(X_features)"
   ]
  },
  {
   "cell_type": "code",
   "execution_count": 498,
   "metadata": {},
   "outputs": [
    {
     "data": {
      "text/plain": [
       "(13730, 24)"
      ]
     },
     "execution_count": 498,
     "metadata": {},
     "output_type": "execute_result"
    }
   ],
   "source": [
    "# analise dos componentes principais\n",
    "pca = PCA(n_components=0.95).fit_transform(X_features)\n",
    "pca.shape  # o segundo elemento da tupla é o número de componentes encontrados"
   ]
  },
  {
   "cell_type": "code",
   "execution_count": 508,
   "metadata": {},
   "outputs": [],
   "source": [
    "# aplica o RFE com o número de componentes do PCA\n",
    "estimador = GradientBoostingRegressor() \n",
    "rfe = RFE(estimador, 24, step=1)"
   ]
  },
  {
   "cell_type": "code",
   "execution_count": 509,
   "metadata": {},
   "outputs": [
    {
     "data": {
      "text/plain": [
       "RFE(estimator=GradientBoostingRegressor(), n_features_to_select=24)"
      ]
     },
     "execution_count": 509,
     "metadata": {},
     "output_type": "execute_result"
    }
   ],
   "source": [
    "rfe.fit(X_features,y_features)"
   ]
  },
  {
   "cell_type": "code",
   "execution_count": 511,
   "metadata": {},
   "outputs": [
    {
     "data": {
      "text/html": [
       "<div>\n",
       "<style scoped>\n",
       "    .dataframe tbody tr th:only-of-type {\n",
       "        vertical-align: middle;\n",
       "    }\n",
       "\n",
       "    .dataframe tbody tr th {\n",
       "        vertical-align: top;\n",
       "    }\n",
       "\n",
       "    .dataframe thead th {\n",
       "        text-align: right;\n",
       "    }\n",
       "</style>\n",
       "<table border=\"1\" class=\"dataframe\">\n",
       "  <thead>\n",
       "    <tr style=\"text-align: right;\">\n",
       "      <th></th>\n",
       "      <th>NU_IDADE</th>\n",
       "      <th>TP_SEXO</th>\n",
       "      <th>TP_ST_CONCLUSAO</th>\n",
       "      <th>TP_ANO_CONCLUIU</th>\n",
       "      <th>TP_ESCOLA</th>\n",
       "      <th>TP_ENSINO</th>\n",
       "      <th>TP_DEPENDENCIA_ADM_ESC</th>\n",
       "      <th>IN_BAIXA_VISAO</th>\n",
       "      <th>TP_PRESENCA_CH</th>\n",
       "      <th>TP_PRESENCA_LC</th>\n",
       "      <th>...</th>\n",
       "      <th>NU_NOTA_COMP1</th>\n",
       "      <th>NU_NOTA_COMP3</th>\n",
       "      <th>NU_NOTA_COMP4</th>\n",
       "      <th>NU_NOTA_COMP5</th>\n",
       "      <th>NU_NOTA_REDACAO</th>\n",
       "      <th>Q001</th>\n",
       "      <th>Q024</th>\n",
       "      <th>Q025</th>\n",
       "      <th>Q026</th>\n",
       "      <th>Q047</th>\n",
       "    </tr>\n",
       "  </thead>\n",
       "  <tbody>\n",
       "    <tr>\n",
       "      <th>0</th>\n",
       "      <td>24</td>\n",
       "      <td>M</td>\n",
       "      <td>1</td>\n",
       "      <td>4</td>\n",
       "      <td>1</td>\n",
       "      <td>0.0</td>\n",
       "      <td>0.0</td>\n",
       "      <td>0</td>\n",
       "      <td>1</td>\n",
       "      <td>1</td>\n",
       "      <td>...</td>\n",
       "      <td>120.0</td>\n",
       "      <td>120.0</td>\n",
       "      <td>80.0</td>\n",
       "      <td>80.0</td>\n",
       "      <td>520.0</td>\n",
       "      <td>D</td>\n",
       "      <td>A</td>\n",
       "      <td>A</td>\n",
       "      <td>C</td>\n",
       "      <td>A</td>\n",
       "    </tr>\n",
       "    <tr>\n",
       "      <th>1</th>\n",
       "      <td>17</td>\n",
       "      <td>F</td>\n",
       "      <td>2</td>\n",
       "      <td>0</td>\n",
       "      <td>2</td>\n",
       "      <td>1.0</td>\n",
       "      <td>2.0</td>\n",
       "      <td>0</td>\n",
       "      <td>1</td>\n",
       "      <td>1</td>\n",
       "      <td>...</td>\n",
       "      <td>140.0</td>\n",
       "      <td>120.0</td>\n",
       "      <td>120.0</td>\n",
       "      <td>80.0</td>\n",
       "      <td>580.0</td>\n",
       "      <td>A</td>\n",
       "      <td>A</td>\n",
       "      <td>A</td>\n",
       "      <td>A</td>\n",
       "      <td>A</td>\n",
       "    </tr>\n",
       "  </tbody>\n",
       "</table>\n",
       "<p>2 rows × 24 columns</p>\n",
       "</div>"
      ],
      "text/plain": [
       "   NU_IDADE TP_SEXO  TP_ST_CONCLUSAO  TP_ANO_CONCLUIU  TP_ESCOLA  TP_ENSINO  \\\n",
       "0        24       M                1                4          1        0.0   \n",
       "1        17       F                2                0          2        1.0   \n",
       "\n",
       "   TP_DEPENDENCIA_ADM_ESC  IN_BAIXA_VISAO  TP_PRESENCA_CH  TP_PRESENCA_LC  \\\n",
       "0                     0.0               0               1               1   \n",
       "1                     2.0               0               1               1   \n",
       "\n",
       "   ...  NU_NOTA_COMP1  NU_NOTA_COMP3  NU_NOTA_COMP4  NU_NOTA_COMP5  \\\n",
       "0  ...          120.0          120.0           80.0           80.0   \n",
       "1  ...          140.0          120.0          120.0           80.0   \n",
       "\n",
       "   NU_NOTA_REDACAO  Q001  Q024  Q025  Q026 Q047  \n",
       "0            520.0     D     A     A     C    A  \n",
       "1            580.0     A     A     A     A    A  \n",
       "\n",
       "[2 rows x 24 columns]"
      ]
     },
     "execution_count": 511,
     "metadata": {},
     "output_type": "execute_result"
    }
   ],
   "source": [
    "# verifica as colunas\n",
    "cols = rfe.get_support(indices=True)\n",
    "features = df_train.iloc[:,cols]\n",
    "features.head(2)"
   ]
  },
  {
   "cell_type": "code",
   "execution_count": 512,
   "metadata": {},
   "outputs": [
    {
     "data": {
      "text/plain": [
       "['NU_IDADE',\n",
       " 'TP_SEXO',\n",
       " 'TP_ST_CONCLUSAO',\n",
       " 'TP_ANO_CONCLUIU',\n",
       " 'TP_ESCOLA',\n",
       " 'TP_ENSINO',\n",
       " 'TP_DEPENDENCIA_ADM_ESC',\n",
       " 'IN_BAIXA_VISAO',\n",
       " 'TP_PRESENCA_CH',\n",
       " 'TP_PRESENCA_LC',\n",
       " 'NU_NOTA_CN',\n",
       " 'NU_NOTA_CH',\n",
       " 'NU_NOTA_LC',\n",
       " 'TP_LINGUA',\n",
       " 'NU_NOTA_COMP1',\n",
       " 'NU_NOTA_COMP3',\n",
       " 'NU_NOTA_COMP4',\n",
       " 'NU_NOTA_COMP5',\n",
       " 'NU_NOTA_REDACAO',\n",
       " 'Q001',\n",
       " 'Q024',\n",
       " 'Q025',\n",
       " 'Q026',\n",
       " 'Q047']"
      ]
     },
     "execution_count": 512,
     "metadata": {},
     "output_type": "execute_result"
    }
   ],
   "source": [
    "# features escolhidas\n",
    "features_columns = list(features.columns)\n",
    "features_columns"
   ]
  },
  {
   "cell_type": "code",
   "execution_count": 506,
   "metadata": {},
   "outputs": [
    {
     "name": "stdout",
     "output_type": "stream",
     "text": [
      "Quantidade de Features: 24\n"
     ]
    }
   ],
   "source": [
    "# verifica as variáveis já existem em features, sem considerar a variável alvo\n",
    "print('Quantidade de Features:', len(features_columns))"
   ]
  },
  {
   "cell_type": "code",
   "execution_count": 52,
   "metadata": {},
   "outputs": [
    {
     "data": {
      "text/plain": [
       "<matplotlib.axes._subplots.AxesSubplot at 0x1a26f778d0>"
      ]
     },
     "execution_count": 52,
     "metadata": {},
     "output_type": "execute_result"
    },
    {
     "data": {
      "image/png": "[encoded data removed]",
      "text/plain": [
       "<Figure size 864x432 with 2 Axes>"
      ]
     },
     "metadata": {},
     "output_type": "display_data"
    }
   ],
   "source": [
    "# mapa de calor para visualizar a correlação entre as variáveis escolhidas \n",
    "correlacoes_features = df_train[features_columns].corr()\n",
    "plt.figure(figsize=(12, 6))\n",
    "sns.heatmap(data=correlacoes_features, annot=True)"
   ]
  },
  {
   "cell_type": "code",
   "execution_count": 513,
   "metadata": {},
   "outputs": [],
   "source": [
    "# armazena as features escolhidas com o RFE\n",
    "features =['NU_IDADE',\n",
    "           'TP_SEXO',\n",
    "           'TP_ST_CONCLUSAO',\n",
    "           'TP_ANO_CONCLUIU',\n",
    "           'TP_ESCOLA',\n",
    "           'TP_ENSINO',\n",
    "           'TP_DEPENDENCIA_ADM_ESC',\n",
    "           'NU_NOTA_CN',\n",
    "           'NU_NOTA_CH',\n",
    "           'NU_NOTA_LC',\n",
    "           'TP_LINGUA',\n",
    "           'NU_NOTA_COMP1',\n",
    "           'NU_NOTA_COMP2',\n",
    "           'NU_NOTA_COMP3',\n",
    "           'NU_NOTA_COMP4',\n",
    "           'NU_NOTA_COMP5',\n",
    "           'NU_NOTA_REDACAO',\n",
    "           'Q001',\n",
    "           'Q006',\n",
    "           'Q024',\n",
    "           'Q025',\n",
    "           'Q026',\n",
    "           'Q027'] "
   ]
  },
  {
   "cell_type": "code",
   "execution_count": 514,
   "metadata": {},
   "outputs": [
    {
     "data": {
      "text/plain": [
       "['NU_INSCRICAO',\n",
       " 'SG_UF_RESIDENCIA',\n",
       " 'TP_SEXO',\n",
       " 'Q001',\n",
       " 'Q002',\n",
       " 'Q006',\n",
       " 'Q024',\n",
       " 'Q025',\n",
       " 'Q026',\n",
       " 'Q027',\n",
       " 'Q047']"
      ]
     },
     "execution_count": 514,
     "metadata": {},
     "output_type": "execute_result"
    }
   ],
   "source": [
    "# verifica as vars categórias\n",
    "categorical_var = df_train.select_dtypes(exclude='number').columns.tolist()\n",
    "categorical_var"
   ]
  },
  {
   "cell_type": "code",
   "execution_count": 515,
   "metadata": {},
   "outputs": [],
   "source": [
    "# converte essas colunas em string para posterior transformação\n",
    "df_train['Q027']= df_train['Q027'].astype(str)\n",
    "df_test['Q027']= df_test['Q027'].astype(str)"
   ]
  },
  {
   "cell_type": "code",
   "execution_count": 516,
   "metadata": {},
   "outputs": [
    {
     "data": {
      "text/html": [
       "<div>\n",
       "<style scoped>\n",
       "    .dataframe tbody tr th:only-of-type {\n",
       "        vertical-align: middle;\n",
       "    }\n",
       "\n",
       "    .dataframe tbody tr th {\n",
       "        vertical-align: top;\n",
       "    }\n",
       "\n",
       "    .dataframe thead th {\n",
       "        text-align: right;\n",
       "    }\n",
       "</style>\n",
       "<table border=\"1\" class=\"dataframe\">\n",
       "  <thead>\n",
       "    <tr style=\"text-align: right;\">\n",
       "      <th></th>\n",
       "      <th>NU_IDADE</th>\n",
       "      <th>TP_SEXO</th>\n",
       "      <th>TP_ST_CONCLUSAO</th>\n",
       "      <th>TP_ANO_CONCLUIU</th>\n",
       "      <th>TP_ESCOLA</th>\n",
       "      <th>TP_ENSINO</th>\n",
       "      <th>TP_DEPENDENCIA_ADM_ESC</th>\n",
       "      <th>NU_NOTA_CN</th>\n",
       "      <th>NU_NOTA_CH</th>\n",
       "      <th>NU_NOTA_LC</th>\n",
       "      <th>...</th>\n",
       "      <th>NU_NOTA_COMP3</th>\n",
       "      <th>NU_NOTA_COMP4</th>\n",
       "      <th>NU_NOTA_COMP5</th>\n",
       "      <th>NU_NOTA_REDACAO</th>\n",
       "      <th>Q001</th>\n",
       "      <th>Q006</th>\n",
       "      <th>Q024</th>\n",
       "      <th>Q025</th>\n",
       "      <th>Q026</th>\n",
       "      <th>Q027</th>\n",
       "    </tr>\n",
       "  </thead>\n",
       "  <tbody>\n",
       "    <tr>\n",
       "      <th>0</th>\n",
       "      <td>24</td>\n",
       "      <td>M</td>\n",
       "      <td>1</td>\n",
       "      <td>4</td>\n",
       "      <td>1</td>\n",
       "      <td>0.0</td>\n",
       "      <td>0.0</td>\n",
       "      <td>436.3</td>\n",
       "      <td>495.4</td>\n",
       "      <td>581.2</td>\n",
       "      <td>...</td>\n",
       "      <td>120.0</td>\n",
       "      <td>80.0</td>\n",
       "      <td>80.0</td>\n",
       "      <td>520.0</td>\n",
       "      <td>D</td>\n",
       "      <td>C</td>\n",
       "      <td>A</td>\n",
       "      <td>A</td>\n",
       "      <td>C</td>\n",
       "      <td>H</td>\n",
       "    </tr>\n",
       "    <tr>\n",
       "      <th>1</th>\n",
       "      <td>17</td>\n",
       "      <td>F</td>\n",
       "      <td>2</td>\n",
       "      <td>0</td>\n",
       "      <td>2</td>\n",
       "      <td>1.0</td>\n",
       "      <td>2.0</td>\n",
       "      <td>474.5</td>\n",
       "      <td>544.1</td>\n",
       "      <td>599.0</td>\n",
       "      <td>...</td>\n",
       "      <td>120.0</td>\n",
       "      <td>120.0</td>\n",
       "      <td>80.0</td>\n",
       "      <td>580.0</td>\n",
       "      <td>A</td>\n",
       "      <td>B</td>\n",
       "      <td>A</td>\n",
       "      <td>A</td>\n",
       "      <td>A</td>\n",
       "      <td>0</td>\n",
       "    </tr>\n",
       "  </tbody>\n",
       "</table>\n",
       "<p>2 rows × 23 columns</p>\n",
       "</div>"
      ],
      "text/plain": [
       "   NU_IDADE TP_SEXO  TP_ST_CONCLUSAO  TP_ANO_CONCLUIU  TP_ESCOLA  TP_ENSINO  \\\n",
       "0        24       M                1                4          1        0.0   \n",
       "1        17       F                2                0          2        1.0   \n",
       "\n",
       "   TP_DEPENDENCIA_ADM_ESC  NU_NOTA_CN  NU_NOTA_CH  NU_NOTA_LC  ...  \\\n",
       "0                     0.0       436.3       495.4       581.2  ...   \n",
       "1                     2.0       474.5       544.1       599.0  ...   \n",
       "\n",
       "   NU_NOTA_COMP3  NU_NOTA_COMP4  NU_NOTA_COMP5  NU_NOTA_REDACAO  Q001  Q006  \\\n",
       "0          120.0           80.0           80.0            520.0     D     C   \n",
       "1          120.0          120.0           80.0            580.0     A     B   \n",
       "\n",
       "   Q024 Q025 Q026 Q027  \n",
       "0     A    A    C    H  \n",
       "1     A    A    A    0  \n",
       "\n",
       "[2 rows x 23 columns]"
      ]
     },
     "execution_count": 516,
     "metadata": {},
     "output_type": "execute_result"
    }
   ],
   "source": [
    "# ajusta o dataset com as features escolhidas\n",
    "df_train = df_train[features]\n",
    "df_train.head(2)"
   ]
  },
  {
   "cell_type": "code",
   "execution_count": 517,
   "metadata": {},
   "outputs": [
    {
     "data": {
      "text/html": [
       "<div>\n",
       "<style scoped>\n",
       "    .dataframe tbody tr th:only-of-type {\n",
       "        vertical-align: middle;\n",
       "    }\n",
       "\n",
       "    .dataframe tbody tr th {\n",
       "        vertical-align: top;\n",
       "    }\n",
       "\n",
       "    .dataframe thead th {\n",
       "        text-align: right;\n",
       "    }\n",
       "</style>\n",
       "<table border=\"1\" class=\"dataframe\">\n",
       "  <thead>\n",
       "    <tr style=\"text-align: right;\">\n",
       "      <th></th>\n",
       "      <th>NU_IDADE</th>\n",
       "      <th>TP_SEXO</th>\n",
       "      <th>TP_ST_CONCLUSAO</th>\n",
       "      <th>TP_ANO_CONCLUIU</th>\n",
       "      <th>TP_ESCOLA</th>\n",
       "      <th>TP_ENSINO</th>\n",
       "      <th>TP_DEPENDENCIA_ADM_ESC</th>\n",
       "      <th>NU_NOTA_CN</th>\n",
       "      <th>NU_NOTA_CH</th>\n",
       "      <th>NU_NOTA_LC</th>\n",
       "      <th>...</th>\n",
       "      <th>NU_NOTA_COMP3</th>\n",
       "      <th>NU_NOTA_COMP4</th>\n",
       "      <th>NU_NOTA_COMP5</th>\n",
       "      <th>NU_NOTA_REDACAO</th>\n",
       "      <th>Q001</th>\n",
       "      <th>Q006</th>\n",
       "      <th>Q024</th>\n",
       "      <th>Q025</th>\n",
       "      <th>Q026</th>\n",
       "      <th>Q027</th>\n",
       "    </tr>\n",
       "  </thead>\n",
       "  <tbody>\n",
       "    <tr>\n",
       "      <th>0</th>\n",
       "      <td>19</td>\n",
       "      <td>F</td>\n",
       "      <td>1</td>\n",
       "      <td>3</td>\n",
       "      <td>1</td>\n",
       "      <td>0.0</td>\n",
       "      <td>0.0</td>\n",
       "      <td>495.3</td>\n",
       "      <td>593.3</td>\n",
       "      <td>0.0</td>\n",
       "      <td>...</td>\n",
       "      <td>0.0</td>\n",
       "      <td>0.0</td>\n",
       "      <td>0.0</td>\n",
       "      <td>0.0</td>\n",
       "      <td>E</td>\n",
       "      <td>H</td>\n",
       "      <td>B</td>\n",
       "      <td>B</td>\n",
       "      <td>C</td>\n",
       "      <td>D</td>\n",
       "    </tr>\n",
       "    <tr>\n",
       "      <th>1</th>\n",
       "      <td>24</td>\n",
       "      <td>M</td>\n",
       "      <td>1</td>\n",
       "      <td>4</td>\n",
       "      <td>1</td>\n",
       "      <td>0.0</td>\n",
       "      <td>0.0</td>\n",
       "      <td>0.0</td>\n",
       "      <td>0.0</td>\n",
       "      <td>0.0</td>\n",
       "      <td>...</td>\n",
       "      <td>0.0</td>\n",
       "      <td>0.0</td>\n",
       "      <td>0.0</td>\n",
       "      <td>0.0</td>\n",
       "      <td>B</td>\n",
       "      <td>B</td>\n",
       "      <td>A</td>\n",
       "      <td>A</td>\n",
       "      <td>C</td>\n",
       "      <td>D</td>\n",
       "    </tr>\n",
       "  </tbody>\n",
       "</table>\n",
       "<p>2 rows × 23 columns</p>\n",
       "</div>"
      ],
      "text/plain": [
       "   NU_IDADE TP_SEXO  TP_ST_CONCLUSAO  TP_ANO_CONCLUIU  TP_ESCOLA  TP_ENSINO  \\\n",
       "0        19       F                1                3          1        0.0   \n",
       "1        24       M                1                4          1        0.0   \n",
       "\n",
       "   TP_DEPENDENCIA_ADM_ESC  NU_NOTA_CN  NU_NOTA_CH  NU_NOTA_LC  ...  \\\n",
       "0                     0.0       495.3       593.3         0.0  ...   \n",
       "1                     0.0         0.0         0.0         0.0  ...   \n",
       "\n",
       "   NU_NOTA_COMP3  NU_NOTA_COMP4  NU_NOTA_COMP5  NU_NOTA_REDACAO  Q001  Q006  \\\n",
       "0            0.0            0.0            0.0              0.0     E     H   \n",
       "1            0.0            0.0            0.0              0.0     B     B   \n",
       "\n",
       "   Q024 Q025 Q026 Q027  \n",
       "0     B    B    C    D  \n",
       "1     A    A    C    D  \n",
       "\n",
       "[2 rows x 23 columns]"
      ]
     },
     "execution_count": 517,
     "metadata": {},
     "output_type": "execute_result"
    }
   ],
   "source": [
    "df_test = df_test[features]\n",
    "df_test.head(2)"
   ]
  },
  {
   "cell_type": "markdown",
   "metadata": {},
   "source": [
    "Codificação dos dados"
   ]
  },
  {
   "cell_type": "code",
   "execution_count": 518,
   "metadata": {},
   "outputs": [],
   "source": [
    "# transforma as features TREINO não númericas em campos númericos\n",
    "LE = LabelEncoder()\n",
    "for coluna in df_train.columns:\n",
    "        if coluna in categorical_var:\n",
    "            try:\n",
    "                df_train[coluna] = LE.fit_transform(df_train[[coluna]])\n",
    "\n",
    "            except:\n",
    "                print(f\"Nao foi possivel realizar a operacao para a coluna {coluna}\")"
   ]
  },
  {
   "cell_type": "code",
   "execution_count": 519,
   "metadata": {},
   "outputs": [],
   "source": [
    "# transforma as features TESTE não númericas em campos númericos\n",
    "LE = LabelEncoder()\n",
    "for coluna in df_test.columns:\n",
    "        if coluna in categorical_var:\n",
    "            try:\n",
    "                df_test[coluna] = LE.fit_transform(df_test[[coluna]])\n",
    "\n",
    "            except:\n",
    "                print(f\"Nao foi possivel realizar a operacao para a coluna {coluna}\")"
   ]
  },
  {
   "cell_type": "markdown",
   "metadata": {},
   "source": [
    "Normalização dos dados"
   ]
  },
  {
   "cell_type": "code",
   "execution_count": 520,
   "metadata": {},
   "outputs": [],
   "source": [
    "from sklearn.preprocessing import StandardScaler\n",
    "X_minMax = MinMaxScaler()\n",
    "for coluna in df_test.columns:\n",
    "            try:\n",
    "                df_test[coluna] = X_minMax.fit_transform(df_test[[coluna]])\n",
    "\n",
    "            except:\n",
    "                print(f\"Nao foi possivel realizar a operacao para a coluna {coluna}\")"
   ]
  },
  {
   "cell_type": "code",
   "execution_count": 521,
   "metadata": {},
   "outputs": [],
   "source": [
    "from sklearn.preprocessing import StandardScaler\n",
    "X_minMax = MinMaxScaler()\n",
    "for coluna in df_train.columns:\n",
    "            try:\n",
    "                df_train[coluna] = X_minMax.fit_transform(df_train[[coluna]])\n",
    "\n",
    "            except:\n",
    "                print(f\"Nao foi possivel realizar a operacao para a coluna {coluna}\")"
   ]
  },
  {
   "cell_type": "markdown",
   "metadata": {},
   "source": [
    "### Modelo com RandomForestClassifier"
   ]
  },
  {
   "cell_type": "code",
   "execution_count": 195,
   "metadata": {},
   "outputs": [],
   "source": [
    "# separa os dados de treino e test\n",
    "X_train = df_train\n",
    "y_train = train['IN_TREINEIRO']  # variável target\n",
    "X_test = df_test"
   ]
  },
  {
   "cell_type": "code",
   "execution_count": 196,
   "metadata": {},
   "outputs": [
    {
     "data": {
      "text/plain": [
       "RandomForestClassifier(bootstrap=True, ccp_alpha=0.0, class_weight=None,\n",
       "                       criterion='gini', max_depth=None, max_features='auto',\n",
       "                       max_leaf_nodes=None, max_samples=None,\n",
       "                       min_impurity_decrease=0.0, min_impurity_split=None,\n",
       "                       min_samples_leaf=1, min_samples_split=2,\n",
       "                       min_weight_fraction_leaf=0.0, n_estimators=100,\n",
       "                       n_jobs=None, oob_score=False, random_state=42, verbose=0,\n",
       "                       warm_start=False)"
      ]
     },
     "execution_count": 196,
     "metadata": {},
     "output_type": "execute_result"
    }
   ],
   "source": [
    "# carrega o modelo\n",
    "model_randomforest = RandomForestClassifier(random_state=42)\n",
    "model_randomforest.fit(X_train, y_train)"
   ]
  },
  {
   "cell_type": "code",
   "execution_count": 197,
   "metadata": {},
   "outputs": [],
   "source": [
    "# faz a classificação do treino\n",
    "y_pred = model_randomforest.predict(X_test)"
   ]
  },
  {
   "cell_type": "code",
   "execution_count": 198,
   "metadata": {},
   "outputs": [],
   "source": [
    "# armazena as classificações que o modelo preveu no dataset resposta\n",
    "df_resposta['IN_TREINEIRO'] = np.around(y_pred,2)"
   ]
  },
  {
   "cell_type": "code",
   "execution_count": 199,
   "metadata": {},
   "outputs": [],
   "source": [
    "# gera o arquivo de respostas com a classificação\n",
    "df_resposta.to_csv('answer.csv', index=False, header=True)"
   ]
  },
  {
   "cell_type": "code",
   "execution_count": 200,
   "metadata": {},
   "outputs": [
    {
     "data": {
      "text/html": [
       "<div>\n",
       "<style scoped>\n",
       "    .dataframe tbody tr th:only-of-type {\n",
       "        vertical-align: middle;\n",
       "    }\n",
       "\n",
       "    .dataframe tbody tr th {\n",
       "        vertical-align: top;\n",
       "    }\n",
       "\n",
       "    .dataframe thead th {\n",
       "        text-align: right;\n",
       "    }\n",
       "</style>\n",
       "<table border=\"1\" class=\"dataframe\">\n",
       "  <thead>\n",
       "    <tr style=\"text-align: right;\">\n",
       "      <th></th>\n",
       "      <th>NU_INSCRICAO</th>\n",
       "      <th>IN_TREINEIRO</th>\n",
       "    </tr>\n",
       "  </thead>\n",
       "  <tbody>\n",
       "    <tr>\n",
       "      <th>0</th>\n",
       "      <td>ba0cc30ba34e7a46764c09dfc38ed83d15828897</td>\n",
       "      <td>0</td>\n",
       "    </tr>\n",
       "    <tr>\n",
       "      <th>1</th>\n",
       "      <td>177f281c68fa032aedbd842a745da68490926cd2</td>\n",
       "      <td>0</td>\n",
       "    </tr>\n",
       "    <tr>\n",
       "      <th>2</th>\n",
       "      <td>6cf0d8b97597d7625cdedc7bdb6c0f052286c334</td>\n",
       "      <td>1</td>\n",
       "    </tr>\n",
       "    <tr>\n",
       "      <th>3</th>\n",
       "      <td>5c356d810fa57671402502cd0933e5601a2ebf1e</td>\n",
       "      <td>0</td>\n",
       "    </tr>\n",
       "    <tr>\n",
       "      <th>4</th>\n",
       "      <td>df47c07bd881c2db3f38c6048bf77c132ad0ceb3</td>\n",
       "      <td>0</td>\n",
       "    </tr>\n",
       "    <tr>\n",
       "      <th>...</th>\n",
       "      <td>...</td>\n",
       "      <td>...</td>\n",
       "    </tr>\n",
       "    <tr>\n",
       "      <th>4565</th>\n",
       "      <td>361b7fcd8867119550fe2af5aa729ffad89a7cf5</td>\n",
       "      <td>0</td>\n",
       "    </tr>\n",
       "    <tr>\n",
       "      <th>4566</th>\n",
       "      <td>d8a0e4c9e29494cc9bba2422bd79333931475ee1</td>\n",
       "      <td>0</td>\n",
       "    </tr>\n",
       "    <tr>\n",
       "      <th>4567</th>\n",
       "      <td>3f1c3388244df8d6521e983a809292d9f3bca643</td>\n",
       "      <td>0</td>\n",
       "    </tr>\n",
       "    <tr>\n",
       "      <th>4568</th>\n",
       "      <td>1778e9c4cef591beb6b986d191d15ed05de816b0</td>\n",
       "      <td>0</td>\n",
       "    </tr>\n",
       "    <tr>\n",
       "      <th>4569</th>\n",
       "      <td>096809759695097e384e766d2d9e23a34fc81610</td>\n",
       "      <td>0</td>\n",
       "    </tr>\n",
       "  </tbody>\n",
       "</table>\n",
       "<p>4570 rows × 2 columns</p>\n",
       "</div>"
      ],
      "text/plain": [
       "                                  NU_INSCRICAO  IN_TREINEIRO\n",
       "0     ba0cc30ba34e7a46764c09dfc38ed83d15828897             0\n",
       "1     177f281c68fa032aedbd842a745da68490926cd2             0\n",
       "2     6cf0d8b97597d7625cdedc7bdb6c0f052286c334             1\n",
       "3     5c356d810fa57671402502cd0933e5601a2ebf1e             0\n",
       "4     df47c07bd881c2db3f38c6048bf77c132ad0ceb3             0\n",
       "...                                        ...           ...\n",
       "4565  361b7fcd8867119550fe2af5aa729ffad89a7cf5             0\n",
       "4566  d8a0e4c9e29494cc9bba2422bd79333931475ee1             0\n",
       "4567  3f1c3388244df8d6521e983a809292d9f3bca643             0\n",
       "4568  1778e9c4cef591beb6b986d191d15ed05de816b0             0\n",
       "4569  096809759695097e384e766d2d9e23a34fc81610             0\n",
       "\n",
       "[4570 rows x 2 columns]"
      ]
     },
     "execution_count": 200,
     "metadata": {},
     "output_type": "execute_result"
    }
   ],
   "source": [
    "# verifica o dataset final\n",
    "df_resposta"
   ]
  },
  {
   "cell_type": "markdown",
   "metadata": {},
   "source": [
    "_____\n",
    "- ### Score obtido no desafio: 98.687090%"
   ]
  },
  {
   "cell_type": "markdown",
   "metadata": {},
   "source": [
    "features =['NU_IDADE',\n",
    "           'TP_SEXO',\n",
    "           'TP_ST_CONCLUSAO',\n",
    "           'TP_ANO_CONCLUIU',\n",
    "           'TP_ESCOLA',\n",
    "           'TP_ENSINO',\n",
    "           'TP_DEPENDENCIA_ADM_ESC',\n",
    "           'TP_PRESENCA_CN',\n",
    "           'TP_PRESENCA_CH',\n",
    "           'NU_NOTA_CN',\n",
    "           'NU_NOTA_CH',\n",
    "           'NU_NOTA_LC',\n",
    "           'TP_LINGUA',\n",
    "           'NU_NOTA_COMP1',\n",
    "           'NU_NOTA_COMP3',\n",
    "           'NU_NOTA_COMP4',\n",
    "           'NU_NOTA_COMP5',\n",
    "           'NU_NOTA_REDACAO',\n",
    "           'Q006',\n",
    "           'Q024',\n",
    "           'Q025',\n",
    "           'Q026',\n",
    "           'Q027',\n",
    "           'Q047']"
   ]
  },
  {
   "cell_type": "markdown",
   "metadata": {},
   "source": [
    "_______\n",
    "## Reajuste das Features e Balanceamento dos Dados"
   ]
  },
  {
   "cell_type": "code",
   "execution_count": 125,
   "metadata": {},
   "outputs": [],
   "source": [
    "# faz uma cópia do dataframe importado\n",
    "df2_train = train.copy()\n",
    "df2_test = test.copy()"
   ]
  },
  {
   "cell_type": "code",
   "execution_count": 126,
   "metadata": {
    "collapsed": true,
    "jupyter": {
     "outputs_hidden": true
    }
   },
   "outputs": [
    {
     "data": {
      "text/plain": [
       "['CO_UF_RESIDENCIA',\n",
       " 'NU_IDADE',\n",
       " 'TP_COR_RACA',\n",
       " 'TP_NACIONALIDADE',\n",
       " 'TP_ST_CONCLUSAO',\n",
       " 'TP_ANO_CONCLUIU',\n",
       " 'TP_ESCOLA',\n",
       " 'TP_ENSINO',\n",
       " 'TP_DEPENDENCIA_ADM_ESC',\n",
       " 'IN_BAIXA_VISAO',\n",
       " 'IN_CEGUEIRA',\n",
       " 'IN_SURDEZ',\n",
       " 'IN_DISLEXIA',\n",
       " 'IN_DISCALCULIA',\n",
       " 'IN_SABATISTA',\n",
       " 'IN_GESTANTE',\n",
       " 'IN_IDOSO',\n",
       " 'TP_PRESENCA_CN',\n",
       " 'TP_PRESENCA_CH',\n",
       " 'TP_PRESENCA_LC',\n",
       " 'TP_PRESENCA_MT',\n",
       " 'NU_NOTA_CN',\n",
       " 'NU_NOTA_CH',\n",
       " 'NU_NOTA_LC',\n",
       " 'TP_LINGUA',\n",
       " 'TP_STATUS_REDACAO',\n",
       " 'NU_NOTA_COMP1',\n",
       " 'NU_NOTA_COMP2',\n",
       " 'NU_NOTA_COMP3',\n",
       " 'NU_NOTA_COMP4',\n",
       " 'NU_NOTA_COMP5',\n",
       " 'NU_NOTA_REDACAO']"
      ]
     },
     "execution_count": 126,
     "metadata": {},
     "output_type": "execute_result"
    }
   ],
   "source": [
    "# apenas as variáveis numéricas\n",
    "num_vars = df2_test.select_dtypes(include='number').columns.tolist()\n",
    "num_vars"
   ]
  },
  {
   "cell_type": "code",
   "execution_count": 127,
   "metadata": {},
   "outputs": [],
   "source": [
    "# seleciona apenas as variáveis numéricas para tratar os campos nulos com -1\n",
    "df2_train[num_vars] = df2_train[num_vars].fillna(-1)\n",
    "df2_test[num_vars] = df2_test[num_vars].fillna(-1)"
   ]
  },
  {
   "cell_type": "code",
   "execution_count": 129,
   "metadata": {},
   "outputs": [],
   "source": [
    "# usa a variável NU_INSCRICAO como index\n",
    "df2_train.set_index('NU_INSCRICAO', inplace=True)\n",
    "df2_test.set_index('NU_INSCRICAO', inplace=True)"
   ]
  },
  {
   "cell_type": "code",
   "execution_count": 130,
   "metadata": {},
   "outputs": [
    {
     "name": "stdout",
     "output_type": "stream",
     "text": [
      "(13730, 166)\n",
      "(4570, 42)\n"
     ]
    }
   ],
   "source": [
    "# valida os tamanhos dos dados\n",
    "print(df2_train.shape)\n",
    "print(df2_test.shape)"
   ]
  },
  {
   "cell_type": "code",
   "execution_count": 131,
   "metadata": {
    "collapsed": true,
    "jupyter": {
     "outputs_hidden": true
    }
   },
   "outputs": [
    {
     "data": {
      "text/plain": [
       "['CO_UF_RESIDENCIA',\n",
       " 'SG_UF_RESIDENCIA',\n",
       " 'NU_IDADE',\n",
       " 'TP_SEXO',\n",
       " 'TP_COR_RACA',\n",
       " 'TP_NACIONALIDADE',\n",
       " 'TP_ST_CONCLUSAO',\n",
       " 'TP_ANO_CONCLUIU',\n",
       " 'TP_ESCOLA',\n",
       " 'TP_ENSINO',\n",
       " 'TP_DEPENDENCIA_ADM_ESC',\n",
       " 'IN_BAIXA_VISAO',\n",
       " 'IN_CEGUEIRA',\n",
       " 'IN_SURDEZ',\n",
       " 'IN_DISLEXIA',\n",
       " 'IN_DISCALCULIA',\n",
       " 'IN_SABATISTA',\n",
       " 'IN_GESTANTE',\n",
       " 'IN_IDOSO',\n",
       " 'TP_PRESENCA_CN',\n",
       " 'TP_PRESENCA_CH',\n",
       " 'TP_PRESENCA_LC',\n",
       " 'TP_PRESENCA_MT',\n",
       " 'NU_NOTA_CN',\n",
       " 'NU_NOTA_CH',\n",
       " 'NU_NOTA_LC',\n",
       " 'TP_LINGUA',\n",
       " 'TP_STATUS_REDACAO',\n",
       " 'NU_NOTA_COMP1',\n",
       " 'NU_NOTA_COMP2',\n",
       " 'NU_NOTA_COMP3',\n",
       " 'NU_NOTA_COMP4',\n",
       " 'NU_NOTA_COMP5',\n",
       " 'NU_NOTA_REDACAO',\n",
       " 'Q001',\n",
       " 'Q002',\n",
       " 'Q006',\n",
       " 'Q024',\n",
       " 'Q025',\n",
       " 'Q026',\n",
       " 'Q027',\n",
       " 'Q047']"
      ]
     },
     "execution_count": 131,
     "metadata": {},
     "output_type": "execute_result"
    }
   ],
   "source": [
    "# verifica as colunas que constam em teste.\n",
    "columns_ajust = list(df2_test.columns)\n",
    "columns_ajust"
   ]
  },
  {
   "cell_type": "code",
   "execution_count": 132,
   "metadata": {
    "collapsed": true,
    "jupyter": {
     "outputs_hidden": true
    }
   },
   "outputs": [
    {
     "data": {
      "text/plain": [
       "['CO_UF_RESIDENCIA',\n",
       " 'SG_UF_RESIDENCIA',\n",
       " 'NU_IDADE',\n",
       " 'TP_SEXO',\n",
       " 'TP_COR_RACA',\n",
       " 'TP_NACIONALIDADE',\n",
       " 'TP_ST_CONCLUSAO',\n",
       " 'TP_ANO_CONCLUIU',\n",
       " 'TP_ESCOLA',\n",
       " 'TP_ENSINO',\n",
       " 'TP_DEPENDENCIA_ADM_ESC',\n",
       " 'IN_BAIXA_VISAO',\n",
       " 'IN_CEGUEIRA',\n",
       " 'IN_SURDEZ',\n",
       " 'IN_DISLEXIA',\n",
       " 'IN_DISCALCULIA',\n",
       " 'IN_SABATISTA',\n",
       " 'IN_GESTANTE',\n",
       " 'IN_IDOSO',\n",
       " 'TP_PRESENCA_CN',\n",
       " 'TP_PRESENCA_CH',\n",
       " 'TP_PRESENCA_LC',\n",
       " 'TP_PRESENCA_MT',\n",
       " 'NU_NOTA_CN',\n",
       " 'NU_NOTA_CH',\n",
       " 'NU_NOTA_LC',\n",
       " 'TP_LINGUA',\n",
       " 'TP_STATUS_REDACAO',\n",
       " 'NU_NOTA_COMP1',\n",
       " 'NU_NOTA_COMP2',\n",
       " 'NU_NOTA_COMP3',\n",
       " 'NU_NOTA_COMP4',\n",
       " 'NU_NOTA_COMP5',\n",
       " 'NU_NOTA_REDACAO',\n",
       " 'Q001',\n",
       " 'Q002',\n",
       " 'Q006',\n",
       " 'Q024',\n",
       " 'Q025',\n",
       " 'Q026',\n",
       " 'Q027',\n",
       " 'Q047',\n",
       " 'IN_TREINEIRO']"
      ]
     },
     "execution_count": 132,
     "metadata": {},
     "output_type": "execute_result"
    }
   ],
   "source": [
    "# adicionar a variável target nas features existentes \n",
    "columns_ajust.append('IN_TREINEIRO')\n",
    "columns_ajust"
   ]
  },
  {
   "cell_type": "code",
   "execution_count": 133,
   "metadata": {},
   "outputs": [
    {
     "data": {
      "text/html": [
       "<div>\n",
       "<style scoped>\n",
       "    .dataframe tbody tr th:only-of-type {\n",
       "        vertical-align: middle;\n",
       "    }\n",
       "\n",
       "    .dataframe tbody tr th {\n",
       "        vertical-align: top;\n",
       "    }\n",
       "\n",
       "    .dataframe thead th {\n",
       "        text-align: right;\n",
       "    }\n",
       "</style>\n",
       "<table border=\"1\" class=\"dataframe\">\n",
       "  <thead>\n",
       "    <tr style=\"text-align: right;\">\n",
       "      <th></th>\n",
       "      <th>CO_UF_RESIDENCIA</th>\n",
       "      <th>SG_UF_RESIDENCIA</th>\n",
       "      <th>NU_IDADE</th>\n",
       "      <th>TP_SEXO</th>\n",
       "      <th>TP_COR_RACA</th>\n",
       "      <th>TP_NACIONALIDADE</th>\n",
       "      <th>TP_ST_CONCLUSAO</th>\n",
       "      <th>TP_ANO_CONCLUIU</th>\n",
       "      <th>TP_ESCOLA</th>\n",
       "      <th>TP_ENSINO</th>\n",
       "      <th>...</th>\n",
       "      <th>NU_NOTA_REDACAO</th>\n",
       "      <th>Q001</th>\n",
       "      <th>Q002</th>\n",
       "      <th>Q006</th>\n",
       "      <th>Q024</th>\n",
       "      <th>Q025</th>\n",
       "      <th>Q026</th>\n",
       "      <th>Q027</th>\n",
       "      <th>Q047</th>\n",
       "      <th>IN_TREINEIRO</th>\n",
       "    </tr>\n",
       "    <tr>\n",
       "      <th>NU_INSCRICAO</th>\n",
       "      <th></th>\n",
       "      <th></th>\n",
       "      <th></th>\n",
       "      <th></th>\n",
       "      <th></th>\n",
       "      <th></th>\n",
       "      <th></th>\n",
       "      <th></th>\n",
       "      <th></th>\n",
       "      <th></th>\n",
       "      <th></th>\n",
       "      <th></th>\n",
       "      <th></th>\n",
       "      <th></th>\n",
       "      <th></th>\n",
       "      <th></th>\n",
       "      <th></th>\n",
       "      <th></th>\n",
       "      <th></th>\n",
       "      <th></th>\n",
       "      <th></th>\n",
       "    </tr>\n",
       "  </thead>\n",
       "  <tbody>\n",
       "    <tr>\n",
       "      <th>ed50e8aaa58e7a806c337585efee9ca41f1eb1ad</th>\n",
       "      <td>43</td>\n",
       "      <td>RS</td>\n",
       "      <td>24</td>\n",
       "      <td>M</td>\n",
       "      <td>1</td>\n",
       "      <td>1</td>\n",
       "      <td>1</td>\n",
       "      <td>4</td>\n",
       "      <td>1</td>\n",
       "      <td>-1.0</td>\n",
       "      <td>...</td>\n",
       "      <td>520.0</td>\n",
       "      <td>D</td>\n",
       "      <td>D</td>\n",
       "      <td>C</td>\n",
       "      <td>A</td>\n",
       "      <td>A</td>\n",
       "      <td>C</td>\n",
       "      <td>H</td>\n",
       "      <td>A</td>\n",
       "      <td>0</td>\n",
       "    </tr>\n",
       "    <tr>\n",
       "      <th>2c3acac4b33ec2b195d77e7c04a2d75727fad723</th>\n",
       "      <td>23</td>\n",
       "      <td>CE</td>\n",
       "      <td>17</td>\n",
       "      <td>F</td>\n",
       "      <td>3</td>\n",
       "      <td>1</td>\n",
       "      <td>2</td>\n",
       "      <td>0</td>\n",
       "      <td>2</td>\n",
       "      <td>1.0</td>\n",
       "      <td>...</td>\n",
       "      <td>580.0</td>\n",
       "      <td>A</td>\n",
       "      <td>A</td>\n",
       "      <td>B</td>\n",
       "      <td>A</td>\n",
       "      <td>A</td>\n",
       "      <td>A</td>\n",
       "      <td>NaN</td>\n",
       "      <td>A</td>\n",
       "      <td>0</td>\n",
       "    </tr>\n",
       "  </tbody>\n",
       "</table>\n",
       "<p>2 rows × 43 columns</p>\n",
       "</div>"
      ],
      "text/plain": [
       "                                          CO_UF_RESIDENCIA SG_UF_RESIDENCIA  \\\n",
       "NU_INSCRICAO                                                                  \n",
       "ed50e8aaa58e7a806c337585efee9ca41f1eb1ad                43               RS   \n",
       "2c3acac4b33ec2b195d77e7c04a2d75727fad723                23               CE   \n",
       "\n",
       "                                          NU_IDADE TP_SEXO  TP_COR_RACA  \\\n",
       "NU_INSCRICAO                                                              \n",
       "ed50e8aaa58e7a806c337585efee9ca41f1eb1ad        24       M            1   \n",
       "2c3acac4b33ec2b195d77e7c04a2d75727fad723        17       F            3   \n",
       "\n",
       "                                          TP_NACIONALIDADE  TP_ST_CONCLUSAO  \\\n",
       "NU_INSCRICAO                                                                  \n",
       "ed50e8aaa58e7a806c337585efee9ca41f1eb1ad                 1                1   \n",
       "2c3acac4b33ec2b195d77e7c04a2d75727fad723                 1                2   \n",
       "\n",
       "                                          TP_ANO_CONCLUIU  TP_ESCOLA  \\\n",
       "NU_INSCRICAO                                                           \n",
       "ed50e8aaa58e7a806c337585efee9ca41f1eb1ad                4          1   \n",
       "2c3acac4b33ec2b195d77e7c04a2d75727fad723                0          2   \n",
       "\n",
       "                                          TP_ENSINO  ...  NU_NOTA_REDACAO  \\\n",
       "NU_INSCRICAO                                         ...                    \n",
       "ed50e8aaa58e7a806c337585efee9ca41f1eb1ad       -1.0  ...            520.0   \n",
       "2c3acac4b33ec2b195d77e7c04a2d75727fad723        1.0  ...            580.0   \n",
       "\n",
       "                                          Q001  Q002  Q006  Q024  Q025  Q026  \\\n",
       "NU_INSCRICAO                                                                   \n",
       "ed50e8aaa58e7a806c337585efee9ca41f1eb1ad     D     D     C     A     A     C   \n",
       "2c3acac4b33ec2b195d77e7c04a2d75727fad723     A     A     B     A     A     A   \n",
       "\n",
       "                                          Q027  Q047  IN_TREINEIRO  \n",
       "NU_INSCRICAO                                                        \n",
       "ed50e8aaa58e7a806c337585efee9ca41f1eb1ad     H     A             0  \n",
       "2c3acac4b33ec2b195d77e7c04a2d75727fad723   NaN     A             0  \n",
       "\n",
       "[2 rows x 43 columns]"
      ]
     },
     "execution_count": 133,
     "metadata": {},
     "output_type": "execute_result"
    }
   ],
   "source": [
    "# ajustar as colunas no dataset de treino ao de teste\n",
    "df2_train = df2_train[columns_ajust]\n",
    "df2_train.head(2)"
   ]
  },
  {
   "cell_type": "code",
   "execution_count": 134,
   "metadata": {},
   "outputs": [
    {
     "name": "stdout",
     "output_type": "stream",
     "text": [
      "(13730, 43)\n",
      "(4570, 42)\n"
     ]
    }
   ],
   "source": [
    "# valida os tamanhos dos dados\n",
    "print(df2_train.shape) # tem 01 a mais que é a nossa target 'IN_TREINEIRO'\n",
    "print(df2_test.shape)"
   ]
  },
  {
   "cell_type": "markdown",
   "metadata": {},
   "source": [
    "#### Seleciona apenas as features numéricas"
   ]
  },
  {
   "cell_type": "code",
   "execution_count": 135,
   "metadata": {},
   "outputs": [
    {
     "data": {
      "text/html": [
       "<div>\n",
       "<style scoped>\n",
       "    .dataframe tbody tr th:only-of-type {\n",
       "        vertical-align: middle;\n",
       "    }\n",
       "\n",
       "    .dataframe tbody tr th {\n",
       "        vertical-align: top;\n",
       "    }\n",
       "\n",
       "    .dataframe thead th {\n",
       "        text-align: right;\n",
       "    }\n",
       "</style>\n",
       "<table border=\"1\" class=\"dataframe\">\n",
       "  <thead>\n",
       "    <tr style=\"text-align: right;\">\n",
       "      <th></th>\n",
       "      <th>CO_UF_RESIDENCIA</th>\n",
       "      <th>NU_IDADE</th>\n",
       "      <th>TP_COR_RACA</th>\n",
       "      <th>TP_NACIONALIDADE</th>\n",
       "      <th>TP_ST_CONCLUSAO</th>\n",
       "      <th>TP_ANO_CONCLUIU</th>\n",
       "      <th>TP_ESCOLA</th>\n",
       "      <th>TP_ENSINO</th>\n",
       "      <th>TP_DEPENDENCIA_ADM_ESC</th>\n",
       "      <th>IN_BAIXA_VISAO</th>\n",
       "      <th>...</th>\n",
       "      <th>NU_NOTA_LC</th>\n",
       "      <th>TP_LINGUA</th>\n",
       "      <th>TP_STATUS_REDACAO</th>\n",
       "      <th>NU_NOTA_COMP1</th>\n",
       "      <th>NU_NOTA_COMP2</th>\n",
       "      <th>NU_NOTA_COMP3</th>\n",
       "      <th>NU_NOTA_COMP4</th>\n",
       "      <th>NU_NOTA_COMP5</th>\n",
       "      <th>NU_NOTA_REDACAO</th>\n",
       "      <th>IN_TREINEIRO</th>\n",
       "    </tr>\n",
       "    <tr>\n",
       "      <th>NU_INSCRICAO</th>\n",
       "      <th></th>\n",
       "      <th></th>\n",
       "      <th></th>\n",
       "      <th></th>\n",
       "      <th></th>\n",
       "      <th></th>\n",
       "      <th></th>\n",
       "      <th></th>\n",
       "      <th></th>\n",
       "      <th></th>\n",
       "      <th></th>\n",
       "      <th></th>\n",
       "      <th></th>\n",
       "      <th></th>\n",
       "      <th></th>\n",
       "      <th></th>\n",
       "      <th></th>\n",
       "      <th></th>\n",
       "      <th></th>\n",
       "      <th></th>\n",
       "      <th></th>\n",
       "    </tr>\n",
       "  </thead>\n",
       "  <tbody>\n",
       "    <tr>\n",
       "      <th>ed50e8aaa58e7a806c337585efee9ca41f1eb1ad</th>\n",
       "      <td>43</td>\n",
       "      <td>24</td>\n",
       "      <td>1</td>\n",
       "      <td>1</td>\n",
       "      <td>1</td>\n",
       "      <td>4</td>\n",
       "      <td>1</td>\n",
       "      <td>-1.0</td>\n",
       "      <td>-1.0</td>\n",
       "      <td>0</td>\n",
       "      <td>...</td>\n",
       "      <td>581.2</td>\n",
       "      <td>1</td>\n",
       "      <td>1.0</td>\n",
       "      <td>120.0</td>\n",
       "      <td>120.0</td>\n",
       "      <td>120.0</td>\n",
       "      <td>80.0</td>\n",
       "      <td>80.0</td>\n",
       "      <td>520.0</td>\n",
       "      <td>0</td>\n",
       "    </tr>\n",
       "    <tr>\n",
       "      <th>2c3acac4b33ec2b195d77e7c04a2d75727fad723</th>\n",
       "      <td>23</td>\n",
       "      <td>17</td>\n",
       "      <td>3</td>\n",
       "      <td>1</td>\n",
       "      <td>2</td>\n",
       "      <td>0</td>\n",
       "      <td>2</td>\n",
       "      <td>1.0</td>\n",
       "      <td>2.0</td>\n",
       "      <td>0</td>\n",
       "      <td>...</td>\n",
       "      <td>599.0</td>\n",
       "      <td>1</td>\n",
       "      <td>1.0</td>\n",
       "      <td>140.0</td>\n",
       "      <td>120.0</td>\n",
       "      <td>120.0</td>\n",
       "      <td>120.0</td>\n",
       "      <td>80.0</td>\n",
       "      <td>580.0</td>\n",
       "      <td>0</td>\n",
       "    </tr>\n",
       "  </tbody>\n",
       "</table>\n",
       "<p>2 rows × 33 columns</p>\n",
       "</div>"
      ],
      "text/plain": [
       "                                          CO_UF_RESIDENCIA  NU_IDADE  \\\n",
       "NU_INSCRICAO                                                           \n",
       "ed50e8aaa58e7a806c337585efee9ca41f1eb1ad                43        24   \n",
       "2c3acac4b33ec2b195d77e7c04a2d75727fad723                23        17   \n",
       "\n",
       "                                          TP_COR_RACA  TP_NACIONALIDADE  \\\n",
       "NU_INSCRICAO                                                              \n",
       "ed50e8aaa58e7a806c337585efee9ca41f1eb1ad            1                 1   \n",
       "2c3acac4b33ec2b195d77e7c04a2d75727fad723            3                 1   \n",
       "\n",
       "                                          TP_ST_CONCLUSAO  TP_ANO_CONCLUIU  \\\n",
       "NU_INSCRICAO                                                                 \n",
       "ed50e8aaa58e7a806c337585efee9ca41f1eb1ad                1                4   \n",
       "2c3acac4b33ec2b195d77e7c04a2d75727fad723                2                0   \n",
       "\n",
       "                                          TP_ESCOLA  TP_ENSINO  \\\n",
       "NU_INSCRICAO                                                     \n",
       "ed50e8aaa58e7a806c337585efee9ca41f1eb1ad          1       -1.0   \n",
       "2c3acac4b33ec2b195d77e7c04a2d75727fad723          2        1.0   \n",
       "\n",
       "                                          TP_DEPENDENCIA_ADM_ESC  \\\n",
       "NU_INSCRICAO                                                       \n",
       "ed50e8aaa58e7a806c337585efee9ca41f1eb1ad                    -1.0   \n",
       "2c3acac4b33ec2b195d77e7c04a2d75727fad723                     2.0   \n",
       "\n",
       "                                          IN_BAIXA_VISAO  ...  NU_NOTA_LC  \\\n",
       "NU_INSCRICAO                                              ...               \n",
       "ed50e8aaa58e7a806c337585efee9ca41f1eb1ad               0  ...       581.2   \n",
       "2c3acac4b33ec2b195d77e7c04a2d75727fad723               0  ...       599.0   \n",
       "\n",
       "                                          TP_LINGUA  TP_STATUS_REDACAO  \\\n",
       "NU_INSCRICAO                                                             \n",
       "ed50e8aaa58e7a806c337585efee9ca41f1eb1ad          1                1.0   \n",
       "2c3acac4b33ec2b195d77e7c04a2d75727fad723          1                1.0   \n",
       "\n",
       "                                          NU_NOTA_COMP1  NU_NOTA_COMP2  \\\n",
       "NU_INSCRICAO                                                             \n",
       "ed50e8aaa58e7a806c337585efee9ca41f1eb1ad          120.0          120.0   \n",
       "2c3acac4b33ec2b195d77e7c04a2d75727fad723          140.0          120.0   \n",
       "\n",
       "                                          NU_NOTA_COMP3  NU_NOTA_COMP4  \\\n",
       "NU_INSCRICAO                                                             \n",
       "ed50e8aaa58e7a806c337585efee9ca41f1eb1ad          120.0           80.0   \n",
       "2c3acac4b33ec2b195d77e7c04a2d75727fad723          120.0          120.0   \n",
       "\n",
       "                                          NU_NOTA_COMP5  NU_NOTA_REDACAO  \\\n",
       "NU_INSCRICAO                                                               \n",
       "ed50e8aaa58e7a806c337585efee9ca41f1eb1ad           80.0            520.0   \n",
       "2c3acac4b33ec2b195d77e7c04a2d75727fad723           80.0            580.0   \n",
       "\n",
       "                                          IN_TREINEIRO  \n",
       "NU_INSCRICAO                                            \n",
       "ed50e8aaa58e7a806c337585efee9ca41f1eb1ad             0  \n",
       "2c3acac4b33ec2b195d77e7c04a2d75727fad723             0  \n",
       "\n",
       "[2 rows x 33 columns]"
      ]
     },
     "execution_count": 135,
     "metadata": {},
     "output_type": "execute_result"
    }
   ],
   "source": [
    "# considerar apenas as colunas numéricas pra TREINO\n",
    "df2_train = df2_train.select_dtypes(include='number')\n",
    "df2_train.head(2)"
   ]
  },
  {
   "cell_type": "code",
   "execution_count": 80,
   "metadata": {},
   "outputs": [
    {
     "data": {
      "text/html": [
       "<div>\n",
       "<style scoped>\n",
       "    .dataframe tbody tr th:only-of-type {\n",
       "        vertical-align: middle;\n",
       "    }\n",
       "\n",
       "    .dataframe tbody tr th {\n",
       "        vertical-align: top;\n",
       "    }\n",
       "\n",
       "    .dataframe thead th {\n",
       "        text-align: right;\n",
       "    }\n",
       "</style>\n",
       "<table border=\"1\" class=\"dataframe\">\n",
       "  <thead>\n",
       "    <tr style=\"text-align: right;\">\n",
       "      <th></th>\n",
       "      <th>CO_UF_RESIDENCIA</th>\n",
       "      <th>NU_IDADE</th>\n",
       "      <th>TP_COR_RACA</th>\n",
       "      <th>TP_NACIONALIDADE</th>\n",
       "      <th>TP_ST_CONCLUSAO</th>\n",
       "      <th>TP_ANO_CONCLUIU</th>\n",
       "      <th>TP_ESCOLA</th>\n",
       "      <th>TP_ENSINO</th>\n",
       "      <th>TP_DEPENDENCIA_ADM_ESC</th>\n",
       "      <th>IN_BAIXA_VISAO</th>\n",
       "      <th>...</th>\n",
       "      <th>NU_NOTA_CH</th>\n",
       "      <th>NU_NOTA_LC</th>\n",
       "      <th>TP_LINGUA</th>\n",
       "      <th>TP_STATUS_REDACAO</th>\n",
       "      <th>NU_NOTA_COMP1</th>\n",
       "      <th>NU_NOTA_COMP2</th>\n",
       "      <th>NU_NOTA_COMP3</th>\n",
       "      <th>NU_NOTA_COMP4</th>\n",
       "      <th>NU_NOTA_COMP5</th>\n",
       "      <th>NU_NOTA_REDACAO</th>\n",
       "    </tr>\n",
       "    <tr>\n",
       "      <th>NU_INSCRICAO</th>\n",
       "      <th></th>\n",
       "      <th></th>\n",
       "      <th></th>\n",
       "      <th></th>\n",
       "      <th></th>\n",
       "      <th></th>\n",
       "      <th></th>\n",
       "      <th></th>\n",
       "      <th></th>\n",
       "      <th></th>\n",
       "      <th></th>\n",
       "      <th></th>\n",
       "      <th></th>\n",
       "      <th></th>\n",
       "      <th></th>\n",
       "      <th></th>\n",
       "      <th></th>\n",
       "      <th></th>\n",
       "      <th></th>\n",
       "      <th></th>\n",
       "      <th></th>\n",
       "    </tr>\n",
       "  </thead>\n",
       "  <tbody>\n",
       "    <tr>\n",
       "      <th>ba0cc30ba34e7a46764c09dfc38ed83d15828897</th>\n",
       "      <td>43</td>\n",
       "      <td>19</td>\n",
       "      <td>1</td>\n",
       "      <td>1</td>\n",
       "      <td>1</td>\n",
       "      <td>3</td>\n",
       "      <td>1</td>\n",
       "      <td>-1.0</td>\n",
       "      <td>-1.0</td>\n",
       "      <td>0</td>\n",
       "      <td>...</td>\n",
       "      <td>593.3</td>\n",
       "      <td>-1.0</td>\n",
       "      <td>1</td>\n",
       "      <td>-1.0</td>\n",
       "      <td>-1.0</td>\n",
       "      <td>-1.0</td>\n",
       "      <td>-1.0</td>\n",
       "      <td>-1.0</td>\n",
       "      <td>-1.0</td>\n",
       "      <td>-1.0</td>\n",
       "    </tr>\n",
       "    <tr>\n",
       "      <th>177f281c68fa032aedbd842a745da68490926cd2</th>\n",
       "      <td>15</td>\n",
       "      <td>24</td>\n",
       "      <td>3</td>\n",
       "      <td>2</td>\n",
       "      <td>1</td>\n",
       "      <td>4</td>\n",
       "      <td>1</td>\n",
       "      <td>-1.0</td>\n",
       "      <td>-1.0</td>\n",
       "      <td>0</td>\n",
       "      <td>...</td>\n",
       "      <td>-1.0</td>\n",
       "      <td>-1.0</td>\n",
       "      <td>1</td>\n",
       "      <td>-1.0</td>\n",
       "      <td>-1.0</td>\n",
       "      <td>-1.0</td>\n",
       "      <td>-1.0</td>\n",
       "      <td>-1.0</td>\n",
       "      <td>-1.0</td>\n",
       "      <td>-1.0</td>\n",
       "    </tr>\n",
       "  </tbody>\n",
       "</table>\n",
       "<p>2 rows × 32 columns</p>\n",
       "</div>"
      ],
      "text/plain": [
       "                                          CO_UF_RESIDENCIA  NU_IDADE  \\\n",
       "NU_INSCRICAO                                                           \n",
       "ba0cc30ba34e7a46764c09dfc38ed83d15828897                43        19   \n",
       "177f281c68fa032aedbd842a745da68490926cd2                15        24   \n",
       "\n",
       "                                          TP_COR_RACA  TP_NACIONALIDADE  \\\n",
       "NU_INSCRICAO                                                              \n",
       "ba0cc30ba34e7a46764c09dfc38ed83d15828897            1                 1   \n",
       "177f281c68fa032aedbd842a745da68490926cd2            3                 2   \n",
       "\n",
       "                                          TP_ST_CONCLUSAO  TP_ANO_CONCLUIU  \\\n",
       "NU_INSCRICAO                                                                 \n",
       "ba0cc30ba34e7a46764c09dfc38ed83d15828897                1                3   \n",
       "177f281c68fa032aedbd842a745da68490926cd2                1                4   \n",
       "\n",
       "                                          TP_ESCOLA  TP_ENSINO  \\\n",
       "NU_INSCRICAO                                                     \n",
       "ba0cc30ba34e7a46764c09dfc38ed83d15828897          1       -1.0   \n",
       "177f281c68fa032aedbd842a745da68490926cd2          1       -1.0   \n",
       "\n",
       "                                          TP_DEPENDENCIA_ADM_ESC  \\\n",
       "NU_INSCRICAO                                                       \n",
       "ba0cc30ba34e7a46764c09dfc38ed83d15828897                    -1.0   \n",
       "177f281c68fa032aedbd842a745da68490926cd2                    -1.0   \n",
       "\n",
       "                                          IN_BAIXA_VISAO  ...  NU_NOTA_CH  \\\n",
       "NU_INSCRICAO                                              ...               \n",
       "ba0cc30ba34e7a46764c09dfc38ed83d15828897               0  ...       593.3   \n",
       "177f281c68fa032aedbd842a745da68490926cd2               0  ...        -1.0   \n",
       "\n",
       "                                          NU_NOTA_LC  TP_LINGUA  \\\n",
       "NU_INSCRICAO                                                      \n",
       "ba0cc30ba34e7a46764c09dfc38ed83d15828897        -1.0          1   \n",
       "177f281c68fa032aedbd842a745da68490926cd2        -1.0          1   \n",
       "\n",
       "                                          TP_STATUS_REDACAO  NU_NOTA_COMP1  \\\n",
       "NU_INSCRICAO                                                                 \n",
       "ba0cc30ba34e7a46764c09dfc38ed83d15828897               -1.0           -1.0   \n",
       "177f281c68fa032aedbd842a745da68490926cd2               -1.0           -1.0   \n",
       "\n",
       "                                          NU_NOTA_COMP2  NU_NOTA_COMP3  \\\n",
       "NU_INSCRICAO                                                             \n",
       "ba0cc30ba34e7a46764c09dfc38ed83d15828897           -1.0           -1.0   \n",
       "177f281c68fa032aedbd842a745da68490926cd2           -1.0           -1.0   \n",
       "\n",
       "                                          NU_NOTA_COMP4  NU_NOTA_COMP5  \\\n",
       "NU_INSCRICAO                                                             \n",
       "ba0cc30ba34e7a46764c09dfc38ed83d15828897           -1.0           -1.0   \n",
       "177f281c68fa032aedbd842a745da68490926cd2           -1.0           -1.0   \n",
       "\n",
       "                                          NU_NOTA_REDACAO  \n",
       "NU_INSCRICAO                                               \n",
       "ba0cc30ba34e7a46764c09dfc38ed83d15828897             -1.0  \n",
       "177f281c68fa032aedbd842a745da68490926cd2             -1.0  \n",
       "\n",
       "[2 rows x 32 columns]"
      ]
     },
     "execution_count": 80,
     "metadata": {},
     "output_type": "execute_result"
    }
   ],
   "source": [
    "# considerar apenas as colunas numéricas para TESTE\n",
    "df2_test = df2_test.select_dtypes(include='number')\n",
    "df2_test.head(2)"
   ]
  },
  {
   "cell_type": "code",
   "execution_count": 136,
   "metadata": {},
   "outputs": [],
   "source": [
    "correlations = df2_train.corr()"
   ]
  },
  {
   "cell_type": "code",
   "execution_count": 75,
   "metadata": {},
   "outputs": [],
   "source": [
    "# mapa de calor das correlações\n",
    "def criar_heatmap(corr):\n",
    "  # Generate a mask for the upper triangle\n",
    "  mask = np.triu(np.ones_like(corr, dtype=np.bool))\n",
    "\n",
    "  # Set up the matplotlib figure\n",
    "  f, ax = plt.subplots(figsize=(11, 9))\n",
    "\n",
    "  # Generate a custom diverging colormap\n",
    "  cmap = sns.diverging_palette(220, 10, as_cmap=True)\n",
    "\n",
    "  # Draw the heatmap with the mask and correct aspect ratio\n",
    "  sns.heatmap(corr, mask=mask, cmap=cmap, vmax=.3, center=0,\n",
    "            square=True, linewidths=.5, cbar_kws={\"shrink\": .5}, annot=False)"
   ]
  },
  {
   "cell_type": "code",
   "execution_count": 76,
   "metadata": {},
   "outputs": [
    {
     "data": {
      "image/png": "[encoded data removed]",
      "text/plain": [
       "<Figure size 792x648 with 2 Axes>"
      ]
     },
     "metadata": {},
     "output_type": "display_data"
    }
   ],
   "source": [
    "# visulizando\n",
    "criar_heatmap(correlations)"
   ]
  },
  {
   "cell_type": "code",
   "execution_count": 139,
   "metadata": {},
   "outputs": [
    {
     "data": {
      "text/plain": [
       "['CO_UF_RESIDENCIA',\n",
       " 'NU_IDADE',\n",
       " 'TP_COR_RACA',\n",
       " 'TP_NACIONALIDADE',\n",
       " 'TP_ST_CONCLUSAO',\n",
       " 'TP_ANO_CONCLUIU',\n",
       " 'TP_ESCOLA',\n",
       " 'TP_ENSINO',\n",
       " 'TP_DEPENDENCIA_ADM_ESC',\n",
       " 'IN_BAIXA_VISAO',\n",
       " 'IN_CEGUEIRA',\n",
       " 'IN_SURDEZ',\n",
       " 'IN_DISLEXIA',\n",
       " 'IN_DISCALCULIA',\n",
       " 'IN_SABATISTA',\n",
       " 'IN_GESTANTE',\n",
       " 'IN_IDOSO',\n",
       " 'TP_PRESENCA_CN',\n",
       " 'TP_PRESENCA_CH',\n",
       " 'TP_PRESENCA_LC',\n",
       " 'TP_PRESENCA_MT',\n",
       " 'NU_NOTA_CN',\n",
       " 'NU_NOTA_CH',\n",
       " 'NU_NOTA_LC',\n",
       " 'TP_LINGUA',\n",
       " 'TP_STATUS_REDACAO',\n",
       " 'NU_NOTA_COMP1',\n",
       " 'NU_NOTA_COMP2',\n",
       " 'NU_NOTA_COMP3',\n",
       " 'NU_NOTA_COMP4',\n",
       " 'NU_NOTA_COMP5',\n",
       " 'NU_NOTA_REDACAO']"
      ]
     },
     "execution_count": 139,
     "metadata": {},
     "output_type": "execute_result"
    }
   ],
   "source": [
    "# features númericas escolhidas\n",
    "features = df2_train.columns.tolist()  # armazena em uma lista\n",
    "features.remove('IN_TREINEIRO')  # remove a varável alvo\n",
    "features"
   ]
  },
  {
   "cell_type": "code",
   "execution_count": 468,
   "metadata": {},
   "outputs": [],
   "source": [
    "# seleção de features que obteve o melhor score no desafio\n",
    "features2= ['NU_IDADE',\n",
    "            'CO_UF_RESIDENCIA',\n",
    "            'TP_ST_CONCLUSAO',\n",
    "            'TP_ENSINO',\n",
    "            'TP_DEPENDENCIA_ADM_ESC',\n",
    "            'IN_DISLEXIA',\n",
    "            'IN_SABATISTA',\n",
    "            'IN_GESTANTE',\n",
    "            'IN_IDOSO',\n",
    "            'TP_PRESENCA_CN',\n",
    "            'TP_PRESENCA_CH',\n",
    "            'TP_PRESENCA_LC',\n",
    "            'TP_PRESENCA_MT',\n",
    "            'NU_NOTA_CN',\n",
    "            'NU_NOTA_LC',\n",
    "            'NU_NOTA_CH',\n",
    "            'TP_LINGUA',\n",
    "            'TP_STATUS_REDACAO',\n",
    "            'NU_NOTA_COMP1',\n",
    "            'NU_NOTA_COMP2',\n",
    "            'NU_NOTA_COMP3',\n",
    "            'NU_NOTA_COMP4',\n",
    "            'NU_NOTA_COMP5',\n",
    "            'NU_NOTA_REDACAO']"
   ]
  },
  {
   "cell_type": "markdown",
   "metadata": {},
   "source": [
    "## Modelo com os dados balanceados"
   ]
  },
  {
   "cell_type": "code",
   "execution_count": 469,
   "metadata": {},
   "outputs": [],
   "source": [
    "# separa os dados de treino e test\n",
    "X2_train = df2_train[features2]\n",
    "y2_train = df2_train['IN_TREINEIRO']  # variável target\n",
    "X2_test = df2_test[features2]"
   ]
  },
  {
   "cell_type": "code",
   "execution_count": 470,
   "metadata": {},
   "outputs": [],
   "source": [
    "# balanceamento dos dados\n",
    "from imblearn.over_sampling import SMOTE\n",
    "\n",
    "smote = SMOTE(sampling_strategy='minority')\n",
    "\n",
    "X2_train,y2_train = smote.fit_resample(X2_train,y2_train)"
   ]
  },
  {
   "cell_type": "code",
   "execution_count": 471,
   "metadata": {},
   "outputs": [
    {
     "data": {
      "text/plain": [
       "RandomForestClassifier(random_state=42)"
      ]
     },
     "execution_count": 471,
     "metadata": {},
     "output_type": "execute_result"
    }
   ],
   "source": [
    "# carrega o modelo\n",
    "model_randomforest = RandomForestClassifier(random_state=42)\n",
    "model_randomforest.fit(X2_train, y2_train)"
   ]
  },
  {
   "cell_type": "code",
   "execution_count": 472,
   "metadata": {},
   "outputs": [],
   "source": [
    "# faz a classificação do treino\n",
    "y2_pred = model_randomforest.predict(X2_test)"
   ]
  },
  {
   "cell_type": "code",
   "execution_count": 473,
   "metadata": {},
   "outputs": [],
   "source": [
    "# cria o dataset de respostas que será enviado ao desafio\n",
    "df2_resposta = pd.DataFrame()\n",
    "\n",
    "# insere a coluna de inscrição\n",
    "df2_resposta['NU_INSCRICAO'] = test['NU_INSCRICAO'] "
   ]
  },
  {
   "cell_type": "code",
   "execution_count": 474,
   "metadata": {},
   "outputs": [],
   "source": [
    "# armazena as classificações que o modelo preveu no dataset resposta\n",
    "df2_resposta['IN_TREINEIRO'] = np.around(y2_pred,2)"
   ]
  },
  {
   "cell_type": "code",
   "execution_count": 475,
   "metadata": {},
   "outputs": [],
   "source": [
    "# gera o arquivo de respostas com a classificação\n",
    "df2_resposta.to_csv('answer.csv', index=False, header=True)"
   ]
  },
  {
   "cell_type": "code",
   "execution_count": 476,
   "metadata": {},
   "outputs": [
    {
     "data": {
      "text/html": [
       "<div>\n",
       "<style scoped>\n",
       "    .dataframe tbody tr th:only-of-type {\n",
       "        vertical-align: middle;\n",
       "    }\n",
       "\n",
       "    .dataframe tbody tr th {\n",
       "        vertical-align: top;\n",
       "    }\n",
       "\n",
       "    .dataframe thead th {\n",
       "        text-align: right;\n",
       "    }\n",
       "</style>\n",
       "<table border=\"1\" class=\"dataframe\">\n",
       "  <thead>\n",
       "    <tr style=\"text-align: right;\">\n",
       "      <th></th>\n",
       "      <th>NU_INSCRICAO</th>\n",
       "      <th>IN_TREINEIRO</th>\n",
       "    </tr>\n",
       "  </thead>\n",
       "  <tbody>\n",
       "    <tr>\n",
       "      <th>0</th>\n",
       "      <td>ba0cc30ba34e7a46764c09dfc38ed83d15828897</td>\n",
       "      <td>0</td>\n",
       "    </tr>\n",
       "    <tr>\n",
       "      <th>1</th>\n",
       "      <td>177f281c68fa032aedbd842a745da68490926cd2</td>\n",
       "      <td>0</td>\n",
       "    </tr>\n",
       "    <tr>\n",
       "      <th>2</th>\n",
       "      <td>6cf0d8b97597d7625cdedc7bdb6c0f052286c334</td>\n",
       "      <td>1</td>\n",
       "    </tr>\n",
       "    <tr>\n",
       "      <th>3</th>\n",
       "      <td>5c356d810fa57671402502cd0933e5601a2ebf1e</td>\n",
       "      <td>0</td>\n",
       "    </tr>\n",
       "    <tr>\n",
       "      <th>4</th>\n",
       "      <td>df47c07bd881c2db3f38c6048bf77c132ad0ceb3</td>\n",
       "      <td>0</td>\n",
       "    </tr>\n",
       "    <tr>\n",
       "      <th>...</th>\n",
       "      <td>...</td>\n",
       "      <td>...</td>\n",
       "    </tr>\n",
       "    <tr>\n",
       "      <th>4565</th>\n",
       "      <td>361b7fcd8867119550fe2af5aa729ffad89a7cf5</td>\n",
       "      <td>0</td>\n",
       "    </tr>\n",
       "    <tr>\n",
       "      <th>4566</th>\n",
       "      <td>d8a0e4c9e29494cc9bba2422bd79333931475ee1</td>\n",
       "      <td>0</td>\n",
       "    </tr>\n",
       "    <tr>\n",
       "      <th>4567</th>\n",
       "      <td>3f1c3388244df8d6521e983a809292d9f3bca643</td>\n",
       "      <td>0</td>\n",
       "    </tr>\n",
       "    <tr>\n",
       "      <th>4568</th>\n",
       "      <td>1778e9c4cef591beb6b986d191d15ed05de816b0</td>\n",
       "      <td>0</td>\n",
       "    </tr>\n",
       "    <tr>\n",
       "      <th>4569</th>\n",
       "      <td>096809759695097e384e766d2d9e23a34fc81610</td>\n",
       "      <td>0</td>\n",
       "    </tr>\n",
       "  </tbody>\n",
       "</table>\n",
       "<p>4570 rows × 2 columns</p>\n",
       "</div>"
      ],
      "text/plain": [
       "                                  NU_INSCRICAO  IN_TREINEIRO\n",
       "0     ba0cc30ba34e7a46764c09dfc38ed83d15828897             0\n",
       "1     177f281c68fa032aedbd842a745da68490926cd2             0\n",
       "2     6cf0d8b97597d7625cdedc7bdb6c0f052286c334             1\n",
       "3     5c356d810fa57671402502cd0933e5601a2ebf1e             0\n",
       "4     df47c07bd881c2db3f38c6048bf77c132ad0ceb3             0\n",
       "...                                        ...           ...\n",
       "4565  361b7fcd8867119550fe2af5aa729ffad89a7cf5             0\n",
       "4566  d8a0e4c9e29494cc9bba2422bd79333931475ee1             0\n",
       "4567  3f1c3388244df8d6521e983a809292d9f3bca643             0\n",
       "4568  1778e9c4cef591beb6b986d191d15ed05de816b0             0\n",
       "4569  096809759695097e384e766d2d9e23a34fc81610             0\n",
       "\n",
       "[4570 rows x 2 columns]"
      ]
     },
     "execution_count": 476,
     "metadata": {},
     "output_type": "execute_result"
    }
   ],
   "source": [
    "# verifica o dataset final\n",
    "df2_resposta"
   ]
  },
  {
   "cell_type": "markdown",
   "metadata": {},
   "source": [
    "_______\n",
    "\n",
    " #### **Tratando os campos nulos com 0 (zero)**\n",
    "- ##### Score obtido no desafio: **99.606127%**\n",
    "\n",
    "**Features numéricas escolhidas:** \n",
    "['CO_UF_RESIDENCIA',\n",
    " 'NU_IDADE',\n",
    " 'TP_COR_RACA',\n",
    " 'TP_NACIONALIDADE',\n",
    " 'TP_ST_CONCLUSAO',\n",
    " 'TP_ANO_CONCLUIU',\n",
    " 'TP_ESCOLA',\n",
    " 'TP_ENSINO',\n",
    " 'TP_DEPENDENCIA_ADM_ESC',\n",
    " 'IN_BAIXA_VISAO',\n",
    " 'IN_CEGUEIRA',\n",
    " 'IN_SURDEZ',\n",
    " 'IN_DISLEXIA',\n",
    " 'IN_DISCALCULIA',\n",
    " 'IN_SABATISTA',\n",
    " 'IN_GESTANTE',\n",
    " 'IN_IDOSO',\n",
    " 'TP_PRESENCA_CN',\n",
    " 'TP_PRESENCA_CH',\n",
    " 'TP_PRESENCA_LC',\n",
    " 'TP_PRESENCA_MT',\n",
    " 'NU_NOTA_CN',\n",
    " 'NU_NOTA_CH',\n",
    " 'NU_NOTA_LC',\n",
    " 'TP_LINGUA',\n",
    " 'TP_STATUS_REDACAO',\n",
    " 'NU_NOTA_COMP1',\n",
    " 'NU_NOTA_COMP2',\n",
    " 'NU_NOTA_COMP3',\n",
    " 'NU_NOTA_COMP4',\n",
    " 'NU_NOTA_COMP5',\n",
    " 'NU_NOTA_REDACAO']"
   ]
  },
  {
   "cell_type": "markdown",
   "metadata": {},
   "source": [
    "_______\n",
    " #### **Tratando os campos nulos com -1**\n",
    "- ##### Score obtido no desafio: **98,730853%**\n",
    "\n",
    "**Features numéricas escolhidas:** = ['NU_IDADE', 'TP_ST_CONCLUSAO']"
   ]
  },
  {
   "cell_type": "markdown",
   "metadata": {},
   "source": [
    "\n",
    "- ##### Score obtido no desafio: **99.628090%**\n",
    "\n",
    "\n",
    "**Features numéricas escolhidas:**\n",
    "['CO_UF_RESIDENCIA',\n",
    " 'NU_IDADE',\n",
    " 'TP_COR_RACA',\n",
    " 'TP_NACIONALIDADE',\n",
    " 'TP_ST_CONCLUSAO',\n",
    " 'TP_ANO_CONCLUIU',\n",
    " 'TP_ESCOLA',\n",
    " 'TP_ENSINO',\n",
    " 'TP_DEPENDENCIA_ADM_ESC',\n",
    " 'IN_BAIXA_VISAO',\n",
    " 'IN_CEGUEIRA',\n",
    " 'IN_SURDEZ',\n",
    " 'IN_DISLEXIA',\n",
    " 'IN_DISCALCULIA',\n",
    " 'IN_SABATISTA',\n",
    " 'IN_GESTANTE',\n",
    " 'IN_IDOSO',\n",
    " 'TP_PRESENCA_CN',\n",
    " 'TP_PRESENCA_CH',\n",
    " 'TP_PRESENCA_LC',\n",
    " 'TP_PRESENCA_MT',\n",
    " 'NU_NOTA_CN',\n",
    " 'NU_NOTA_CH',\n",
    " 'NU_NOTA_LC',\n",
    " 'TP_LINGUA',\n",
    " 'TP_STATUS_REDACAO',\n",
    " 'NU_NOTA_COMP1',\n",
    " 'NU_NOTA_COMP2',\n",
    " 'NU_NOTA_COMP3',\n",
    " 'NU_NOTA_COMP4',\n",
    " 'NU_NOTA_COMP5',\n",
    " 'NU_NOTA_REDACAO']"
   ]
  },
  {
   "cell_type": "markdown",
   "metadata": {},
   "source": [
    "______\n",
    "- ### Score FINAL obtido no desafio da semana: **99,649891%**\n",
    "\n",
    "**Features numéricas escolhidas:** = ['NU_IDADE',\n",
    "            'CO_UF_RESIDENCIA',\n",
    "             'TP_ST_CONCLUSAO',\n",
    "             'TP_ENSINO',\n",
    "            'TP_DEPENDENCIA_ADM_ESC',\n",
    "             'IN_DISLEXIA',\n",
    "             'IN_SABATISTA',\n",
    "             'IN_GESTANTE',\n",
    "             'IN_IDOSO',\n",
    "            'TP_PRESENCA_CN',\n",
    "             'TP_PRESENCA_CH',\n",
    "             'TP_PRESENCA_LC',\n",
    "             'TP_PRESENCA_MT',\n",
    "             'NU_NOTA_CN',\n",
    "             'NU_NOTA_LC',\n",
    "            'NU_NOTA_CH',\n",
    "             'TP_LINGUA',\n",
    "             'TP_STATUS_REDACAO',\n",
    "             'NU_NOTA_COMP1',\n",
    "             'NU_NOTA_COMP2',\n",
    "             'NU_NOTA_COMP3',\n",
    "             'NU_NOTA_COMP4',\n",
    "             'NU_NOTA_COMP5',\n",
    "             'NU_NOTA_REDACAO']\n",
    "             "
   ]
  },
  {
   "cell_type": "markdown",
   "metadata": {},
   "source": [
    "\n",
    "![title](score_enem4.png)"
   ]
  },
  {
   "cell_type": "markdown",
   "metadata": {},
   "source": [
    "____\n",
    "## Conclusão\n",
    "___"
   ]
  },
  {
   "cell_type": "markdown",
   "metadata": {},
   "source": [
    "Aplicando o balanceamento de dados obtive um resultado melhor para o modelo. \n",
    "\n",
    "Pra esse desafio da semana também utilizei o modelo RandomForestClassifier obtive um bom score final de 99,649891%.\n",
    "\n",
    "Nesse modelo usei com features apenas as variáveis númericas, como próximos passos é testar usando também as categóricas.\n",
    "\n",
    "Esse foi o último desafio do programa de aceleração de Data Science da Codenation. "
   ]
  }
 ],
 "metadata": {
  "kernelspec": {
   "display_name": "Python 3",
   "language": "python",
   "name": "python3"
  },
  "language_info": {
   "codemirror_mode": {
    "name": "ipython",
    "version": 3
   },
   "file_extension": ".py",
   "mimetype": "text/x-python",
   "name": "python",
   "nbconvert_exporter": "python",
   "pygments_lexer": "ipython3",
   "version": "3.7.7"
  }
 },
 "nbformat": 4,
 "nbformat_minor": 4
}
