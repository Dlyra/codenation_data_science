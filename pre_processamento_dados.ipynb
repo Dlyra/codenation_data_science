{
 "cells": [
  {
   "cell_type": "markdown",
   "metadata": {},
   "source": [
    "![](data:image/png;base64,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)"
   ]
  },
  {
   "cell_type": "markdown",
   "metadata": {},
   "source": [
    "# Desafio 1 - Pré-processamento de dados em Python\n",
    "__________\n",
    "\n",
    "### Base de Dados\n",
    "\n",
    "Utilizado o dataset [Black Friday](https://www.kaggle.com/mehdidag/black-friday) disponibilizado originalmente pela Analytics Vidhya(https://www.analyticsvidhya.com/).\n",
    "\n",
    "O dataset é composto por variáveis relativas à transações comerciais realizadas durante a Black Friday em uma determinada loja de varejo. \n",
    "\n",
    "Cada observação é relativa a um determinado item comprado por um usuário e um usuário pode ter comprado mais de um item.\n",
    "\n",
    "\n",
    "### Objetivo\n",
    "O objetivo deste desafio é extrair algumas informações quantitativas que ajude a compreender a natureza dos dados à disposição e ganhar alguns insights sobre o dataset.\n",
    "\n",
    "Praticar a exploração de datasets utilizando pandas. \n",
    "\n",
    "Toda análise pode ser feita no notebook, mas as resposta devem estar nos locais indicados e submetidas ao ambiente criado para a codenation no computador. \n",
    "\n",
    "> **Obs.: Por favor, não modifique o nome das funções de resposta (importante para a avaliação)** \n",
    "\n",
    "### Requisitos\n",
    "\n",
    "Verifique se possui as dependências necessárias abaixo: \n",
    "Python\n",
    "Pandas\n",
    "Numpy\n",
    "Jupyter Notebook\n",
    "\n",
    "___________"
   ]
  },
  {
   "cell_type": "markdown",
   "metadata": {},
   "source": [
    "## _Set up_ da análise"
   ]
  },
  {
   "cell_type": "code",
   "execution_count": 186,
   "metadata": {},
   "outputs": [],
   "source": [
    "# importa as bibliotecas\n",
    "import pandas as pd\n",
    "import numpy as np"
   ]
  },
  {
   "cell_type": "code",
   "execution_count": 187,
   "metadata": {},
   "outputs": [],
   "source": [
    "# carrega o dataframe\n",
    "black_friday = pd.read_csv(\"black_friday.csv\")"
   ]
  },
  {
   "cell_type": "markdown",
   "metadata": {},
   "source": [
    "## Inicie a análise a partir daqui"
   ]
  },
  {
   "cell_type": "code",
   "execution_count": 188,
   "metadata": {},
   "outputs": [
    {
     "name": "stdout",
     "output_type": "stream",
     "text": [
      "<class 'pandas.core.frame.DataFrame'>\n",
      "RangeIndex: 537577 entries, 0 to 537576\n",
      "Data columns (total 12 columns):\n",
      " #   Column                      Non-Null Count   Dtype  \n",
      "---  ------                      --------------   -----  \n",
      " 0   User_ID                     537577 non-null  int64  \n",
      " 1   Product_ID                  537577 non-null  object \n",
      " 2   Gender                      537577 non-null  object \n",
      " 3   Age                         537577 non-null  object \n",
      " 4   Occupation                  537577 non-null  int64  \n",
      " 5   City_Category               537577 non-null  object \n",
      " 6   Stay_In_Current_City_Years  537577 non-null  object \n",
      " 7   Marital_Status              537577 non-null  int64  \n",
      " 8   Product_Category_1          537577 non-null  int64  \n",
      " 9   Product_Category_2          370591 non-null  float64\n",
      " 10  Product_Category_3          164278 non-null  float64\n",
      " 11  Purchase                    537577 non-null  int64  \n",
      "dtypes: float64(2), int64(5), object(5)\n",
      "memory usage: 49.2+ MB\n"
     ]
    }
   ],
   "source": [
    "# verificando as infor gerais do dataframe\n",
    "black_friday.info()"
   ]
  },
  {
   "cell_type": "code",
   "execution_count": 189,
   "metadata": {},
   "outputs": [
    {
     "name": "stdout",
     "output_type": "stream",
     "text": [
      "Tamanho do Dataframe:  (537577, 12)\n",
      "\n",
      "\n"
     ]
    },
    {
     "data": {
      "text/html": [
       "<div>\n",
       "<style scoped>\n",
       "    .dataframe tbody tr th:only-of-type {\n",
       "        vertical-align: middle;\n",
       "    }\n",
       "\n",
       "    .dataframe tbody tr th {\n",
       "        vertical-align: top;\n",
       "    }\n",
       "\n",
       "    .dataframe thead th {\n",
       "        text-align: right;\n",
       "    }\n",
       "</style>\n",
       "<table border=\"1\" class=\"dataframe\">\n",
       "  <thead>\n",
       "    <tr style=\"text-align: right;\">\n",
       "      <th></th>\n",
       "      <th>User_ID</th>\n",
       "      <th>Product_ID</th>\n",
       "      <th>Gender</th>\n",
       "      <th>Age</th>\n",
       "      <th>Occupation</th>\n",
       "      <th>City_Category</th>\n",
       "      <th>Stay_In_Current_City_Years</th>\n",
       "      <th>Marital_Status</th>\n",
       "      <th>Product_Category_1</th>\n",
       "      <th>Product_Category_2</th>\n",
       "      <th>Product_Category_3</th>\n",
       "      <th>Purchase</th>\n",
       "    </tr>\n",
       "  </thead>\n",
       "  <tbody>\n",
       "    <tr>\n",
       "      <th>0</th>\n",
       "      <td>1000001</td>\n",
       "      <td>P00069042</td>\n",
       "      <td>F</td>\n",
       "      <td>0-17</td>\n",
       "      <td>10</td>\n",
       "      <td>A</td>\n",
       "      <td>2</td>\n",
       "      <td>0</td>\n",
       "      <td>3</td>\n",
       "      <td>NaN</td>\n",
       "      <td>NaN</td>\n",
       "      <td>8370</td>\n",
       "    </tr>\n",
       "    <tr>\n",
       "      <th>1</th>\n",
       "      <td>1000001</td>\n",
       "      <td>P00248942</td>\n",
       "      <td>F</td>\n",
       "      <td>0-17</td>\n",
       "      <td>10</td>\n",
       "      <td>A</td>\n",
       "      <td>2</td>\n",
       "      <td>0</td>\n",
       "      <td>1</td>\n",
       "      <td>6.0</td>\n",
       "      <td>14.0</td>\n",
       "      <td>15200</td>\n",
       "    </tr>\n",
       "    <tr>\n",
       "      <th>2</th>\n",
       "      <td>1000001</td>\n",
       "      <td>P00087842</td>\n",
       "      <td>F</td>\n",
       "      <td>0-17</td>\n",
       "      <td>10</td>\n",
       "      <td>A</td>\n",
       "      <td>2</td>\n",
       "      <td>0</td>\n",
       "      <td>12</td>\n",
       "      <td>NaN</td>\n",
       "      <td>NaN</td>\n",
       "      <td>1422</td>\n",
       "    </tr>\n",
       "    <tr>\n",
       "      <th>3</th>\n",
       "      <td>1000001</td>\n",
       "      <td>P00085442</td>\n",
       "      <td>F</td>\n",
       "      <td>0-17</td>\n",
       "      <td>10</td>\n",
       "      <td>A</td>\n",
       "      <td>2</td>\n",
       "      <td>0</td>\n",
       "      <td>12</td>\n",
       "      <td>14.0</td>\n",
       "      <td>NaN</td>\n",
       "      <td>1057</td>\n",
       "    </tr>\n",
       "    <tr>\n",
       "      <th>4</th>\n",
       "      <td>1000002</td>\n",
       "      <td>P00285442</td>\n",
       "      <td>M</td>\n",
       "      <td>55+</td>\n",
       "      <td>16</td>\n",
       "      <td>C</td>\n",
       "      <td>4+</td>\n",
       "      <td>0</td>\n",
       "      <td>8</td>\n",
       "      <td>NaN</td>\n",
       "      <td>NaN</td>\n",
       "      <td>7969</td>\n",
       "    </tr>\n",
       "  </tbody>\n",
       "</table>\n",
       "</div>"
      ],
      "text/plain": [
       "   User_ID Product_ID Gender   Age  Occupation City_Category  \\\n",
       "0  1000001  P00069042      F  0-17          10             A   \n",
       "1  1000001  P00248942      F  0-17          10             A   \n",
       "2  1000001  P00087842      F  0-17          10             A   \n",
       "3  1000001  P00085442      F  0-17          10             A   \n",
       "4  1000002  P00285442      M   55+          16             C   \n",
       "\n",
       "  Stay_In_Current_City_Years  Marital_Status  Product_Category_1  \\\n",
       "0                          2               0                   3   \n",
       "1                          2               0                   1   \n",
       "2                          2               0                  12   \n",
       "3                          2               0                  12   \n",
       "4                         4+               0                   8   \n",
       "\n",
       "   Product_Category_2  Product_Category_3  Purchase  \n",
       "0                 NaN                 NaN      8370  \n",
       "1                 6.0                14.0     15200  \n",
       "2                 NaN                 NaN      1422  \n",
       "3                14.0                 NaN      1057  \n",
       "4                 NaN                 NaN      7969  "
      ]
     },
     "execution_count": 189,
     "metadata": {},
     "output_type": "execute_result"
    }
   ],
   "source": [
    "# verifica o tamanho do dataframe (linhas e colunas)\n",
    "print(\"Tamanho do Dataframe: \", black_friday.shape)\n",
    "print(\"\\n\")\n",
    "\n",
    "# verifica os 05 primeiros registro do dataframe\n",
    "black_friday.head()"
   ]
  },
  {
   "cell_type": "code",
   "execution_count": 190,
   "metadata": {},
   "outputs": [
    {
     "data": {
      "text/plain": [
       "User_ID                            0\n",
       "Product_ID                         0\n",
       "Gender                             0\n",
       "Age                                0\n",
       "Occupation                         0\n",
       "City_Category                      0\n",
       "Stay_In_Current_City_Years         0\n",
       "Marital_Status                     0\n",
       "Product_Category_1                 0\n",
       "Product_Category_2            166986\n",
       "Product_Category_3            373299\n",
       "Purchase                           0\n",
       "dtype: int64"
      ]
     },
     "execution_count": 190,
     "metadata": {},
     "output_type": "execute_result"
    }
   ],
   "source": [
    "# verifica a quantidade de campos faltantes\n",
    "black_friday.isnull().sum()"
   ]
  },
  {
   "cell_type": "markdown",
   "metadata": {},
   "source": [
    "## Questão 1\n",
    "\n",
    "Quantas observações e quantas colunas há no dataset? Responda no formato de uma tuple `(n_observacoes, n_colunas)`."
   ]
  },
  {
   "cell_type": "code",
   "execution_count": 191,
   "metadata": {},
   "outputs": [],
   "source": [
    "def q1():\n",
    "    # retorna o tamanho do Dataframe\n",
    "    return black_friday.shape"
   ]
  },
  {
   "cell_type": "markdown",
   "metadata": {},
   "source": [
    "## Questão 2\n",
    "\n",
    "Há quantas mulheres com idade entre 26 e 35 anos no dataset? Responda como um único escalar."
   ]
  },
  {
   "cell_type": "code",
   "execution_count": 245,
   "metadata": {},
   "outputs": [],
   "source": [
    "def q2():\n",
    "    # filtra pelas condições de sexo e idade e depois retorna o total de registros\n",
    "    bf_filter = black_friday[(black_friday['Gender'] == 'F') & (black_friday['Age'] == '26-35')].shape[0]\n",
    "    return bf_filter"
   ]
  },
  {
   "cell_type": "markdown",
   "metadata": {},
   "source": [
    "## Questão 3\n",
    "\n",
    "Quantos usuários únicos há no dataset? Responda como um único escalar."
   ]
  },
  {
   "cell_type": "code",
   "execution_count": 282,
   "metadata": {},
   "outputs": [],
   "source": [
    "def q3():\n",
    "    # filtra pelo valores únicos do campo \"User_ID\"\n",
    "    bf_unique_id = black_friday['User_ID'].nunique()\n",
    "    return bf_unique_id"
   ]
  },
  {
   "cell_type": "markdown",
   "metadata": {},
   "source": [
    "## Questão 4\n",
    "\n",
    "Quantos tipos de dados diferentes existem no dataset? Responda como um único escalar."
   ]
  },
  {
   "cell_type": "code",
   "execution_count": 249,
   "metadata": {},
   "outputs": [],
   "source": [
    "def q4():\n",
    "    # conta os valores únicos do dataframe e retorna a quantidade dos tipos existentes\n",
    "    df_values = len(black_friday.dtypes.value_counts())\n",
    "    return df_values"
   ]
  },
  {
   "cell_type": "markdown",
   "metadata": {},
   "source": [
    "## Questão 5\n",
    "\n",
    "Qual porcentagem dos registros possui ao menos um valor null (`None`, `ǸaN` etc)? Responda como um único escalar entre 0 e 1."
   ]
  },
  {
   "cell_type": "code",
   "execution_count": 195,
   "metadata": {},
   "outputs": [],
   "source": [
    "def q5():\n",
    "    # verifica a quantidade de valores nulos do dataframe e pega o maior valor e divide pelo total de registros\n",
    "    bf_missing_values = max(black_friday.isnull().sum()) / black_friday.shape[0]\n",
    "    return bf_missing_values"
   ]
  },
  {
   "cell_type": "markdown",
   "metadata": {},
   "source": [
    "## Questão 6\n",
    "\n",
    "Quantos valores null existem na variável (coluna) com o maior número de null? Responda como um único escalar."
   ]
  },
  {
   "cell_type": "code",
   "execution_count": 196,
   "metadata": {},
   "outputs": [],
   "source": [
    "def q6():\n",
    "    # verifica a quantidade de valores nulos do dataframe e retorna o maior valor\n",
    "    bf_null_values = max(black_friday.isnull().sum())\n",
    "    return bf_null_values"
   ]
  },
  {
   "cell_type": "markdown",
   "metadata": {},
   "source": [
    "## Questão 7\n",
    "\n",
    "Qual o valor mais frequente (sem contar nulls) em `Product_Category_3`? Responda como um único escalar."
   ]
  },
  {
   "cell_type": "code",
   "execution_count": 197,
   "metadata": {},
   "outputs": [],
   "source": [
    "def q7():\n",
    "    # exclui os valores nulls e pega a moda para a coluna Product_Category_3\n",
    "    bf_frequency = black_friday['Product_Category_3'].dropna().mode()[0]\n",
    "    return bf_frequency"
   ]
  },
  {
   "cell_type": "markdown",
   "metadata": {},
   "source": [
    "## Questão 8\n",
    "\n",
    "Qual a nova média da variável (coluna) `Purchase` após sua normalização? Responda como um único escalar."
   ]
  },
  {
   "cell_type": "code",
   "execution_count": 198,
   "metadata": {},
   "outputs": [],
   "source": [
    "def q8():\n",
    "    # normaliza os dados com valor min e max e depois calcula a média\n",
    "    variavel_norm = black_friday['Purchase']\n",
    "    bf_norm = (variavel_norm - variavel_norm.min()) / (variavel_norm.max()- variavel_norm.min())\n",
    "    return float(bf_norm.mean())"
   ]
  },
  {
   "cell_type": "markdown",
   "metadata": {},
   "source": [
    "## Questão 9\n",
    "\n",
    "Quantas ocorrências entre -1 e 1 inclusive existem da variáel `Purchase` após sua padronização? Responda como um único escalar."
   ]
  },
  {
   "cell_type": "code",
   "execution_count": 278,
   "metadata": {},
   "outputs": [],
   "source": [
    "def q9():\n",
    "    # padroniza os dados e depois retorna as ocorrências\n",
    "    var_padronizada = black_friday['Purchase']\n",
    "    bf_padronizada = (var_padronizada - var_padronizada.mean()) / (var_padronizada.std())\n",
    "    return int(((bf_padronizada >= -1) & (bf_padronizada <= 1)).count())"
   ]
  },
  {
   "cell_type": "markdown",
   "metadata": {},
   "source": [
    "## Questão 10\n",
    "\n",
    "Podemos afirmar que se uma observação é null em `Product_Category_2` ela também o é em `Product_Category_3`? Responda com um bool (`True`, `False`)."
   ]
  },
  {
   "cell_type": "code",
   "execution_count": 200,
   "metadata": {},
   "outputs": [],
   "source": [
    "def q10():\n",
    "    # filtra a condição verdadeira e depois compara o tamanho do filtro com a coluna observada\n",
    "    prod_filter = black_friday[(black_friday['Product_Category_2'].isnull()) & (black_friday['Product_Category_3'].isnull())]\n",
    "    return bool(len(prod_filter) == black_friday['Product_Category_2'].isnull().sum())"
   ]
  },
  {
   "cell_type": "markdown",
   "metadata": {},
   "source": [
    "## Conclusão\n",
    "\n",
    "O Score mínimo para aprovação é 80% e a nota final obtida foi de 100%.  \n",
    "\n",
    "Alcançado o objetivo do desafio de pré-processamento de dados em Python da Semana 2 do Programa de aceleração em Data Science da Codenation.\n"
   ]
  }
 ],
 "metadata": {
  "kernelspec": {
   "display_name": "Python 3",
   "language": "python",
   "name": "python3"
  },
  "language_info": {
   "codemirror_mode": {
    "name": "ipython",
    "version": 3
   },
   "file_extension": ".py",
   "mimetype": "text/x-python",
   "name": "python",
   "nbconvert_exporter": "python",
   "pygments_lexer": "ipython3",
   "version": "3.7.7"
  }
 },
 "nbformat": 4,
 "nbformat_minor": 4
}
