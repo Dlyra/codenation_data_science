{
 "cells": [
  {
   "cell_type": "markdown",
   "metadata": {},
   "source": [
    "![title](logo.png)"
   ]
  },
  {
   "cell_type": "markdown",
   "metadata": {},
   "source": [
    "_____\n",
    "\n",
    "# Desafio 7 - Prever a Nota de Matemática do ENEM 2016\n",
    "_____"
   ]
  },
  {
   "cell_type": "markdown",
   "metadata": {},
   "source": [
    "### Base de Dados\n",
    "\n",
    "O contexto do desafio gira em torno dos resultados do ENEM 2016 (disponíveis no arquivo enem_train.csv). Este arquivo, e apenas ele, deve ser utilizado para todos os desafios. \n",
    "\n",
    "Qualquer dúvida a respeito das colunas, consulte o [Dicionário dos Microdados do Enem 2016](https://s3-us-west-1.amazonaws.com/acceleration-assets-highway/data-science/dicionario-de-dados.zip).\n",
    "\n",
    "Muitas universidades brasileiras utilizam o ENEM para selecionar seus futuros alunos e alunas. Isto é feito com uma média ponderada das notas das provas de matemática, ciências da natureza, linguagens e códigos, ciências humanas e redação. Determine os 20 melhores colocados, por ordem, para os pesos abaixo:\n",
    "\n",
    "- matemática: 3\n",
    "- ciências da natureza: 2\n",
    "- linguagens e códigos: 1.5\n",
    "- ciências humanas: 1\n",
    "- redação: 3\n",
    "\n",
    "O micro dados do INEP está disponível em: http://inep.gov.br/microdados\n",
    "\n",
    "\n",
    "### Objetivo\n",
    "\n",
    "Criar um modelo para prever a nota da prova de matemática de quem participou do ENEM 2016. \n",
    "\n",
    "O objetivo do desafio é avaliar a sua capacidade de resolver problemas, então ele pode ser resolvido em qualquer linguagem de programação ou ferramenta que você tenha facilidade. Mas recomendamos o uso de linguagens com maior ferramental de matemática e estatística como Python, R, Scala ou Julia.\n",
    "\n",
    "No arquivo enem_test.csv crie um modelo para prever nota da prova de matemática (coluna **NU_NOTA_MT**) de quem participou do ENEM 2016. \n",
    "\n",
    "Salve sua resposta em um arquivo chamado answer.csv com duas colunas: **NU_INSCRICAO** e **NU_NOTA_MT**.\n",
    "___________________"
   ]
  },
  {
   "cell_type": "markdown",
   "metadata": {},
   "source": [
    "### Informações Adicionais\n",
    "Este mesmo desafio foi proposto no processo seletivo para ingressar na aceleração. \n",
    "\n",
    "Caso queira ver o primeiro modelo que fiz acesse o repositório em: https://github.com/Dlyra/predicao_nota_matematica_enem_2016 \n",
    "\n",
    "O score obtido foi de:"
   ]
  },
  {
   "cell_type": "markdown",
   "metadata": {},
   "source": [
    "![title](Score_Modelo2.png)"
   ]
  },
  {
   "cell_type": "markdown",
   "metadata": {},
   "source": [
    "_______\n",
    "### Importando as bibliotecas"
   ]
  },
  {
   "cell_type": "code",
   "execution_count": 1119,
   "metadata": {},
   "outputs": [],
   "source": [
    "import pandas as pd\n",
    "import numpy as np\n",
    "from IPython.display import Image\n",
    "import joblib\n",
    "\n",
    "# visualização gráfica\n",
    "import seaborn as sns \n",
    "import matplotlib.pyplot as plt\n",
    "\n",
    "# estatísticas\n",
    "from pandas_profiling import ProfileReport\n",
    "\n",
    "# modelo\n",
    "from sklearn.model_selection import RandomizedSearchCV, KFold, cross_val_score\n",
    "from sklearn.preprocessing import StandardScaler, MinMaxScaler\n",
    "from sklearn.pipeline import Pipeline\n",
    "from sklearn.linear_model import LinearRegression\n",
    "from sklearn.tree import DecisionTreeRegressor, DecisionTreeRegressor\n",
    "from sklearn.neighbors import KNeighborsRegressor\n",
    "from sklearn.ensemble import GradientBoostingRegressor, RandomForestRegressor\n",
    "from sklearn.neighbors import RadiusNeighborsRegressor\n",
    "from sklearn.linear_model import SGDRegressor\n",
    "from sklearn.ensemble import ExtraTreesRegressor\n",
    "from sklearn.ensemble import AdaBoostRegressor\n",
    "\n",
    "\n",
    "from sklearn.feature_selection import RFE\n",
    "from sklearn.preprocessing import LabelEncoder,OneHotEncoder\n",
    "import sklearn.metrics as metrics"
   ]
  },
  {
   "cell_type": "markdown",
   "metadata": {},
   "source": [
    "## Análise Exploratória\n",
    "_______"
   ]
  },
  {
   "cell_type": "code",
   "execution_count": 1072,
   "metadata": {},
   "outputs": [],
   "source": [
    "# importa os arquivos teste e train\n",
    "test = pd.read_csv('./enem_test.csv', sep=\",\",encoding=\"utf-8\")\n",
    "train = pd.read_csv('./enem_train.csv',sep=\",\",encoding=\"utf-8\")\n",
    "\n",
    "# cria o dataset de respostas que será enviado ao desafio\n",
    "df_resposta = pd.DataFrame()\n",
    "\n",
    "# insere a coluna de inscrição\n",
    "df_resposta['NU_INSCRICAO'] = test['NU_INSCRICAO'] "
   ]
  },
  {
   "cell_type": "code",
   "execution_count": 1073,
   "metadata": {},
   "outputs": [
    {
     "data": {
      "text/html": [
       "<div>\n",
       "<style scoped>\n",
       "    .dataframe tbody tr th:only-of-type {\n",
       "        vertical-align: middle;\n",
       "    }\n",
       "\n",
       "    .dataframe tbody tr th {\n",
       "        vertical-align: top;\n",
       "    }\n",
       "\n",
       "    .dataframe thead th {\n",
       "        text-align: right;\n",
       "    }\n",
       "</style>\n",
       "<table border=\"1\" class=\"dataframe\">\n",
       "  <thead>\n",
       "    <tr style=\"text-align: right;\">\n",
       "      <th></th>\n",
       "      <th>Unnamed: 0</th>\n",
       "      <th>NU_INSCRICAO</th>\n",
       "      <th>NU_ANO</th>\n",
       "      <th>CO_MUNICIPIO_RESIDENCIA</th>\n",
       "      <th>NO_MUNICIPIO_RESIDENCIA</th>\n",
       "      <th>CO_UF_RESIDENCIA</th>\n",
       "      <th>SG_UF_RESIDENCIA</th>\n",
       "      <th>NU_IDADE</th>\n",
       "      <th>TP_SEXO</th>\n",
       "      <th>TP_ESTADO_CIVIL</th>\n",
       "      <th>...</th>\n",
       "      <th>Q041</th>\n",
       "      <th>Q042</th>\n",
       "      <th>Q043</th>\n",
       "      <th>Q044</th>\n",
       "      <th>Q045</th>\n",
       "      <th>Q046</th>\n",
       "      <th>Q047</th>\n",
       "      <th>Q048</th>\n",
       "      <th>Q049</th>\n",
       "      <th>Q050</th>\n",
       "    </tr>\n",
       "  </thead>\n",
       "  <tbody>\n",
       "    <tr>\n",
       "      <th>0</th>\n",
       "      <td>1</td>\n",
       "      <td>ed50e8aaa58e7a806c337585efee9ca41f1eb1ad</td>\n",
       "      <td>2016</td>\n",
       "      <td>4314902</td>\n",
       "      <td>Porto Alegre</td>\n",
       "      <td>43</td>\n",
       "      <td>RS</td>\n",
       "      <td>24</td>\n",
       "      <td>M</td>\n",
       "      <td>0.0</td>\n",
       "      <td>...</td>\n",
       "      <td>5.0</td>\n",
       "      <td>A</td>\n",
       "      <td>A</td>\n",
       "      <td>A</td>\n",
       "      <td>A</td>\n",
       "      <td>A</td>\n",
       "      <td>A</td>\n",
       "      <td>A</td>\n",
       "      <td>B</td>\n",
       "      <td>D</td>\n",
       "    </tr>\n",
       "    <tr>\n",
       "      <th>1</th>\n",
       "      <td>2</td>\n",
       "      <td>2c3acac4b33ec2b195d77e7c04a2d75727fad723</td>\n",
       "      <td>2016</td>\n",
       "      <td>2304707</td>\n",
       "      <td>Granja</td>\n",
       "      <td>23</td>\n",
       "      <td>CE</td>\n",
       "      <td>17</td>\n",
       "      <td>F</td>\n",
       "      <td>0.0</td>\n",
       "      <td>...</td>\n",
       "      <td>NaN</td>\n",
       "      <td>A</td>\n",
       "      <td>A</td>\n",
       "      <td>C</td>\n",
       "      <td>A</td>\n",
       "      <td>B</td>\n",
       "      <td>A</td>\n",
       "      <td>A</td>\n",
       "      <td>C</td>\n",
       "      <td>A</td>\n",
       "    </tr>\n",
       "  </tbody>\n",
       "</table>\n",
       "<p>2 rows × 167 columns</p>\n",
       "</div>"
      ],
      "text/plain": [
       "   Unnamed: 0                              NU_INSCRICAO  NU_ANO  \\\n",
       "0           1  ed50e8aaa58e7a806c337585efee9ca41f1eb1ad    2016   \n",
       "1           2  2c3acac4b33ec2b195d77e7c04a2d75727fad723    2016   \n",
       "\n",
       "   CO_MUNICIPIO_RESIDENCIA NO_MUNICIPIO_RESIDENCIA  CO_UF_RESIDENCIA  \\\n",
       "0                  4314902            Porto Alegre                43   \n",
       "1                  2304707                  Granja                23   \n",
       "\n",
       "  SG_UF_RESIDENCIA  NU_IDADE TP_SEXO  TP_ESTADO_CIVIL  ...  Q041  Q042  Q043  \\\n",
       "0               RS        24       M              0.0  ...   5.0     A     A   \n",
       "1               CE        17       F              0.0  ...   NaN     A     A   \n",
       "\n",
       "  Q044  Q045 Q046  Q047  Q048  Q049  Q050  \n",
       "0    A     A    A     A     A     B     D  \n",
       "1    C     A    B     A     A     C     A  \n",
       "\n",
       "[2 rows x 167 columns]"
      ]
     },
     "execution_count": 1073,
     "metadata": {},
     "output_type": "execute_result"
    }
   ],
   "source": [
    "# visualiza os dados do arquivo train\n",
    "train.head(2)"
   ]
  },
  {
   "cell_type": "code",
   "execution_count": 1074,
   "metadata": {},
   "outputs": [
    {
     "data": {
      "text/html": [
       "<div>\n",
       "<style scoped>\n",
       "    .dataframe tbody tr th:only-of-type {\n",
       "        vertical-align: middle;\n",
       "    }\n",
       "\n",
       "    .dataframe tbody tr th {\n",
       "        vertical-align: top;\n",
       "    }\n",
       "\n",
       "    .dataframe thead th {\n",
       "        text-align: right;\n",
       "    }\n",
       "</style>\n",
       "<table border=\"1\" class=\"dataframe\">\n",
       "  <thead>\n",
       "    <tr style=\"text-align: right;\">\n",
       "      <th></th>\n",
       "      <th>NU_INSCRICAO</th>\n",
       "      <th>CO_UF_RESIDENCIA</th>\n",
       "      <th>SG_UF_RESIDENCIA</th>\n",
       "      <th>NU_IDADE</th>\n",
       "      <th>TP_SEXO</th>\n",
       "      <th>TP_COR_RACA</th>\n",
       "      <th>TP_NACIONALIDADE</th>\n",
       "      <th>TP_ST_CONCLUSAO</th>\n",
       "      <th>TP_ANO_CONCLUIU</th>\n",
       "      <th>TP_ESCOLA</th>\n",
       "      <th>...</th>\n",
       "      <th>NU_NOTA_COMP5</th>\n",
       "      <th>NU_NOTA_REDACAO</th>\n",
       "      <th>Q001</th>\n",
       "      <th>Q002</th>\n",
       "      <th>Q006</th>\n",
       "      <th>Q024</th>\n",
       "      <th>Q025</th>\n",
       "      <th>Q026</th>\n",
       "      <th>Q027</th>\n",
       "      <th>Q047</th>\n",
       "    </tr>\n",
       "  </thead>\n",
       "  <tbody>\n",
       "    <tr>\n",
       "      <th>0</th>\n",
       "      <td>73ff9fcc02f0a99919906c942c2e1a1042cdcf98</td>\n",
       "      <td>41</td>\n",
       "      <td>PR</td>\n",
       "      <td>22</td>\n",
       "      <td>F</td>\n",
       "      <td>3</td>\n",
       "      <td>1</td>\n",
       "      <td>1</td>\n",
       "      <td>5</td>\n",
       "      <td>1</td>\n",
       "      <td>...</td>\n",
       "      <td>40.0</td>\n",
       "      <td>420.0</td>\n",
       "      <td>B</td>\n",
       "      <td>A</td>\n",
       "      <td>C</td>\n",
       "      <td>A</td>\n",
       "      <td>A</td>\n",
       "      <td>C</td>\n",
       "      <td>C</td>\n",
       "      <td>A</td>\n",
       "    </tr>\n",
       "    <tr>\n",
       "      <th>1</th>\n",
       "      <td>71a95f9f1b91a82c65ad94abbdf9f54e6066f968</td>\n",
       "      <td>21</td>\n",
       "      <td>MA</td>\n",
       "      <td>26</td>\n",
       "      <td>F</td>\n",
       "      <td>3</td>\n",
       "      <td>1</td>\n",
       "      <td>1</td>\n",
       "      <td>8</td>\n",
       "      <td>1</td>\n",
       "      <td>...</td>\n",
       "      <td>100.0</td>\n",
       "      <td>580.0</td>\n",
       "      <td>E</td>\n",
       "      <td>B</td>\n",
       "      <td>C</td>\n",
       "      <td>B</td>\n",
       "      <td>B</td>\n",
       "      <td>B</td>\n",
       "      <td>F</td>\n",
       "      <td>A</td>\n",
       "    </tr>\n",
       "  </tbody>\n",
       "</table>\n",
       "<p>2 rows × 47 columns</p>\n",
       "</div>"
      ],
      "text/plain": [
       "                               NU_INSCRICAO  CO_UF_RESIDENCIA  \\\n",
       "0  73ff9fcc02f0a99919906c942c2e1a1042cdcf98                41   \n",
       "1  71a95f9f1b91a82c65ad94abbdf9f54e6066f968                21   \n",
       "\n",
       "  SG_UF_RESIDENCIA  NU_IDADE TP_SEXO  TP_COR_RACA  TP_NACIONALIDADE  \\\n",
       "0               PR        22       F            3                 1   \n",
       "1               MA        26       F            3                 1   \n",
       "\n",
       "   TP_ST_CONCLUSAO  TP_ANO_CONCLUIU  TP_ESCOLA  ...  NU_NOTA_COMP5  \\\n",
       "0                1                5          1  ...           40.0   \n",
       "1                1                8          1  ...          100.0   \n",
       "\n",
       "   NU_NOTA_REDACAO  Q001  Q002  Q006  Q024  Q025  Q026  Q027  Q047  \n",
       "0            420.0     B     A     C     A     A     C     C     A  \n",
       "1            580.0     E     B     C     B     B     B     F     A  \n",
       "\n",
       "[2 rows x 47 columns]"
      ]
     },
     "execution_count": 1074,
     "metadata": {},
     "output_type": "execute_result"
    }
   ],
   "source": [
    "# visualiza os dados do arquivo test\n",
    "test.head(2)"
   ]
  },
  {
   "cell_type": "code",
   "execution_count": 1075,
   "metadata": {},
   "outputs": [
    {
     "name": "stdout",
     "output_type": "stream",
     "text": [
      "True\n"
     ]
    }
   ],
   "source": [
    "# verificar se os dados de teste estão nos dados de treinamento\n",
    "print(set(test.columns).issubset(set(train.columns)))"
   ]
  },
  {
   "cell_type": "code",
   "execution_count": 1076,
   "metadata": {},
   "outputs": [
    {
     "data": {
      "text/plain": [
       "Index(['NU_INSCRICAO', 'CO_UF_RESIDENCIA', 'SG_UF_RESIDENCIA', 'NU_IDADE',\n",
       "       'TP_SEXO', 'TP_COR_RACA', 'TP_NACIONALIDADE', 'TP_ST_CONCLUSAO',\n",
       "       'TP_ANO_CONCLUIU', 'TP_ESCOLA', 'TP_ENSINO', 'IN_TREINEIRO',\n",
       "       'TP_DEPENDENCIA_ADM_ESC', 'IN_BAIXA_VISAO', 'IN_CEGUEIRA', 'IN_SURDEZ',\n",
       "       'IN_DISLEXIA', 'IN_DISCALCULIA', 'IN_SABATISTA', 'IN_GESTANTE',\n",
       "       'IN_IDOSO', 'TP_PRESENCA_CN', 'TP_PRESENCA_CH', 'TP_PRESENCA_LC',\n",
       "       'CO_PROVA_CN', 'CO_PROVA_CH', 'CO_PROVA_LC', 'CO_PROVA_MT',\n",
       "       'NU_NOTA_CN', 'NU_NOTA_CH', 'NU_NOTA_LC', 'TP_LINGUA',\n",
       "       'TP_STATUS_REDACAO', 'NU_NOTA_COMP1', 'NU_NOTA_COMP2', 'NU_NOTA_COMP3',\n",
       "       'NU_NOTA_COMP4', 'NU_NOTA_COMP5', 'NU_NOTA_REDACAO', 'Q001', 'Q002',\n",
       "       'Q006', 'Q024', 'Q025', 'Q026', 'Q027', 'Q047'],\n",
       "      dtype='object')"
      ]
     },
     "execution_count": 1076,
     "metadata": {},
     "output_type": "execute_result"
    }
   ],
   "source": [
    "# verifica as colunas que constam nos dois arquivos.\n",
    "test.columns"
   ]
  },
  {
   "cell_type": "code",
   "execution_count": 1077,
   "metadata": {},
   "outputs": [
    {
     "data": {
      "text/plain": [
       "Index(['Unnamed: 0', 'NU_INSCRICAO', 'NU_ANO', 'CO_MUNICIPIO_RESIDENCIA',\n",
       "       'NO_MUNICIPIO_RESIDENCIA', 'CO_UF_RESIDENCIA', 'SG_UF_RESIDENCIA',\n",
       "       'NU_IDADE', 'TP_SEXO', 'TP_ESTADO_CIVIL',\n",
       "       ...\n",
       "       'Q041', 'Q042', 'Q043', 'Q044', 'Q045', 'Q046', 'Q047', 'Q048', 'Q049',\n",
       "       'Q050'],\n",
       "      dtype='object', length=167)"
      ]
     },
     "execution_count": 1077,
     "metadata": {},
     "output_type": "execute_result"
    }
   ],
   "source": [
    "train.columns"
   ]
  },
  {
   "cell_type": "code",
   "execution_count": 1078,
   "metadata": {},
   "outputs": [
    {
     "name": "stdout",
     "output_type": "stream",
     "text": [
      "Dados Teste: (4576, 47)\n",
      "Dados Treino: (13730, 167)\n"
     ]
    }
   ],
   "source": [
    "# verifica o tamanho dos dados linhas e colunas\n",
    "print('Dados Teste:', test.shape) \n",
    "print('Dados Treino:',train.shape)"
   ]
  },
  {
   "cell_type": "markdown",
   "metadata": {},
   "source": [
    "Os dados de treino e teste possuem tamanhos diferentes, o teste possui apenas 47 colunas o que limita um pouco a escolha das features para criar o modelo. "
   ]
  },
  {
   "cell_type": "markdown",
   "metadata": {},
   "source": [
    "### Profile Report\n",
    "\n",
    "O pandas profiling é uma ferramenta que gera um relatório com informações estatísticas e as principais características do seu dataframe.\n",
    "\n",
    "___"
   ]
  },
  {
   "cell_type": "code",
   "execution_count": 75,
   "metadata": {},
   "outputs": [],
   "source": [
    "# executando o profile\n",
    "profile = ProfileReport(test, title='Relatório - Pandas Profiling', html={'style':{'full_width':True}})"
   ]
  },
  {
   "cell_type": "code",
   "execution_count": 76,
   "metadata": {},
   "outputs": [
    {
     "data": {
      "application/vnd.jupyter.widget-view+json": {
       "model_id": "c74032aad5c94edca99c2085d58dd8f3",
       "version_major": 2,
       "version_minor": 0
      },
      "text/plain": [
       "HBox(children=(FloatProgress(value=0.0, description='Summarize dataset', max=46.0, style=ProgressStyle(descrip…"
      ]
     },
     "metadata": {},
     "output_type": "display_data"
    },
    {
     "name": "stdout",
     "output_type": "stream",
     "text": [
      "\n"
     ]
    },
    {
     "data": {
      "application/vnd.jupyter.widget-view+json": {
       "model_id": "582d75b6f0ac40e8a5be9cbc9d2be39e",
       "version_major": 2,
       "version_minor": 0
      },
      "text/plain": [
       "HBox(children=(FloatProgress(value=0.0, description='Generate report structure', max=1.0, style=ProgressStyle(…"
      ]
     },
     "metadata": {},
     "output_type": "display_data"
    },
    {
     "name": "stdout",
     "output_type": "stream",
     "text": [
      "\n"
     ]
    },
    {
     "data": {
      "application/vnd.jupyter.widget-view+json": {
       "model_id": "e346bb50a99d4396936602e2a799e1f4",
       "version_major": 2,
       "version_minor": 0
      },
      "text/plain": [
       "HBox(children=(FloatProgress(value=0.0, description='Render HTML', max=1.0, style=ProgressStyle(description_wi…"
      ]
     },
     "metadata": {},
     "output_type": "display_data"
    },
    {
     "name": "stdout",
     "output_type": "stream",
     "text": [
      "\n"
     ]
    },
    {
     "data": {
      "application/vnd.jupyter.widget-view+json": {
       "model_id": "e723dd0d493a4479b6bd23c4caf26cf3",
       "version_major": 2,
       "version_minor": 0
      },
      "text/plain": [
       "HBox(children=(FloatProgress(value=0.0, description='Export report to file', max=1.0, style=ProgressStyle(desc…"
      ]
     },
     "metadata": {},
     "output_type": "display_data"
    },
    {
     "name": "stdout",
     "output_type": "stream",
     "text": [
      "\n"
     ]
    }
   ],
   "source": [
    "# salvando o relatório no disco para acesso numa página externa. \n",
    "profile.to_file(output_file=\"Relatorio_test.html\")"
   ]
  },
  {
   "cell_type": "code",
   "execution_count": null,
   "metadata": {},
   "outputs": [],
   "source": [
    "# visualiza o relatório no notebook\n",
    "profile"
   ]
  },
  {
   "cell_type": "markdown",
   "metadata": {},
   "source": [
    " Após a análise das variáveis no profile seleciona aquelas que serão as features do modelo."
   ]
  },
  {
   "cell_type": "markdown",
   "metadata": {},
   "source": [
    "## Pré-Processamento\n",
    "\n",
    "____"
   ]
  },
  {
   "cell_type": "markdown",
   "metadata": {},
   "source": [
    "### Ajustes\n",
    "\n",
    "Como vimos, o tamanho das features dos dataset de treino e teste possuem tamanhos diferentes o que irá limitar um pouco nossa escolhas.\n",
    "\n",
    "Para facilitar vou definir que ambos possuam a mesma quantidade de features."
   ]
  },
  {
   "cell_type": "code",
   "execution_count": 1079,
   "metadata": {},
   "outputs": [],
   "source": [
    "# faz uma cópia do dataframe importado\n",
    "df_train = train.copy()\n",
    "df_test = test.copy()"
   ]
  },
  {
   "cell_type": "code",
   "execution_count": 1081,
   "metadata": {},
   "outputs": [
    {
     "name": "stdout",
     "output_type": "stream",
     "text": [
      "(4576, 47)\n",
      "(13730, 167)\n"
     ]
    }
   ],
   "source": [
    "# valida os tamanhos dos dados\n",
    "print(df_test.shape)\n",
    "print(df_train.shape)"
   ]
  },
  {
   "cell_type": "code",
   "execution_count": 1083,
   "metadata": {
    "collapsed": true,
    "jupyter": {
     "outputs_hidden": true
    }
   },
   "outputs": [
    {
     "data": {
      "text/plain": [
       "['NU_INSCRICAO',\n",
       " 'CO_UF_RESIDENCIA',\n",
       " 'SG_UF_RESIDENCIA',\n",
       " 'NU_IDADE',\n",
       " 'TP_SEXO',\n",
       " 'TP_COR_RACA',\n",
       " 'TP_NACIONALIDADE',\n",
       " 'TP_ST_CONCLUSAO',\n",
       " 'TP_ANO_CONCLUIU',\n",
       " 'TP_ESCOLA',\n",
       " 'TP_ENSINO',\n",
       " 'IN_TREINEIRO',\n",
       " 'TP_DEPENDENCIA_ADM_ESC',\n",
       " 'IN_BAIXA_VISAO',\n",
       " 'IN_CEGUEIRA',\n",
       " 'IN_SURDEZ',\n",
       " 'IN_DISLEXIA',\n",
       " 'IN_DISCALCULIA',\n",
       " 'IN_SABATISTA',\n",
       " 'IN_GESTANTE',\n",
       " 'IN_IDOSO',\n",
       " 'TP_PRESENCA_CN',\n",
       " 'TP_PRESENCA_CH',\n",
       " 'TP_PRESENCA_LC',\n",
       " 'CO_PROVA_CN',\n",
       " 'CO_PROVA_CH',\n",
       " 'CO_PROVA_LC',\n",
       " 'CO_PROVA_MT',\n",
       " 'NU_NOTA_CN',\n",
       " 'NU_NOTA_CH',\n",
       " 'NU_NOTA_LC',\n",
       " 'TP_LINGUA',\n",
       " 'TP_STATUS_REDACAO',\n",
       " 'NU_NOTA_COMP1',\n",
       " 'NU_NOTA_COMP2',\n",
       " 'NU_NOTA_COMP3',\n",
       " 'NU_NOTA_COMP4',\n",
       " 'NU_NOTA_COMP5',\n",
       " 'NU_NOTA_REDACAO',\n",
       " 'Q001',\n",
       " 'Q002',\n",
       " 'Q006',\n",
       " 'Q024',\n",
       " 'Q025',\n",
       " 'Q026',\n",
       " 'Q027',\n",
       " 'Q047']"
      ]
     },
     "execution_count": 1083,
     "metadata": {},
     "output_type": "execute_result"
    }
   ],
   "source": [
    "# verifica as colunas que constam em teste.\n",
    "columns_ajust = list(test.columns)\n",
    "columns_ajust"
   ]
  },
  {
   "cell_type": "code",
   "execution_count": 1084,
   "metadata": {
    "collapsed": true,
    "jupyter": {
     "outputs_hidden": true
    }
   },
   "outputs": [
    {
     "data": {
      "text/plain": [
       "['NU_INSCRICAO',\n",
       " 'CO_UF_RESIDENCIA',\n",
       " 'SG_UF_RESIDENCIA',\n",
       " 'NU_IDADE',\n",
       " 'TP_SEXO',\n",
       " 'TP_COR_RACA',\n",
       " 'TP_NACIONALIDADE',\n",
       " 'TP_ST_CONCLUSAO',\n",
       " 'TP_ANO_CONCLUIU',\n",
       " 'TP_ESCOLA',\n",
       " 'TP_ENSINO',\n",
       " 'IN_TREINEIRO',\n",
       " 'TP_DEPENDENCIA_ADM_ESC',\n",
       " 'IN_BAIXA_VISAO',\n",
       " 'IN_CEGUEIRA',\n",
       " 'IN_SURDEZ',\n",
       " 'IN_DISLEXIA',\n",
       " 'IN_DISCALCULIA',\n",
       " 'IN_SABATISTA',\n",
       " 'IN_GESTANTE',\n",
       " 'IN_IDOSO',\n",
       " 'TP_PRESENCA_CN',\n",
       " 'TP_PRESENCA_CH',\n",
       " 'TP_PRESENCA_LC',\n",
       " 'CO_PROVA_CN',\n",
       " 'CO_PROVA_CH',\n",
       " 'CO_PROVA_LC',\n",
       " 'CO_PROVA_MT',\n",
       " 'NU_NOTA_CN',\n",
       " 'NU_NOTA_CH',\n",
       " 'NU_NOTA_LC',\n",
       " 'TP_LINGUA',\n",
       " 'TP_STATUS_REDACAO',\n",
       " 'NU_NOTA_COMP1',\n",
       " 'NU_NOTA_COMP2',\n",
       " 'NU_NOTA_COMP3',\n",
       " 'NU_NOTA_COMP4',\n",
       " 'NU_NOTA_COMP5',\n",
       " 'NU_NOTA_REDACAO',\n",
       " 'Q001',\n",
       " 'Q002',\n",
       " 'Q006',\n",
       " 'Q024',\n",
       " 'Q025',\n",
       " 'Q026',\n",
       " 'Q027',\n",
       " 'Q047',\n",
       " 'NU_NOTA_MT']"
      ]
     },
     "execution_count": 1084,
     "metadata": {},
     "output_type": "execute_result"
    }
   ],
   "source": [
    "# vamos adicionar a variável target nas features existentes \n",
    "columns_ajust.append('NU_NOTA_MT')\n",
    "columns_ajust"
   ]
  },
  {
   "cell_type": "code",
   "execution_count": 1085,
   "metadata": {},
   "outputs": [
    {
     "data": {
      "text/html": [
       "<div>\n",
       "<style scoped>\n",
       "    .dataframe tbody tr th:only-of-type {\n",
       "        vertical-align: middle;\n",
       "    }\n",
       "\n",
       "    .dataframe tbody tr th {\n",
       "        vertical-align: top;\n",
       "    }\n",
       "\n",
       "    .dataframe thead th {\n",
       "        text-align: right;\n",
       "    }\n",
       "</style>\n",
       "<table border=\"1\" class=\"dataframe\">\n",
       "  <thead>\n",
       "    <tr style=\"text-align: right;\">\n",
       "      <th></th>\n",
       "      <th>NU_INSCRICAO</th>\n",
       "      <th>CO_UF_RESIDENCIA</th>\n",
       "      <th>SG_UF_RESIDENCIA</th>\n",
       "      <th>NU_IDADE</th>\n",
       "      <th>TP_SEXO</th>\n",
       "      <th>TP_COR_RACA</th>\n",
       "      <th>TP_NACIONALIDADE</th>\n",
       "      <th>TP_ST_CONCLUSAO</th>\n",
       "      <th>TP_ANO_CONCLUIU</th>\n",
       "      <th>TP_ESCOLA</th>\n",
       "      <th>...</th>\n",
       "      <th>NU_NOTA_REDACAO</th>\n",
       "      <th>Q001</th>\n",
       "      <th>Q002</th>\n",
       "      <th>Q006</th>\n",
       "      <th>Q024</th>\n",
       "      <th>Q025</th>\n",
       "      <th>Q026</th>\n",
       "      <th>Q027</th>\n",
       "      <th>Q047</th>\n",
       "      <th>NU_NOTA_MT</th>\n",
       "    </tr>\n",
       "  </thead>\n",
       "  <tbody>\n",
       "    <tr>\n",
       "      <th>0</th>\n",
       "      <td>ed50e8aaa58e7a806c337585efee9ca41f1eb1ad</td>\n",
       "      <td>43</td>\n",
       "      <td>RS</td>\n",
       "      <td>24</td>\n",
       "      <td>M</td>\n",
       "      <td>1</td>\n",
       "      <td>1</td>\n",
       "      <td>1</td>\n",
       "      <td>4</td>\n",
       "      <td>1</td>\n",
       "      <td>...</td>\n",
       "      <td>520.0</td>\n",
       "      <td>D</td>\n",
       "      <td>D</td>\n",
       "      <td>C</td>\n",
       "      <td>A</td>\n",
       "      <td>A</td>\n",
       "      <td>C</td>\n",
       "      <td>H</td>\n",
       "      <td>A</td>\n",
       "      <td>399.4</td>\n",
       "    </tr>\n",
       "    <tr>\n",
       "      <th>1</th>\n",
       "      <td>2c3acac4b33ec2b195d77e7c04a2d75727fad723</td>\n",
       "      <td>23</td>\n",
       "      <td>CE</td>\n",
       "      <td>17</td>\n",
       "      <td>F</td>\n",
       "      <td>3</td>\n",
       "      <td>1</td>\n",
       "      <td>2</td>\n",
       "      <td>0</td>\n",
       "      <td>2</td>\n",
       "      <td>...</td>\n",
       "      <td>580.0</td>\n",
       "      <td>A</td>\n",
       "      <td>A</td>\n",
       "      <td>B</td>\n",
       "      <td>A</td>\n",
       "      <td>A</td>\n",
       "      <td>A</td>\n",
       "      <td>NaN</td>\n",
       "      <td>A</td>\n",
       "      <td>459.8</td>\n",
       "    </tr>\n",
       "  </tbody>\n",
       "</table>\n",
       "<p>2 rows × 48 columns</p>\n",
       "</div>"
      ],
      "text/plain": [
       "                               NU_INSCRICAO  CO_UF_RESIDENCIA  \\\n",
       "0  ed50e8aaa58e7a806c337585efee9ca41f1eb1ad                43   \n",
       "1  2c3acac4b33ec2b195d77e7c04a2d75727fad723                23   \n",
       "\n",
       "  SG_UF_RESIDENCIA  NU_IDADE TP_SEXO  TP_COR_RACA  TP_NACIONALIDADE  \\\n",
       "0               RS        24       M            1                 1   \n",
       "1               CE        17       F            3                 1   \n",
       "\n",
       "   TP_ST_CONCLUSAO  TP_ANO_CONCLUIU  TP_ESCOLA  ...  NU_NOTA_REDACAO  Q001  \\\n",
       "0                1                4          1  ...            520.0     D   \n",
       "1                2                0          2  ...            580.0     A   \n",
       "\n",
       "   Q002  Q006  Q024  Q025  Q026  Q027  Q047  NU_NOTA_MT  \n",
       "0     D     C     A     A     C     H     A       399.4  \n",
       "1     A     B     A     A     A   NaN     A       459.8  \n",
       "\n",
       "[2 rows x 48 columns]"
      ]
     },
     "execution_count": 1085,
     "metadata": {},
     "output_type": "execute_result"
    }
   ],
   "source": [
    "# ajustar as colunas no dataset de treino ao de teste\n",
    "df_train = df_train[columns_ajust]\n",
    "df_train.head(2)"
   ]
  },
  {
   "cell_type": "code",
   "execution_count": 1086,
   "metadata": {},
   "outputs": [
    {
     "name": "stdout",
     "output_type": "stream",
     "text": [
      "(4576, 47)\n",
      "(13730, 48)\n"
     ]
    }
   ],
   "source": [
    "# valida os tamanhos dos dados\n",
    "print(df_test.shape)\n",
    "print(df_train.shape) # tem 01 a mais que é a nossa target 'NU_NOTA_MT'"
   ]
  },
  {
   "cell_type": "markdown",
   "metadata": {},
   "source": [
    "### Verificar os Campos Nulos"
   ]
  },
  {
   "cell_type": "markdown",
   "metadata": {},
   "source": [
    "- **Q027** representa um dado do questionário socioeconômico - **\"Com que idade você começou a exercer uma atividade remunerada?\"**.\n",
    "\n",
    "    Para esse campo estar em branco, entendo que o candidato preencheu o campo anterior **Q026 que é \"Você exerce ou já excerceu atividade remunerada?**, porém optou em deixar em branco a pergunta seguinte que é a Q027 e não escolheu nenhuma das idades sugeridas nesse item. \n",
    "\n",
    "    Poderia até preencher com a média uma vez que tenho as opções B - 14 anos, C - 15 anos etc. \n",
    "\n",
    "    Porém, possuo duas opções nesse item que me impede, são eles: A - Menos de 14 anos e M - 25 anos ou mais.\n",
    "\n",
    "\n",
    "- **TP_ENSINO - \"Tipo de Instituição que concluiu ou concluirá o Ensino Médio\"** - apesar de ser uma variável numérica, os números representam a descrição abaixo. \n",
    "\n",
    "    Esse campo em branco, significa que o candidato escolheu algumas das opções do item anterior TP_ESCOLA que é o tipo de escola do ensino médio. \n",
    "\n",
    "        - 1 - Ensino Regular\n",
    "        - 2 - Educação especial- modalidade susbtitutiva\n",
    "        - 3 - Educação de Jovens e Adultos\n",
    "        \n",
    "\n",
    "    Entretanto, em **TP_ESCOLA temos que 1 significa que o candidato não respondeu**, o número desse campo deveria ser o mesmo que os faltantes do TP_ENSINO. \n",
    "\n",
    "    As quantidade não correspondem, porém a diferença não é relevante e o mesmo acontece em **TP_DEPENDENCIA_ADM_ESC**. \n",
    "\n",
    "- **NU_NOTA_$ - Correspondem aos campos das notas das provas**: CN- Ciência da Natureza, CH- Ciência Humanas, LC- Linguagens e Códigos e MT- Matemática e Redação.\n",
    "\n",
    "    Existe uma divergência, temos que 208 candidatos possuem notas em CN e CH o que nos diz que compareceram no primeiro dia de prova e faltaram no segundo.\n",
    "\n",
    "    Faltaram 3389 candidatos nos dois dias de prova. "
   ]
  },
  {
   "cell_type": "code",
   "execution_count": 1089,
   "metadata": {},
   "outputs": [
    {
     "data": {
      "text/plain": [
       "9447"
      ]
     },
     "execution_count": 1089,
     "metadata": {},
     "output_type": "execute_result"
    }
   ],
   "source": [
    "# verificar a quantidade de candidatos que optou não responder\n",
    "tp_escola = df_train['TP_ESCOLA'][df_train['TP_ESCOLA'] == 1]  \n",
    "tp_escola.count()"
   ]
  },
  {
   "cell_type": "code",
   "execution_count": 1088,
   "metadata": {},
   "outputs": [
    {
     "data": {
      "text/plain": [
       "NU_INSCRICAO                 0\n",
       "CO_UF_RESIDENCIA             0\n",
       "SG_UF_RESIDENCIA             0\n",
       "NU_IDADE                     0\n",
       "TP_SEXO                      0\n",
       "TP_COR_RACA                  0\n",
       "TP_NACIONALIDADE             0\n",
       "TP_ST_CONCLUSAO              0\n",
       "TP_ANO_CONCLUIU              0\n",
       "TP_ESCOLA                    0\n",
       "TP_ENSINO                 9448\n",
       "IN_TREINEIRO                 0\n",
       "TP_DEPENDENCIA_ADM_ESC    9448\n",
       "IN_BAIXA_VISAO               0\n",
       "IN_CEGUEIRA                  0\n",
       "IN_SURDEZ                    0\n",
       "IN_DISLEXIA                  0\n",
       "IN_DISCALCULIA               0\n",
       "IN_SABATISTA                 0\n",
       "IN_GESTANTE                  0\n",
       "IN_IDOSO                     0\n",
       "TP_PRESENCA_CN               0\n",
       "TP_PRESENCA_CH               0\n",
       "TP_PRESENCA_LC               0\n",
       "CO_PROVA_CN                  0\n",
       "CO_PROVA_CH                  0\n",
       "CO_PROVA_LC                  0\n",
       "CO_PROVA_MT                  0\n",
       "NU_NOTA_CN                3389\n",
       "NU_NOTA_CH                3389\n",
       "NU_NOTA_LC                3597\n",
       "TP_LINGUA                    0\n",
       "TP_STATUS_REDACAO         3597\n",
       "NU_NOTA_COMP1             3597\n",
       "NU_NOTA_COMP2             3597\n",
       "NU_NOTA_COMP3             3597\n",
       "NU_NOTA_COMP4             3597\n",
       "NU_NOTA_COMP5             3597\n",
       "NU_NOTA_REDACAO           3597\n",
       "Q001                         0\n",
       "Q002                         0\n",
       "Q006                         0\n",
       "Q024                         0\n",
       "Q025                         0\n",
       "Q026                         0\n",
       "Q027                      7373\n",
       "Q047                         0\n",
       "NU_NOTA_MT                3597\n",
       "dtype: int64"
      ]
     },
     "execution_count": 1088,
     "metadata": {},
     "output_type": "execute_result"
    }
   ],
   "source": [
    "df_train.isnull().sum()"
   ]
  },
  {
   "cell_type": "markdown",
   "metadata": {},
   "source": [
    "### Tratamento dos Campos Nulos\n",
    "\n",
    "Algumas das possibilidades para tratar campos nulos são:\n",
    "\n",
    "    - Exclui esses dados do dataset;\n",
    "    - Preencher os campos com a média dos valores do campo e\n",
    "    - Preencher os campos nulos com zeros.\n",
    "    \n",
    " Como o dataset possui poucos registros excluir os campos faltantes pode ser prejudicial para o modelo.\n",
    "\n",
    " Preencher com a média dos valores no campo das notas não me parece correto. \n",
    " Pois, estaria afirmando que o canditado fez a prova nos dois dias e que não houve falta. \n",
    "\n",
    " Por fim, restou **preencher os campos nulos com zeros** e dessa forma o modelo não será treinado com valores faltantes. \n",
    "___"
   ]
  },
  {
   "cell_type": "markdown",
   "metadata": {},
   "source": [
    "**Preencher os campos nulos com zeros**"
   ]
  },
  {
   "cell_type": "code",
   "execution_count": 1090,
   "metadata": {
    "collapsed": true,
    "jupyter": {
     "outputs_hidden": true
    }
   },
   "outputs": [
    {
     "data": {
      "text/plain": [
       "NU_INSCRICAO              0\n",
       "CO_UF_RESIDENCIA          0\n",
       "SG_UF_RESIDENCIA          0\n",
       "NU_IDADE                  0\n",
       "TP_SEXO                   0\n",
       "TP_COR_RACA               0\n",
       "TP_NACIONALIDADE          0\n",
       "TP_ST_CONCLUSAO           0\n",
       "TP_ANO_CONCLUIU           0\n",
       "TP_ESCOLA                 0\n",
       "TP_ENSINO                 0\n",
       "IN_TREINEIRO              0\n",
       "TP_DEPENDENCIA_ADM_ESC    0\n",
       "IN_BAIXA_VISAO            0\n",
       "IN_CEGUEIRA               0\n",
       "IN_SURDEZ                 0\n",
       "IN_DISLEXIA               0\n",
       "IN_DISCALCULIA            0\n",
       "IN_SABATISTA              0\n",
       "IN_GESTANTE               0\n",
       "IN_IDOSO                  0\n",
       "TP_PRESENCA_CN            0\n",
       "TP_PRESENCA_CH            0\n",
       "TP_PRESENCA_LC            0\n",
       "CO_PROVA_CN               0\n",
       "CO_PROVA_CH               0\n",
       "CO_PROVA_LC               0\n",
       "CO_PROVA_MT               0\n",
       "NU_NOTA_CN                0\n",
       "NU_NOTA_CH                0\n",
       "NU_NOTA_LC                0\n",
       "TP_LINGUA                 0\n",
       "TP_STATUS_REDACAO         0\n",
       "NU_NOTA_COMP1             0\n",
       "NU_NOTA_COMP2             0\n",
       "NU_NOTA_COMP3             0\n",
       "NU_NOTA_COMP4             0\n",
       "NU_NOTA_COMP5             0\n",
       "NU_NOTA_REDACAO           0\n",
       "Q001                      0\n",
       "Q002                      0\n",
       "Q006                      0\n",
       "Q024                      0\n",
       "Q025                      0\n",
       "Q026                      0\n",
       "Q027                      0\n",
       "Q047                      0\n",
       "NU_NOTA_MT                0\n",
       "dtype: int64"
      ]
     },
     "execution_count": 1090,
     "metadata": {},
     "output_type": "execute_result"
    }
   ],
   "source": [
    "# substitui os campos nulos das features de TREINO por zero\n",
    "df_train = df_train.fillna(0)\n",
    "df_train.isnull().sum()"
   ]
  },
  {
   "cell_type": "code",
   "execution_count": 1091,
   "metadata": {
    "collapsed": true,
    "jupyter": {
     "outputs_hidden": true
    }
   },
   "outputs": [
    {
     "data": {
      "text/plain": [
       "NU_INSCRICAO              0\n",
       "CO_UF_RESIDENCIA          0\n",
       "SG_UF_RESIDENCIA          0\n",
       "NU_IDADE                  0\n",
       "TP_SEXO                   0\n",
       "TP_COR_RACA               0\n",
       "TP_NACIONALIDADE          0\n",
       "TP_ST_CONCLUSAO           0\n",
       "TP_ANO_CONCLUIU           0\n",
       "TP_ESCOLA                 0\n",
       "TP_ENSINO                 0\n",
       "IN_TREINEIRO              0\n",
       "TP_DEPENDENCIA_ADM_ESC    0\n",
       "IN_BAIXA_VISAO            0\n",
       "IN_CEGUEIRA               0\n",
       "IN_SURDEZ                 0\n",
       "IN_DISLEXIA               0\n",
       "IN_DISCALCULIA            0\n",
       "IN_SABATISTA              0\n",
       "IN_GESTANTE               0\n",
       "IN_IDOSO                  0\n",
       "TP_PRESENCA_CN            0\n",
       "TP_PRESENCA_CH            0\n",
       "TP_PRESENCA_LC            0\n",
       "CO_PROVA_CN               0\n",
       "CO_PROVA_CH               0\n",
       "CO_PROVA_LC               0\n",
       "CO_PROVA_MT               0\n",
       "NU_NOTA_CN                0\n",
       "NU_NOTA_CH                0\n",
       "NU_NOTA_LC                0\n",
       "TP_LINGUA                 0\n",
       "TP_STATUS_REDACAO         0\n",
       "NU_NOTA_COMP1             0\n",
       "NU_NOTA_COMP2             0\n",
       "NU_NOTA_COMP3             0\n",
       "NU_NOTA_COMP4             0\n",
       "NU_NOTA_COMP5             0\n",
       "NU_NOTA_REDACAO           0\n",
       "Q001                      0\n",
       "Q002                      0\n",
       "Q006                      0\n",
       "Q024                      0\n",
       "Q025                      0\n",
       "Q026                      0\n",
       "Q027                      0\n",
       "Q047                      0\n",
       "dtype: int64"
      ]
     },
     "execution_count": 1091,
     "metadata": {},
     "output_type": "execute_result"
    }
   ],
   "source": [
    "# substitui os campos nulos das features de TESTE por zero\n",
    "df_test= df_test.fillna(0)\n",
    "df_test.isnull().sum()"
   ]
  },
  {
   "cell_type": "markdown",
   "metadata": {},
   "source": [
    "## Seleção das Features\n",
    "_____"
   ]
  },
  {
   "cell_type": "markdown",
   "metadata": {},
   "source": [
    "Apesar de algumas colunas possuírem valores númericos, não quer dizer que é um valor com ordem de grandeza.\n",
    "\n",
    "São variáveis categóricas com a opções que ao invés de ser ums string são números.\n",
    "\n",
    "As colunas: \n",
    "- CO_UF_RESIDENCIA\n",
    "- TP_COR_RACA\n",
    "- TP_NACIONALIDADE\n",
    "- TP_ST_CONCLUSAO\n",
    "- TP_ANO_CONCLUIU\n",
    "- TP_ESCOLA\n",
    "- TP_ENSINO\n",
    "- TP_DEPENDENCIA_ADM_ESC \n",
    "- TP_PRESENCA_CN\n",
    "- TP_PRESENCA_CH\n",
    "- TP_PRESENCA_LC\n",
    "- TP_STATUS_REDACAO"
   ]
  },
  {
   "cell_type": "code",
   "execution_count": 1110,
   "metadata": {},
   "outputs": [],
   "source": [
    "# separando os dados de treino e test\n",
    "X_features = df_train.drop('NU_NOTA_MT', axis='columns')\n",
    "y_features = df_train['NU_NOTA_MT']  # variável target"
   ]
  },
  {
   "cell_type": "code",
   "execution_count": 1111,
   "metadata": {},
   "outputs": [
    {
     "data": {
      "text/plain": [
       "['NU_INSCRICAO',\n",
       " 'SG_UF_RESIDENCIA',\n",
       " 'TP_SEXO',\n",
       " 'CO_PROVA_CN',\n",
       " 'CO_PROVA_CH',\n",
       " 'CO_PROVA_LC',\n",
       " 'CO_PROVA_MT',\n",
       " 'Q001',\n",
       " 'Q002',\n",
       " 'Q006',\n",
       " 'Q024',\n",
       " 'Q025',\n",
       " 'Q026',\n",
       " 'Q027',\n",
       " 'Q047',\n",
       " 'CO_UF_RESIDENCIA',\n",
       " 'TP_COR_RACA',\n",
       " 'TP_NACIONALIDADE',\n",
       " 'TP_ST_CONCLUSAO',\n",
       " 'TP_ANO_CONCLUIU',\n",
       " 'TP_ESCOLA',\n",
       " 'TP_ENSINO',\n",
       " 'TP_DEPENDENCIA_ADM_ESC',\n",
       " 'TP_PRESENCA_CN',\n",
       " 'TP_PRESENCA_CH',\n",
       " 'TP_PRESENCA_LC',\n",
       " 'TP_STATUS_REDACAO']"
      ]
     },
     "execution_count": 1111,
     "metadata": {},
     "output_type": "execute_result"
    }
   ],
   "source": [
    "columns_transform = X_features.select_dtypes(exclude='number').columns.tolist()\n",
    "columns_transform.extend(['CO_UF_RESIDENCIA',\n",
    "                          'TP_COR_RACA',\n",
    "                          'TP_NACIONALIDADE',\n",
    "                          'TP_ST_CONCLUSAO',\n",
    "                          'TP_ANO_CONCLUIU',\n",
    "                          'TP_ESCOLA',\n",
    "                          'TP_ENSINO',\n",
    "                          'TP_DEPENDENCIA_ADM_ESC',\n",
    "                          'TP_PRESENCA_CN',\n",
    "                          'TP_PRESENCA_CH',\n",
    "                          'TP_PRESENCA_LC',\n",
    "                          'TP_STATUS_REDACAO'])\n",
    "columns_transform"
   ]
  },
  {
   "cell_type": "code",
   "execution_count": 1112,
   "metadata": {},
   "outputs": [],
   "source": [
    "# converte essas colunas em string para posterior transformação\n",
    "X_features['Q027']= X_features['Q027'].astype(str)\n",
    "X_features['Q027']= X_features['Q027'].astype(str)"
   ]
  },
  {
   "cell_type": "code",
   "execution_count": 1113,
   "metadata": {},
   "outputs": [],
   "source": [
    "# transforma as variáveis categórias em númericas\n",
    "OHE = OneHotEncoder(sparse=False)\n",
    "for coluna in X_features.columns:\n",
    "    if coluna in columns_transform:\n",
    "        try:\n",
    "            X_features[coluna] = OHE.fit_transform(X_features[[coluna]])\n",
    "\n",
    "        except:\n",
    "            print(f\"Nao foi possivel realizar a operacao para a coluna {coluna}\")"
   ]
  },
  {
   "cell_type": "code",
   "execution_count": 1114,
   "metadata": {},
   "outputs": [
    {
     "data": {
      "text/html": [
       "<div>\n",
       "<style scoped>\n",
       "    .dataframe tbody tr th:only-of-type {\n",
       "        vertical-align: middle;\n",
       "    }\n",
       "\n",
       "    .dataframe tbody tr th {\n",
       "        vertical-align: top;\n",
       "    }\n",
       "\n",
       "    .dataframe thead th {\n",
       "        text-align: right;\n",
       "    }\n",
       "</style>\n",
       "<table border=\"1\" class=\"dataframe\">\n",
       "  <thead>\n",
       "    <tr style=\"text-align: right;\">\n",
       "      <th></th>\n",
       "      <th>NU_INSCRICAO</th>\n",
       "      <th>CO_UF_RESIDENCIA</th>\n",
       "      <th>SG_UF_RESIDENCIA</th>\n",
       "      <th>NU_IDADE</th>\n",
       "      <th>TP_SEXO</th>\n",
       "      <th>TP_COR_RACA</th>\n",
       "      <th>TP_NACIONALIDADE</th>\n",
       "      <th>TP_ST_CONCLUSAO</th>\n",
       "      <th>TP_ANO_CONCLUIU</th>\n",
       "      <th>TP_ESCOLA</th>\n",
       "      <th>...</th>\n",
       "      <th>NU_NOTA_COMP5</th>\n",
       "      <th>NU_NOTA_REDACAO</th>\n",
       "      <th>Q001</th>\n",
       "      <th>Q002</th>\n",
       "      <th>Q006</th>\n",
       "      <th>Q024</th>\n",
       "      <th>Q025</th>\n",
       "      <th>Q026</th>\n",
       "      <th>Q027</th>\n",
       "      <th>Q047</th>\n",
       "    </tr>\n",
       "  </thead>\n",
       "  <tbody>\n",
       "    <tr>\n",
       "      <th>0</th>\n",
       "      <td>0.0</td>\n",
       "      <td>0.0</td>\n",
       "      <td>0.0</td>\n",
       "      <td>24</td>\n",
       "      <td>0.0</td>\n",
       "      <td>0.0</td>\n",
       "      <td>0.0</td>\n",
       "      <td>1.0</td>\n",
       "      <td>0.0</td>\n",
       "      <td>1.0</td>\n",
       "      <td>...</td>\n",
       "      <td>80.0</td>\n",
       "      <td>520.0</td>\n",
       "      <td>0.0</td>\n",
       "      <td>0.0</td>\n",
       "      <td>0.0</td>\n",
       "      <td>1.0</td>\n",
       "      <td>1.0</td>\n",
       "      <td>0.0</td>\n",
       "      <td>0.0</td>\n",
       "      <td>1.0</td>\n",
       "    </tr>\n",
       "    <tr>\n",
       "      <th>1</th>\n",
       "      <td>0.0</td>\n",
       "      <td>0.0</td>\n",
       "      <td>0.0</td>\n",
       "      <td>17</td>\n",
       "      <td>1.0</td>\n",
       "      <td>0.0</td>\n",
       "      <td>0.0</td>\n",
       "      <td>0.0</td>\n",
       "      <td>1.0</td>\n",
       "      <td>0.0</td>\n",
       "      <td>...</td>\n",
       "      <td>80.0</td>\n",
       "      <td>580.0</td>\n",
       "      <td>1.0</td>\n",
       "      <td>1.0</td>\n",
       "      <td>0.0</td>\n",
       "      <td>1.0</td>\n",
       "      <td>1.0</td>\n",
       "      <td>1.0</td>\n",
       "      <td>1.0</td>\n",
       "      <td>1.0</td>\n",
       "    </tr>\n",
       "  </tbody>\n",
       "</table>\n",
       "<p>2 rows × 47 columns</p>\n",
       "</div>"
      ],
      "text/plain": [
       "   NU_INSCRICAO  CO_UF_RESIDENCIA  SG_UF_RESIDENCIA  NU_IDADE  TP_SEXO  \\\n",
       "0           0.0               0.0               0.0        24      0.0   \n",
       "1           0.0               0.0               0.0        17      1.0   \n",
       "\n",
       "   TP_COR_RACA  TP_NACIONALIDADE  TP_ST_CONCLUSAO  TP_ANO_CONCLUIU  TP_ESCOLA  \\\n",
       "0          0.0               0.0              1.0              0.0        1.0   \n",
       "1          0.0               0.0              0.0              1.0        0.0   \n",
       "\n",
       "   ...  NU_NOTA_COMP5  NU_NOTA_REDACAO  Q001  Q002  Q006  Q024  Q025  Q026  \\\n",
       "0  ...           80.0            520.0   0.0   0.0   0.0   1.0   1.0   0.0   \n",
       "1  ...           80.0            580.0   1.0   1.0   0.0   1.0   1.0   1.0   \n",
       "\n",
       "   Q027  Q047  \n",
       "0   0.0   1.0  \n",
       "1   1.0   1.0  \n",
       "\n",
       "[2 rows x 47 columns]"
      ]
     },
     "execution_count": 1114,
     "metadata": {},
     "output_type": "execute_result"
    }
   ],
   "source": [
    "X_features.head(2)"
   ]
  },
  {
   "cell_type": "code",
   "execution_count": 1115,
   "metadata": {},
   "outputs": [],
   "source": [
    "# normaliza os dados\n",
    "sc = StandardScaler()  \n",
    "X_features = sc.fit_transform(X_features)"
   ]
  },
  {
   "cell_type": "code",
   "execution_count": 1117,
   "metadata": {},
   "outputs": [
    {
     "data": {
      "text/plain": [
       "array([[-0.00853455, -0.08904129, -0.07002681, ..., -1.05235182,\n",
       "        -1.07695117,  0.41340328],\n",
       "       [-0.00853455, -0.08904129, -0.07002681, ...,  0.95025255,\n",
       "         0.92854721,  0.41340328],\n",
       "       [-0.00853455, -0.08904129, -0.07002681, ...,  0.95025255,\n",
       "         0.92854721,  0.41340328],\n",
       "       ...,\n",
       "       [-0.00853455, -0.08904129, -0.07002681, ...,  0.95025255,\n",
       "         0.92854721,  0.41340328],\n",
       "       [-0.00853455, -0.08904129, -0.07002681, ..., -1.05235182,\n",
       "        -1.07695117,  0.41340328],\n",
       "       [-0.00853455, -0.08904129, -0.07002681, ...,  0.95025255,\n",
       "         0.92854721,  0.41340328]])"
      ]
     },
     "execution_count": 1117,
     "metadata": {},
     "output_type": "execute_result"
    }
   ],
   "source": [
    "X_features"
   ]
  },
  {
   "cell_type": "code",
   "execution_count": 1118,
   "metadata": {},
   "outputs": [
    {
     "data": {
      "text/plain": [
       "(13730, 28)"
      ]
     },
     "execution_count": 1118,
     "metadata": {},
     "output_type": "execute_result"
    }
   ],
   "source": [
    "from sklearn.decomposition import PCA\n",
    "pca = PCA(n_components=0.95).fit_transform(X_features)\n",
    "pca.shape  # o segundo elemento da tupla é o número de componentes encontrados"
   ]
  },
  {
   "cell_type": "code",
   "execution_count": 1120,
   "metadata": {},
   "outputs": [],
   "source": [
    "# aplica o RFE com o número de componente do PCA\n",
    "estimador = GradientBoostingRegressor() \n",
    "rfe = RFE(estimador, 28, step=1)"
   ]
  },
  {
   "cell_type": "code",
   "execution_count": 1121,
   "metadata": {},
   "outputs": [
    {
     "data": {
      "text/plain": [
       "RFE(estimator=GradientBoostingRegressor(alpha=0.9, ccp_alpha=0.0,\n",
       "                                        criterion='friedman_mse', init=None,\n",
       "                                        learning_rate=0.1, loss='ls',\n",
       "                                        max_depth=3, max_features=None,\n",
       "                                        max_leaf_nodes=None,\n",
       "                                        min_impurity_decrease=0.0,\n",
       "                                        min_impurity_split=None,\n",
       "                                        min_samples_leaf=1, min_samples_split=2,\n",
       "                                        min_weight_fraction_leaf=0.0,\n",
       "                                        n_estimators=100, n_iter_no_change=None,\n",
       "                                        presort='deprecated', random_state=None,\n",
       "                                        subsample=1.0, tol=0.0001,\n",
       "                                        validation_fraction=0.1, verbose=0,\n",
       "                                        warm_start=False),\n",
       "    n_features_to_select=28, step=1, verbose=0)"
      ]
     },
     "execution_count": 1121,
     "metadata": {},
     "output_type": "execute_result"
    }
   ],
   "source": [
    "rfe.fit(X_features,y_features)"
   ]
  },
  {
   "cell_type": "code",
   "execution_count": 1123,
   "metadata": {},
   "outputs": [
    {
     "data": {
      "text/html": [
       "<div>\n",
       "<style scoped>\n",
       "    .dataframe tbody tr th:only-of-type {\n",
       "        vertical-align: middle;\n",
       "    }\n",
       "\n",
       "    .dataframe tbody tr th {\n",
       "        vertical-align: top;\n",
       "    }\n",
       "\n",
       "    .dataframe thead th {\n",
       "        text-align: right;\n",
       "    }\n",
       "</style>\n",
       "<table border=\"1\" class=\"dataframe\">\n",
       "  <thead>\n",
       "    <tr style=\"text-align: right;\">\n",
       "      <th></th>\n",
       "      <th>NU_IDADE</th>\n",
       "      <th>TP_SEXO</th>\n",
       "      <th>TP_COR_RACA</th>\n",
       "      <th>TP_ANO_CONCLUIU</th>\n",
       "      <th>TP_ESCOLA</th>\n",
       "      <th>IN_DISCALCULIA</th>\n",
       "      <th>TP_PRESENCA_CN</th>\n",
       "      <th>CO_PROVA_CH</th>\n",
       "      <th>CO_PROVA_LC</th>\n",
       "      <th>CO_PROVA_MT</th>\n",
       "      <th>...</th>\n",
       "      <th>NU_NOTA_COMP5</th>\n",
       "      <th>NU_NOTA_REDACAO</th>\n",
       "      <th>Q001</th>\n",
       "      <th>Q002</th>\n",
       "      <th>Q006</th>\n",
       "      <th>Q024</th>\n",
       "      <th>Q025</th>\n",
       "      <th>Q026</th>\n",
       "      <th>Q027</th>\n",
       "      <th>Q047</th>\n",
       "    </tr>\n",
       "  </thead>\n",
       "  <tbody>\n",
       "    <tr>\n",
       "      <th>0</th>\n",
       "      <td>24</td>\n",
       "      <td>M</td>\n",
       "      <td>1</td>\n",
       "      <td>4</td>\n",
       "      <td>1</td>\n",
       "      <td>0</td>\n",
       "      <td>1</td>\n",
       "      <td>9cd70f1b922e02bd33453b3f607f5a644fb9b1b8</td>\n",
       "      <td>01af53cd161a420fff1767129c10de560cc264dd</td>\n",
       "      <td>97caab1e1533dba217deb7ef41490f52e459ab01</td>\n",
       "      <td>...</td>\n",
       "      <td>80.0</td>\n",
       "      <td>520.0</td>\n",
       "      <td>D</td>\n",
       "      <td>D</td>\n",
       "      <td>C</td>\n",
       "      <td>A</td>\n",
       "      <td>A</td>\n",
       "      <td>C</td>\n",
       "      <td>H</td>\n",
       "      <td>A</td>\n",
       "    </tr>\n",
       "    <tr>\n",
       "      <th>1</th>\n",
       "      <td>17</td>\n",
       "      <td>F</td>\n",
       "      <td>3</td>\n",
       "      <td>0</td>\n",
       "      <td>2</td>\n",
       "      <td>0</td>\n",
       "      <td>1</td>\n",
       "      <td>909237ab0d84688e10c0470e2997348aff585273</td>\n",
       "      <td>01af53cd161a420fff1767129c10de560cc264dd</td>\n",
       "      <td>97caab1e1533dba217deb7ef41490f52e459ab01</td>\n",
       "      <td>...</td>\n",
       "      <td>80.0</td>\n",
       "      <td>580.0</td>\n",
       "      <td>A</td>\n",
       "      <td>A</td>\n",
       "      <td>B</td>\n",
       "      <td>A</td>\n",
       "      <td>A</td>\n",
       "      <td>A</td>\n",
       "      <td>0</td>\n",
       "      <td>A</td>\n",
       "    </tr>\n",
       "  </tbody>\n",
       "</table>\n",
       "<p>2 rows × 28 columns</p>\n",
       "</div>"
      ],
      "text/plain": [
       "   NU_IDADE TP_SEXO  TP_COR_RACA  TP_ANO_CONCLUIU  TP_ESCOLA  IN_DISCALCULIA  \\\n",
       "0        24       M            1                4          1               0   \n",
       "1        17       F            3                0          2               0   \n",
       "\n",
       "   TP_PRESENCA_CN                               CO_PROVA_CH  \\\n",
       "0               1  9cd70f1b922e02bd33453b3f607f5a644fb9b1b8   \n",
       "1               1  909237ab0d84688e10c0470e2997348aff585273   \n",
       "\n",
       "                                CO_PROVA_LC  \\\n",
       "0  01af53cd161a420fff1767129c10de560cc264dd   \n",
       "1  01af53cd161a420fff1767129c10de560cc264dd   \n",
       "\n",
       "                                CO_PROVA_MT  ...  NU_NOTA_COMP5  \\\n",
       "0  97caab1e1533dba217deb7ef41490f52e459ab01  ...           80.0   \n",
       "1  97caab1e1533dba217deb7ef41490f52e459ab01  ...           80.0   \n",
       "\n",
       "   NU_NOTA_REDACAO  Q001  Q002  Q006  Q024  Q025  Q026  Q027  Q047  \n",
       "0            520.0     D     D     C     A     A     C     H     A  \n",
       "1            580.0     A     A     B     A     A     A     0     A  \n",
       "\n",
       "[2 rows x 28 columns]"
      ]
     },
     "execution_count": 1123,
     "metadata": {},
     "output_type": "execute_result"
    }
   ],
   "source": [
    "# verifica as colunas\n",
    "cols = rfe.get_support(indices=True)\n",
    "features = df_train.iloc[:,cols]\n",
    "features.head(2)"
   ]
  },
  {
   "cell_type": "code",
   "execution_count": 1124,
   "metadata": {},
   "outputs": [
    {
     "data": {
      "text/plain": [
       "['NU_IDADE',\n",
       " 'TP_SEXO',\n",
       " 'TP_COR_RACA',\n",
       " 'TP_ANO_CONCLUIU',\n",
       " 'TP_ESCOLA',\n",
       " 'IN_DISCALCULIA',\n",
       " 'TP_PRESENCA_CN',\n",
       " 'CO_PROVA_CH',\n",
       " 'CO_PROVA_LC',\n",
       " 'CO_PROVA_MT',\n",
       " 'NU_NOTA_CN',\n",
       " 'NU_NOTA_CH',\n",
       " 'NU_NOTA_LC',\n",
       " 'TP_LINGUA',\n",
       " 'NU_NOTA_COMP1',\n",
       " 'NU_NOTA_COMP2',\n",
       " 'NU_NOTA_COMP3',\n",
       " 'NU_NOTA_COMP4',\n",
       " 'NU_NOTA_COMP5',\n",
       " 'NU_NOTA_REDACAO',\n",
       " 'Q001',\n",
       " 'Q002',\n",
       " 'Q006',\n",
       " 'Q024',\n",
       " 'Q025',\n",
       " 'Q026',\n",
       " 'Q027',\n",
       " 'Q047']"
      ]
     },
     "execution_count": 1124,
     "metadata": {},
     "output_type": "execute_result"
    }
   ],
   "source": [
    "# features escolhidas\n",
    "features_columns = list(features.columns)\n",
    "features_columns"
   ]
  },
  {
   "cell_type": "code",
   "execution_count": 1128,
   "metadata": {},
   "outputs": [
    {
     "name": "stdout",
     "output_type": "stream",
     "text": [
      "Quantidade de Features: 28\n"
     ]
    }
   ],
   "source": [
    "# verifica as variáveis já existem em features, sem considerar a variável alvo\n",
    "print('Quantidade de Features:', len(features_columns))"
   ]
  },
  {
   "cell_type": "code",
   "execution_count": 1131,
   "metadata": {},
   "outputs": [
    {
     "data": {
      "text/plain": [
       "<matplotlib.axes._subplots.AxesSubplot at 0x1a35533610>"
      ]
     },
     "execution_count": 1131,
     "metadata": {},
     "output_type": "execute_result"
    },
    {
     "data": {
      "image/png": "[encoded data removed]",
      "text/plain": [
       "<Figure size 1080x576 with 2 Axes>"
      ]
     },
     "metadata": {},
     "output_type": "display_data"
    }
   ],
   "source": [
    "# mapa de calor para visualizar a correlação entre as variáveis escolhidas \n",
    "correlacoes_features = df_train[features_columns].corr()\n",
    "plt.figure(figsize=(15, 8))\n",
    "sns.heatmap(data=correlacoes_features, annot=True)"
   ]
  },
  {
   "cell_type": "markdown",
   "metadata": {},
   "source": [
    "Com essas 28 features meu modelo usando o GradientBoostRegressor obteve o SCORE: 93,748981%.\n",
    "\n",
    "Anteriormente, no desafio de entrada da aceleração, também usando o GradientBoostRegressor e com 22 features obtive o SCORE:93,78%.\n",
    "    \n",
    "Então, resolvi juntar a composição de features de ambos e rodar o modelo novamente.\n",
    "\n",
    "Por fim, fiquei com as features abaixo:"
   ]
  },
  {
   "cell_type": "code",
   "execution_count": 1137,
   "metadata": {},
   "outputs": [],
   "source": [
    "features =['NU_IDADE',\n",
    "            'TP_SEXO',\n",
    "            'TP_COR_RACA',\n",
    "            'TP_ESCOLA',\n",
    "            'IN_TREINEIRO',\n",
    "            'TP_DEPENDENCIA_ADM_ESC',\n",
    "            'IN_SABATISTA',\n",
    "            'IN_GESTANTE',\n",
    "            'IN_IDOSO',\n",
    "            'TP_PRESENCA_CN',\n",
    "            'TP_PRESENCA_CH',\n",
    "            'TP_PRESENCA_LC',\n",
    "            'CO_PROVA_CN',\n",
    "            'CO_PROVA_CH',\n",
    "            'CO_PROVA_LC',\n",
    "            'CO_PROVA_MT',\n",
    "            'NU_NOTA_CN',\n",
    "            'NU_NOTA_CH',\n",
    "            'NU_NOTA_LC',\n",
    "            'NU_NOTA_COMP1',\n",
    "            'NU_NOTA_COMP2',\n",
    "            'NU_NOTA_COMP3',\n",
    "            'NU_NOTA_COMP4',\n",
    "            'NU_NOTA_COMP5',\n",
    "            'NU_NOTA_REDACAO',\n",
    "            'Q001',\n",
    "            'Q002',\n",
    "            'Q006',\n",
    "            'Q024',\n",
    "            'Q025',\n",
    "            'Q026',\n",
    "            'Q027',\n",
    "            'Q047',\n",
    "            'NU_NOTA_MT'] "
   ]
  },
  {
   "cell_type": "code",
   "execution_count": 1130,
   "metadata": {},
   "outputs": [
    {
     "data": {
      "text/plain": [
       "<matplotlib.axes._subplots.AxesSubplot at 0x1a2bf8fc50>"
      ]
     },
     "execution_count": 1130,
     "metadata": {},
     "output_type": "execute_result"
    },
    {
     "data": {
      "image/png": "[encoded data removed]",
      "text/plain": [
       "<Figure size 1440x720 with 2 Axes>"
      ]
     },
     "metadata": {},
     "output_type": "display_data"
    }
   ],
   "source": [
    "# mapa de calor para visualizar a correlação entre as variáveis escolhidas \n",
    "correlacoes_features = df_train[features].corr()\n",
    "plt.figure(figsize=(20, 10))\n",
    "sns.heatmap(data=correlacoes_features, annot=True)"
   ]
  },
  {
   "cell_type": "code",
   "execution_count": 1140,
   "metadata": {},
   "outputs": [],
   "source": [
    "# remove a variável target de features\n",
    "features.remove('NU_NOTA_MT')"
   ]
  },
  {
   "cell_type": "code",
   "execution_count": 1142,
   "metadata": {},
   "outputs": [
    {
     "data": {
      "text/plain": [
       "['NU_INSCRICAO',\n",
       " 'SG_UF_RESIDENCIA',\n",
       " 'TP_SEXO',\n",
       " 'CO_PROVA_CN',\n",
       " 'CO_PROVA_CH',\n",
       " 'CO_PROVA_LC',\n",
       " 'CO_PROVA_MT',\n",
       " 'Q001',\n",
       " 'Q002',\n",
       " 'Q006',\n",
       " 'Q024',\n",
       " 'Q025',\n",
       " 'Q026',\n",
       " 'Q027',\n",
       " 'Q047']"
      ]
     },
     "execution_count": 1142,
     "metadata": {},
     "output_type": "execute_result"
    }
   ],
   "source": [
    "# verifica as vars categórias\n",
    "categorical_var = df_train.select_dtypes(exclude='number').columns.tolist()\n",
    "categorical_var"
   ]
  },
  {
   "cell_type": "code",
   "execution_count": 1143,
   "metadata": {},
   "outputs": [],
   "source": [
    "# converte essas colunas em string para posterior transformação\n",
    "df_train['Q027']= df_train['Q027'].astype(str)\n",
    "df_test['Q027']= df_test['Q027'].astype(str)"
   ]
  },
  {
   "cell_type": "code",
   "execution_count": 1144,
   "metadata": {},
   "outputs": [
    {
     "name": "stderr",
     "output_type": "stream",
     "text": [
      "/anaconda3/lib/python3.7/site-packages/sklearn/preprocessing/_label.py:251: DataConversionWarning: A column-vector y was passed when a 1d array was expected. Please change the shape of y to (n_samples, ), for example using ravel().\n",
      "  y = column_or_1d(y, warn=True)\n"
     ]
    }
   ],
   "source": [
    "# transforma as features TREINO não númericas em campos númericos\n",
    "LE = LabelEncoder()\n",
    "for coluna in df_train.columns:\n",
    "        if coluna in categorical_var:\n",
    "            try:\n",
    "                df_train[coluna] = LE.fit_transform(df_train[[coluna]])\n",
    "\n",
    "            except:\n",
    "                print(f\"Nao foi possivel realizar a operacao para a coluna {coluna}\")"
   ]
  },
  {
   "cell_type": "code",
   "execution_count": 1146,
   "metadata": {},
   "outputs": [],
   "source": [
    "# transforma as features TESTE não númericas em campos númericos\n",
    "LE = LabelEncoder()\n",
    "for coluna in df_test.columns:\n",
    "        if coluna in categorical_var:\n",
    "            try:\n",
    "                df_test[coluna] = LE.fit_transform(df_test[[coluna]])\n",
    "\n",
    "            except:\n",
    "                print(f\"Nao foi possivel realizar a operacao para a coluna {coluna}\")"
   ]
  },
  {
   "cell_type": "markdown",
   "metadata": {},
   "source": [
    "### Modelo com GradientBoostRegressor\n",
    "___"
   ]
  },
  {
   "cell_type": "code",
   "execution_count": 1155,
   "metadata": {},
   "outputs": [],
   "source": [
    "# separando os dados de treino e test\n",
    "X_train = df_train[features]\n",
    "y_train = df_train['NU_NOTA_MT']  # variável target\n",
    "X_test = df_test[features]"
   ]
  },
  {
   "cell_type": "code",
   "execution_count": 1156,
   "metadata": {},
   "outputs": [
    {
     "name": "stderr",
     "output_type": "stream",
     "text": [
      "/anaconda3/lib/python3.7/site-packages/sklearn/model_selection/_search.py:281: UserWarning: The total space of parameters 1 is smaller than n_iter=10. Running 1 iterations. For exhaustive searches, use GridSearchCV.\n",
      "  % (grid_size, self.n_iter, grid_size), UserWarning)\n"
     ]
    },
    {
     "data": {
      "text/plain": [
       "RandomizedSearchCV(cv=5, error_score=nan,\n",
       "                   estimator=Pipeline(memory=None,\n",
       "                                      steps=[('scaler',\n",
       "                                              StandardScaler(copy=True,\n",
       "                                                             with_mean=True,\n",
       "                                                             with_std=True)),\n",
       "                                             ('GradientBoostingRegressor',\n",
       "                                              GradientBoostingRegressor(alpha=0.9,\n",
       "                                                                        ccp_alpha=0.0,\n",
       "                                                                        criterion='friedman_mse',\n",
       "                                                                        init=None,\n",
       "                                                                        learning_rate=0.1,\n",
       "                                                                        loss='ls',\n",
       "                                                                        max_depth=3,\n",
       "                                                                        max_features=None,\n",
       "                                                                        max_leaf_nodes=None,\n",
       "                                                                        min_impurity_d...\n",
       "                                                                        min_weight_fraction_leaf=0.0,\n",
       "                                                                        n_estimators=100,\n",
       "                                                                        n_iter_no_change=None,\n",
       "                                                                        presort='deprecated',\n",
       "                                                                        random_state=None,\n",
       "                                                                        subsample=1.0,\n",
       "                                                                        tol=0.0001,\n",
       "                                                                        validation_fraction=0.1,\n",
       "                                                                        verbose=0,\n",
       "                                                                        warm_start=False))],\n",
       "                                      verbose=False),\n",
       "                   iid='deprecated', n_iter=10, n_jobs=None,\n",
       "                   param_distributions={}, pre_dispatch='2*n_jobs',\n",
       "                   random_state=None, refit=True, return_train_score=True,\n",
       "                   scoring=None, verbose=0)"
      ]
     },
     "execution_count": 1156,
     "metadata": {},
     "output_type": "execute_result"
    }
   ],
   "source": [
    "# importa o modelo GradientBoostingRegressor e normaliza os dados com o StandardScaler\n",
    "pipe_GBM = Pipeline([('scaler',StandardScaler()),('GradientBoostingRegressor',GradientBoostingRegressor())])\n",
    "CV_pipe_GBM = RandomizedSearchCV(estimator = pipe_GBM, param_distributions = {},cv = 5,return_train_score=True, verbose=0)\n",
    "CV_pipe_GBM.fit(X_train, y_train)"
   ]
  },
  {
   "cell_type": "code",
   "execution_count": 1157,
   "metadata": {},
   "outputs": [],
   "source": [
    "# faz a predição das notas de matemática\n",
    "y_pred = CV_pipe_GBM.predict(X_test)"
   ]
  },
  {
   "cell_type": "code",
   "execution_count": 1158,
   "metadata": {},
   "outputs": [],
   "source": [
    "# armazena as notas que o modelo preveu no dataset resposta\n",
    "df_resposta['NU_NOTA_MT'] = np.around(y_pred,2)"
   ]
  },
  {
   "cell_type": "code",
   "execution_count": 1159,
   "metadata": {},
   "outputs": [],
   "source": [
    "# gera o arquivo de respostas com a inscrição do aluno e a nota de matemática predita\n",
    "df_resposta.to_csv('answer.csv', index=False, header=True)"
   ]
  },
  {
   "cell_type": "code",
   "execution_count": 1160,
   "metadata": {},
   "outputs": [
    {
     "data": {
      "text/html": [
       "<div>\n",
       "<style scoped>\n",
       "    .dataframe tbody tr th:only-of-type {\n",
       "        vertical-align: middle;\n",
       "    }\n",
       "\n",
       "    .dataframe tbody tr th {\n",
       "        vertical-align: top;\n",
       "    }\n",
       "\n",
       "    .dataframe thead th {\n",
       "        text-align: right;\n",
       "    }\n",
       "</style>\n",
       "<table border=\"1\" class=\"dataframe\">\n",
       "  <thead>\n",
       "    <tr style=\"text-align: right;\">\n",
       "      <th></th>\n",
       "      <th>NU_INSCRICAO</th>\n",
       "      <th>NU_NOTA_MT</th>\n",
       "    </tr>\n",
       "  </thead>\n",
       "  <tbody>\n",
       "    <tr>\n",
       "      <th>0</th>\n",
       "      <td>73ff9fcc02f0a99919906c942c2e1a1042cdcf98</td>\n",
       "      <td>432.45</td>\n",
       "    </tr>\n",
       "    <tr>\n",
       "      <th>1</th>\n",
       "      <td>71a95f9f1b91a82c65ad94abbdf9f54e6066f968</td>\n",
       "      <td>443.34</td>\n",
       "    </tr>\n",
       "    <tr>\n",
       "      <th>2</th>\n",
       "      <td>b38a03232f43b11c9d0788abaf060f7366053b6d</td>\n",
       "      <td>596.28</td>\n",
       "    </tr>\n",
       "    <tr>\n",
       "      <th>3</th>\n",
       "      <td>70b682d9a3636be23f6120fa9d6b164eb3c6002d</td>\n",
       "      <td>-1.54</td>\n",
       "    </tr>\n",
       "    <tr>\n",
       "      <th>4</th>\n",
       "      <td>715494628a50142ce8cb17191cfe6d0f3cae0934</td>\n",
       "      <td>563.97</td>\n",
       "    </tr>\n",
       "    <tr>\n",
       "      <th>...</th>\n",
       "      <td>...</td>\n",
       "      <td>...</td>\n",
       "    </tr>\n",
       "    <tr>\n",
       "      <th>4571</th>\n",
       "      <td>dac0f22429c7f8e3931d0abaf5dfc8e5c772a48b</td>\n",
       "      <td>457.97</td>\n",
       "    </tr>\n",
       "    <tr>\n",
       "      <th>4572</th>\n",
       "      <td>a75fa8770257e7c9368d059fe53d9ef431f4bdef</td>\n",
       "      <td>471.08</td>\n",
       "    </tr>\n",
       "    <tr>\n",
       "      <th>4573</th>\n",
       "      <td>655fa6306720ff16e825903b5422a46608a77545</td>\n",
       "      <td>673.66</td>\n",
       "    </tr>\n",
       "    <tr>\n",
       "      <th>4574</th>\n",
       "      <td>1f4bc3e3d56212d500625bfe8ac78ccff4362293</td>\n",
       "      <td>455.41</td>\n",
       "    </tr>\n",
       "    <tr>\n",
       "      <th>4575</th>\n",
       "      <td>adf0d15b54317b6564ef56dad2b775bbb0ef50cc</td>\n",
       "      <td>1.04</td>\n",
       "    </tr>\n",
       "  </tbody>\n",
       "</table>\n",
       "<p>4576 rows × 2 columns</p>\n",
       "</div>"
      ],
      "text/plain": [
       "                                  NU_INSCRICAO  NU_NOTA_MT\n",
       "0     73ff9fcc02f0a99919906c942c2e1a1042cdcf98      432.45\n",
       "1     71a95f9f1b91a82c65ad94abbdf9f54e6066f968      443.34\n",
       "2     b38a03232f43b11c9d0788abaf060f7366053b6d      596.28\n",
       "3     70b682d9a3636be23f6120fa9d6b164eb3c6002d       -1.54\n",
       "4     715494628a50142ce8cb17191cfe6d0f3cae0934      563.97\n",
       "...                                        ...         ...\n",
       "4571  dac0f22429c7f8e3931d0abaf5dfc8e5c772a48b      457.97\n",
       "4572  a75fa8770257e7c9368d059fe53d9ef431f4bdef      471.08\n",
       "4573  655fa6306720ff16e825903b5422a46608a77545      673.66\n",
       "4574  1f4bc3e3d56212d500625bfe8ac78ccff4362293      455.41\n",
       "4575  adf0d15b54317b6564ef56dad2b775bbb0ef50cc        1.04\n",
       "\n",
       "[4576 rows x 2 columns]"
      ]
     },
     "execution_count": 1160,
     "metadata": {},
     "output_type": "execute_result"
    }
   ],
   "source": [
    "# verifica o dataset final\n",
    "df_resposta"
   ]
  },
  {
   "cell_type": "markdown",
   "metadata": {},
   "source": [
    "____\n",
    "\n",
    "#### Considerações Finais\n",
    "\n",
    "Fiz alguns testes incluindo e excluindo algumas features, deixei abaixo as descrições das features que usei e o respectivo score obtido.\n",
    "\n",
    "Como podemos ver obtive o melhor score com as features acima que usei no modelo final, obtendo um score final 93.803521."
   ]
  },
  {
   "cell_type": "markdown",
   "metadata": {},
   "source": [
    "\n",
    "- #### Score obtido no desafio da semana: 93.792215%"
   ]
  },
  {
   "cell_type": "markdown",
   "metadata": {},
   "source": [
    "features =['NU_IDADE',\n",
    "            'TP_SEXO',\n",
    "            'TP_COR_RACA',\n",
    "            'TP_ST_CONCLUSAO',\n",
    "            'TP_ANO_CONCLUIU',\n",
    "            'TP_ESCOLA',\n",
    "            'IN_DISCALCULIA',\n",
    "            'CO_PROVA_CH',\n",
    "            'CO_PROVA_LC',\n",
    "            'CO_PROVA_MT',\n",
    "            'TP_PRESENCA_CN',\n",
    "            'TP_LINGUA',\n",
    "            'NU_NOTA_COMP1',\n",
    "            'NU_NOTA_COMP2',\n",
    "            'NU_NOTA_COMP3',\n",
    "            'NU_NOTA_COMP4',\n",
    "            'NU_NOTA_COMP5',\n",
    "            'NU_NOTA_CN',\n",
    "            'NU_NOTA_CH',\n",
    "            'NU_NOTA_LC',\n",
    "            'NU_NOTA_REDACAO',\n",
    "            'Q001',\n",
    "            'Q002',\n",
    "            'Q006',\n",
    "            'Q024',\n",
    "            'Q025',\n",
    "            'Q026',\n",
    "            'Q027',\n",
    "            'Q047',\n",
    "            'SG_UF_RESIDENCIA',\n",
    "            'CO_UF_RESIDENCIA',\n",
    "            'NU_NOTA_MT'] "
   ]
  },
  {
   "cell_type": "markdown",
   "metadata": {},
   "source": [
    "____\n",
    "- #### Score obtido no desafio da semana: 93.795454%"
   ]
  },
  {
   "cell_type": "markdown",
   "metadata": {},
   "source": [
    "features =['SG_UF_RESIDENCIA',\n",
    "            'CO_UF_RESIDENCIA',\n",
    "            'NU_IDADE',\n",
    "            'TP_SEXO',\n",
    "            'TP_COR_RACA',\n",
    "            'TP_ST_CONCLUSAO',\n",
    "            'TP_ANO_CONCLUIU',\n",
    "            'TP_ESCOLA',\n",
    "            'IN_TREINEIRO',\n",
    "            'TP_DEPENDENCIA_ADM_ESC',\n",
    "            'IN_SABATISTA',\n",
    "            'IN_GESTANTE',\n",
    "            'IN_IDOSO',\n",
    "            'TP_PRESENCA_CN',\n",
    "            'TP_PRESENCA_CH',\n",
    "            'TP_PRESENCA_LC',\n",
    "            'CO_PROVA_CN',\n",
    "            'CO_PROVA_CH',\n",
    "            'CO_PROVA_LC',\n",
    "            'CO_PROVA_MT',\n",
    "            'NU_NOTA_CN',\n",
    "            'NU_NOTA_CH',\n",
    "            'NU_NOTA_LC',\n",
    "            'NU_NOTA_COMP1',\n",
    "            'NU_NOTA_COMP2',\n",
    "            'NU_NOTA_COMP3',\n",
    "            'NU_NOTA_COMP4',\n",
    "            'NU_NOTA_COMP5',\n",
    "            'NU_NOTA_REDACAO',\n",
    "            'Q001',\n",
    "            'Q002',\n",
    "            'Q006',\n",
    "            'Q024',\n",
    "            'Q025',\n",
    "            'Q026',\n",
    "            'Q027',\n",
    "            'Q047',\n",
    "            'NU_NOTA_MT'] "
   ]
  },
  {
   "cell_type": "markdown",
   "metadata": {},
   "source": [
    "____\n",
    "- #### Score obtido no desafio da semana: 93.802485%"
   ]
  },
  {
   "cell_type": "markdown",
   "metadata": {},
   "source": [
    "features =['NU_IDADE',\n",
    "            'TP_SEXO',\n",
    "            'TP_COR_RACA',\n",
    "            'TP_ST_CONCLUSAO',\n",
    "            'TP_ANO_CONCLUIU',\n",
    "            'TP_ESCOLA',\n",
    "            'IN_TREINEIRO',\n",
    "            'TP_DEPENDENCIA_ADM_ESC',\n",
    "            'IN_SABATISTA',\n",
    "            'IN_GESTANTE',\n",
    "            'IN_IDOSO',\n",
    "            'TP_PRESENCA_CN',\n",
    "            'TP_PRESENCA_CH',\n",
    "            'TP_PRESENCA_LC',\n",
    "            'CO_PROVA_CN',\n",
    "            'CO_PROVA_CH',\n",
    "            'CO_PROVA_LC',\n",
    "            'CO_PROVA_MT',\n",
    "            'NU_NOTA_CN',\n",
    "            'NU_NOTA_CH',\n",
    "            'NU_NOTA_LC',\n",
    "            'NU_NOTA_COMP1',\n",
    "            'NU_NOTA_COMP2',\n",
    "            'NU_NOTA_COMP3',\n",
    "            'NU_NOTA_COMP4',\n",
    "            'NU_NOTA_COMP5',\n",
    "            'NU_NOTA_REDACAO',\n",
    "            'Q001',\n",
    "            'Q002',\n",
    "            'Q006',\n",
    "            'Q024',\n",
    "            'Q025',\n",
    "            'Q026',\n",
    "            'Q027',\n",
    "            'Q047',\n",
    "            'NU_NOTA_MT'] "
   ]
  },
  {
   "cell_type": "markdown",
   "metadata": {},
   "source": [
    "____\n",
    "- #### Score obtido no desafio da semana: 93.802712%"
   ]
  },
  {
   "cell_type": "markdown",
   "metadata": {},
   "source": [
    "features =['NU_IDADE',\n",
    "            'TP_SEXO',\n",
    "            'TP_COR_RACA',\n",
    "            'TP_ANO_CONCLUIU',\n",
    "            'TP_ESCOLA',\n",
    "            'IN_TREINEIRO',\n",
    "            'TP_DEPENDENCIA_ADM_ESC',\n",
    "            'IN_SABATISTA',\n",
    "            'IN_GESTANTE',\n",
    "            'IN_IDOSO',\n",
    "            'TP_PRESENCA_CN',\n",
    "            'TP_PRESENCA_CH',\n",
    "            'TP_PRESENCA_LC',\n",
    "            'CO_PROVA_CN',\n",
    "            'CO_PROVA_CH',\n",
    "            'CO_PROVA_LC',\n",
    "            'CO_PROVA_MT',\n",
    "            'NU_NOTA_CN',\n",
    "            'NU_NOTA_CH',\n",
    "            'NU_NOTA_LC',\n",
    "            'NU_NOTA_COMP1',\n",
    "            'NU_NOTA_COMP2',\n",
    "            'NU_NOTA_COMP3',\n",
    "            'NU_NOTA_COMP4',\n",
    "            'NU_NOTA_COMP5',\n",
    "            'NU_NOTA_REDACAO',\n",
    "            'Q001',\n",
    "            'Q002',\n",
    "            'Q006',\n",
    "            'Q024',\n",
    "            'Q025',\n",
    "            'Q026',\n",
    "            'Q027',\n",
    "            'Q047',\n",
    "            'NU_NOTA_MT'] "
   ]
  },
  {
   "cell_type": "markdown",
   "metadata": {},
   "source": [
    "____\n",
    "- ### Score FINAL obtido no desafio da semana"
   ]
  },
  {
   "cell_type": "markdown",
   "metadata": {},
   "source": [
    "features =['NU_IDADE',\n",
    "            'TP_SEXO',\n",
    "            'TP_COR_RACA',\n",
    "            'TP_ESCOLA',\n",
    "            'IN_TREINEIRO',\n",
    "            'TP_DEPENDENCIA_ADM_ESC',\n",
    "            'IN_SABATISTA',\n",
    "            'IN_GESTANTE',\n",
    "            'IN_IDOSO',\n",
    "            'TP_PRESENCA_CN',\n",
    "            'TP_PRESENCA_CH',\n",
    "            'TP_PRESENCA_LC',\n",
    "            'CO_PROVA_CN',\n",
    "            'CO_PROVA_CH',\n",
    "            'CO_PROVA_LC',\n",
    "            'CO_PROVA_MT',\n",
    "            'NU_NOTA_CN',\n",
    "            'NU_NOTA_CH',\n",
    "            'NU_NOTA_LC',\n",
    "            'NU_NOTA_COMP1',\n",
    "            'NU_NOTA_COMP2',\n",
    "            'NU_NOTA_COMP3',\n",
    "            'NU_NOTA_COMP4',\n",
    "            'NU_NOTA_COMP5',\n",
    "            'NU_NOTA_REDACAO',\n",
    "            'Q001',\n",
    "            'Q002',\n",
    "            'Q006',\n",
    "            'Q024',\n",
    "            'Q025',\n",
    "            'Q026',\n",
    "            'Q027',\n",
    "            'Q047',\n",
    "            'NU_NOTA_MT'] "
   ]
  },
  {
   "cell_type": "markdown",
   "metadata": {},
   "source": [
    "![title](score_enem2.png)"
   ]
  },
  {
   "cell_type": "markdown",
   "metadata": {},
   "source": [
    "____\n",
    "## Conclusão\n",
    "___"
   ]
  },
  {
   "cell_type": "markdown",
   "metadata": {},
   "source": [
    "Aplicando as técnicas de features engineering aprendidas no curso para melhorar o desempenho do modelo\n",
    "\n",
    "O RFE, ou eliminação recursiva de recursos, é um algoritmo de seleção de recursos. É muito popular porque é fácil de configurar e usar e porque é eficaz na seleção dos recursos (colunas) em um conjunto de dados de treinamento que são mais ou mais relevantes na previsão da variável de destino.\n",
    "\n",
    "Pra esse desafio da semana também utilizei o modelo **GradientBoostRegressor** com 34 features com uma melhora no resultado obtendo **score de 93,803521%.** \n",
    "\n",
    "O objetivo do score do desafio da semana foi alcançado e os próximos passos é aprender sobre as outras técnicas de features engineering.\n",
    "\n",
    "Entretanto, com o fim da aceleração a plataforma não estará mais acessível para submeter o modelo e validar o score.\n",
    "\n",
    "____"
   ]
  }
 ],
 "metadata": {
  "kernelspec": {
   "display_name": "Python 3",
   "language": "python",
   "name": "python3"
  },
  "language_info": {
   "codemirror_mode": {
    "name": "ipython",
    "version": 3
   },
   "file_extension": ".py",
   "mimetype": "text/x-python",
   "name": "python",
   "nbconvert_exporter": "python",
   "pygments_lexer": "ipython3",
   "version": "3.7.7"
  }
 },
 "nbformat": 4,
 "nbformat_minor": 4
}
